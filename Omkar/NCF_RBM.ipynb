{
 "cells": [
  {
   "cell_type": "code",
   "execution_count": 10,
   "metadata": {
    "colab": {
     "base_uri": "https://localhost:8080/"
    },
    "id": "-2WSXCN-3OLg",
    "outputId": "17c116e5-588f-4b88-e9d9-050af5a5f451"
   },
   "outputs": [
    {
     "name": "stdout",
     "output_type": "stream",
     "text": [
      "Looking in indexes: https://pypi.org/simple, https://us-python.pkg.dev/colab-wheels/public/simple/\n",
      "Looking in links: https://download.pytorch.org/whl/torch_stable.html\n",
      "Collecting torch===1.11.0\n",
      "  Using cached torch-1.11.0-cp310-cp310-manylinux1_x86_64.whl (750.6 MB)\n",
      "Collecting torchvision===0.12.0\n",
      "  Downloading torchvision-0.12.0-cp310-cp310-manylinux1_x86_64.whl (21.0 MB)\n",
      "\u001b[2K     \u001b[90m━━━━━━━━━━━━━━━━━━━━━━━━━━━━━━━━━━━━━━━━\u001b[0m \u001b[32m21.0/21.0 MB\u001b[0m \u001b[31m59.2 MB/s\u001b[0m eta \u001b[36m0:00:00\u001b[0m\n",
      "\u001b[?25hRequirement already satisfied: typing-extensions in /usr/local/lib/python3.10/dist-packages (from torch===1.11.0) (4.5.0)\n",
      "Requirement already satisfied: requests in /usr/local/lib/python3.10/dist-packages (from torchvision===0.12.0) (2.27.1)\n",
      "Requirement already satisfied: numpy in /usr/local/lib/python3.10/dist-packages (from torchvision===0.12.0) (1.22.4)\n",
      "Requirement already satisfied: pillow!=8.3.*,>=5.3.0 in /usr/local/lib/python3.10/dist-packages (from torchvision===0.12.0) (8.4.0)\n",
      "Requirement already satisfied: certifi>=2017.4.17 in /usr/local/lib/python3.10/dist-packages (from requests->torchvision===0.12.0) (2022.12.7)\n",
      "Requirement already satisfied: idna<4,>=2.5 in /usr/local/lib/python3.10/dist-packages (from requests->torchvision===0.12.0) (3.4)\n",
      "Requirement already satisfied: urllib3<1.27,>=1.21.1 in /usr/local/lib/python3.10/dist-packages (from requests->torchvision===0.12.0) (1.26.15)\n",
      "Requirement already satisfied: charset-normalizer~=2.0.0 in /usr/local/lib/python3.10/dist-packages (from requests->torchvision===0.12.0) (2.0.12)\n",
      "Installing collected packages: torch, torchvision\n",
      "  Attempting uninstall: torch\n",
      "    Found existing installation: torch 2.0.0+cu118\n",
      "    Uninstalling torch-2.0.0+cu118:\n",
      "      Successfully uninstalled torch-2.0.0+cu118\n",
      "  Attempting uninstall: torchvision\n",
      "    Found existing installation: torchvision 0.15.1+cu118\n",
      "    Uninstalling torchvision-0.15.1+cu118:\n",
      "      Successfully uninstalled torchvision-0.15.1+cu118\n",
      "\u001b[31mERROR: pip's dependency resolver does not currently take into account all the packages that are installed. This behaviour is the source of the following dependency conflicts.\n",
      "torchtext 0.15.1 requires torch==2.0.0, but you have torch 1.11.0 which is incompatible.\n",
      "torchdata 0.6.0 requires torch==2.0.0, but you have torch 1.11.0 which is incompatible.\n",
      "torchaudio 2.0.1+cu118 requires torch==2.0.0, but you have torch 1.11.0 which is incompatible.\u001b[0m\u001b[31m\n",
      "\u001b[0mSuccessfully installed torch-1.11.0 torchvision-0.12.0\n"
     ]
    }
   ],
   "source": [
    "!pip install torch===1.11.0 torchvision===0.12.0 -f https://download.pytorch.org/whl/torch_stable.html"
   ]
  },
  {
   "cell_type": "code",
   "execution_count": null,
   "metadata": {},
   "outputs": [],
   "source": []
  },
  {
   "cell_type": "markdown",
   "metadata": {},
   "source": [
    "# RBM referd from: https://github.com/devalindey/Recommender-System-with-RBM-using-PyTorch\n",
    "\n",
    "# KGCN refered from: https://github.com/hwwang55/KGCN"
   ]
  },
  {
   "cell_type": "code",
   "execution_count": null,
   "metadata": {},
   "outputs": [],
   "source": []
  },
  {
   "cell_type": "code",
   "execution_count": 2,
   "metadata": {
    "colab": {
     "base_uri": "https://localhost:8080/"
    },
    "id": "_as3pT8s3OX1",
    "outputId": "3886347f-260a-44b3-a35e-3f453d616ef6"
   },
   "outputs": [],
   "source": [
    "import numpy as np\n",
    "import pandas as pd\n",
    "import torch\n",
    "import torch.nn as nn\n",
    "import torch.nn.parallel\n",
    "import torch.optim as optim\n",
    "import torch.utils.data\n",
    "from torch.autograd import Variable\n"
   ]
  },
  {
   "cell_type": "code",
   "execution_count": 1,
   "metadata": {},
   "outputs": [],
   "source": [
    "import numpy as np\n",
    "import pandas as pd\n",
    "import torch\n",
    "import torch.nn as nn\n",
    "import torch.nn.parallel\n",
    "import torch.optim as optim\n",
    "import torch.utils.data\n",
    "from torch.autograd import Variable\n"
   ]
  },
  {
   "cell_type": "code",
   "execution_count": 47,
   "metadata": {
    "id": "2_mB-KTZXiep"
   },
   "outputs": [],
   "source": [
    "#training_set.head()"
   ]
  },
  {
   "cell_type": "code",
   "execution_count": 100,
   "metadata": {
    "id": "_K7GUoWkT0hy"
   },
   "outputs": [],
   "source": [
    "data=pd.read_csv('final.csv', header=None)"
   ]
  },
  {
   "cell_type": "code",
   "execution_count": 101,
   "metadata": {
    "colab": {
     "base_uri": "https://localhost:8080/",
     "height": 206
    },
    "id": "_y84xJ_NUe0k",
    "outputId": "eccecbfd-5569-4f9d-824d-487e54daaebd"
   },
   "outputs": [
    {
     "data": {
      "text/html": [
       "<div>\n",
       "<style scoped>\n",
       "    .dataframe tbody tr th:only-of-type {\n",
       "        vertical-align: middle;\n",
       "    }\n",
       "\n",
       "    .dataframe tbody tr th {\n",
       "        vertical-align: top;\n",
       "    }\n",
       "\n",
       "    .dataframe thead th {\n",
       "        text-align: right;\n",
       "    }\n",
       "</style>\n",
       "<table border=\"1\" class=\"dataframe\">\n",
       "  <thead>\n",
       "    <tr style=\"text-align: right;\">\n",
       "      <th></th>\n",
       "      <th>0</th>\n",
       "      <th>1</th>\n",
       "      <th>2</th>\n",
       "      <th>3</th>\n",
       "      <th>4</th>\n",
       "      <th>5</th>\n",
       "      <th>6</th>\n",
       "    </tr>\n",
       "  </thead>\n",
       "  <tbody>\n",
       "    <tr>\n",
       "      <th>0</th>\n",
       "      <td>76561197970982479</td>\n",
       "      <td>1250</td>\n",
       "      <td>1</td>\n",
       "      <td>76561197970982479</td>\n",
       "      <td>10006</td>\n",
       "      <td>0</td>\n",
       "      <td>0</td>\n",
       "    </tr>\n",
       "    <tr>\n",
       "      <th>1</th>\n",
       "      <td>76561197970982479</td>\n",
       "      <td>22200</td>\n",
       "      <td>1</td>\n",
       "      <td>76561197970982479</td>\n",
       "      <td>271</td>\n",
       "      <td>0</td>\n",
       "      <td>0</td>\n",
       "    </tr>\n",
       "    <tr>\n",
       "      <th>2</th>\n",
       "      <td>76561197970982479</td>\n",
       "      <td>43110</td>\n",
       "      <td>1</td>\n",
       "      <td>76561197970982479</td>\n",
       "      <td>834</td>\n",
       "      <td>0</td>\n",
       "      <td>0</td>\n",
       "    </tr>\n",
       "    <tr>\n",
       "      <th>3</th>\n",
       "      <td>js41637</td>\n",
       "      <td>227300</td>\n",
       "      <td>1</td>\n",
       "      <td>76561198035864385</td>\n",
       "      <td>551</td>\n",
       "      <td>0</td>\n",
       "      <td>1</td>\n",
       "    </tr>\n",
       "    <tr>\n",
       "      <th>4</th>\n",
       "      <td>js41637</td>\n",
       "      <td>239030</td>\n",
       "      <td>1</td>\n",
       "      <td>76561198035864385</td>\n",
       "      <td>349</td>\n",
       "      <td>0</td>\n",
       "      <td>1</td>\n",
       "    </tr>\n",
       "  </tbody>\n",
       "</table>\n",
       "</div>"
      ],
      "text/plain": [
       "                   0       1  2                  3      4  5  6\n",
       "0  76561197970982479    1250  1  76561197970982479  10006  0  0\n",
       "1  76561197970982479   22200  1  76561197970982479    271  0  0\n",
       "2  76561197970982479   43110  1  76561197970982479    834  0  0\n",
       "3            js41637  227300  1  76561198035864385    551  0  1\n",
       "4            js41637  239030  1  76561198035864385    349  0  1"
      ]
     },
     "execution_count": 101,
     "metadata": {},
     "output_type": "execute_result"
    }
   ],
   "source": [
    "data.head()"
   ]
  },
  {
   "cell_type": "code",
   "execution_count": 102,
   "metadata": {},
   "outputs": [],
   "source": [
    "data.rename(columns={6:'userId',1:'itemId',2:'rating'},inplace = True)"
   ]
  },
  {
   "cell_type": "code",
   "execution_count": 103,
   "metadata": {},
   "outputs": [
    {
     "data": {
      "text/html": [
       "<div>\n",
       "<style scoped>\n",
       "    .dataframe tbody tr th:only-of-type {\n",
       "        vertical-align: middle;\n",
       "    }\n",
       "\n",
       "    .dataframe tbody tr th {\n",
       "        vertical-align: top;\n",
       "    }\n",
       "\n",
       "    .dataframe thead th {\n",
       "        text-align: right;\n",
       "    }\n",
       "</style>\n",
       "<table border=\"1\" class=\"dataframe\">\n",
       "  <thead>\n",
       "    <tr style=\"text-align: right;\">\n",
       "      <th></th>\n",
       "      <th>0</th>\n",
       "      <th>itemId</th>\n",
       "      <th>rating</th>\n",
       "      <th>3</th>\n",
       "      <th>4</th>\n",
       "      <th>5</th>\n",
       "      <th>userId</th>\n",
       "    </tr>\n",
       "  </thead>\n",
       "  <tbody>\n",
       "    <tr>\n",
       "      <th>0</th>\n",
       "      <td>76561197970982479</td>\n",
       "      <td>1250</td>\n",
       "      <td>1</td>\n",
       "      <td>76561197970982479</td>\n",
       "      <td>10006</td>\n",
       "      <td>0</td>\n",
       "      <td>0</td>\n",
       "    </tr>\n",
       "    <tr>\n",
       "      <th>1</th>\n",
       "      <td>76561197970982479</td>\n",
       "      <td>22200</td>\n",
       "      <td>1</td>\n",
       "      <td>76561197970982479</td>\n",
       "      <td>271</td>\n",
       "      <td>0</td>\n",
       "      <td>0</td>\n",
       "    </tr>\n",
       "    <tr>\n",
       "      <th>2</th>\n",
       "      <td>76561197970982479</td>\n",
       "      <td>43110</td>\n",
       "      <td>1</td>\n",
       "      <td>76561197970982479</td>\n",
       "      <td>834</td>\n",
       "      <td>0</td>\n",
       "      <td>0</td>\n",
       "    </tr>\n",
       "    <tr>\n",
       "      <th>3</th>\n",
       "      <td>js41637</td>\n",
       "      <td>227300</td>\n",
       "      <td>1</td>\n",
       "      <td>76561198035864385</td>\n",
       "      <td>551</td>\n",
       "      <td>0</td>\n",
       "      <td>1</td>\n",
       "    </tr>\n",
       "    <tr>\n",
       "      <th>4</th>\n",
       "      <td>js41637</td>\n",
       "      <td>239030</td>\n",
       "      <td>1</td>\n",
       "      <td>76561198035864385</td>\n",
       "      <td>349</td>\n",
       "      <td>0</td>\n",
       "      <td>1</td>\n",
       "    </tr>\n",
       "  </tbody>\n",
       "</table>\n",
       "</div>"
      ],
      "text/plain": [
       "                   0  itemId  rating                  3      4  5  userId\n",
       "0  76561197970982479    1250       1  76561197970982479  10006  0       0\n",
       "1  76561197970982479   22200       1  76561197970982479    271  0       0\n",
       "2  76561197970982479   43110       1  76561197970982479    834  0       0\n",
       "3            js41637  227300       1  76561198035864385    551  0       1\n",
       "4            js41637  239030       1  76561198035864385    349  0       1"
      ]
     },
     "execution_count": 103,
     "metadata": {},
     "output_type": "execute_result"
    }
   ],
   "source": [
    "data.head()"
   ]
  },
  {
   "cell_type": "code",
   "execution_count": 82,
   "metadata": {
    "id": "eXdnFspwU8-W"
   },
   "outputs": [],
   "source": [
    "data1=data[['id','item_id','recommend']]"
   ]
  },
  {
   "cell_type": "code",
   "execution_count": 104,
   "metadata": {},
   "outputs": [],
   "source": [
    "data1=data.copy()"
   ]
  },
  {
   "cell_type": "code",
   "execution_count": 105,
   "metadata": {
    "colab": {
     "base_uri": "https://localhost:8080/",
     "height": 206
    },
    "id": "iW0fHQoVVVA0",
    "outputId": "3299f92b-54f7-4309-c6ff-9a6e8c1139ec"
   },
   "outputs": [
    {
     "data": {
      "text/html": [
       "<div>\n",
       "<style scoped>\n",
       "    .dataframe tbody tr th:only-of-type {\n",
       "        vertical-align: middle;\n",
       "    }\n",
       "\n",
       "    .dataframe tbody tr th {\n",
       "        vertical-align: top;\n",
       "    }\n",
       "\n",
       "    .dataframe thead th {\n",
       "        text-align: right;\n",
       "    }\n",
       "</style>\n",
       "<table border=\"1\" class=\"dataframe\">\n",
       "  <thead>\n",
       "    <tr style=\"text-align: right;\">\n",
       "      <th></th>\n",
       "      <th>0</th>\n",
       "      <th>itemId</th>\n",
       "      <th>rating</th>\n",
       "      <th>3</th>\n",
       "      <th>4</th>\n",
       "      <th>5</th>\n",
       "      <th>userId</th>\n",
       "    </tr>\n",
       "  </thead>\n",
       "  <tbody>\n",
       "    <tr>\n",
       "      <th>0</th>\n",
       "      <td>76561197970982479</td>\n",
       "      <td>1250</td>\n",
       "      <td>1</td>\n",
       "      <td>76561197970982479</td>\n",
       "      <td>10006</td>\n",
       "      <td>0</td>\n",
       "      <td>0</td>\n",
       "    </tr>\n",
       "    <tr>\n",
       "      <th>1</th>\n",
       "      <td>76561197970982479</td>\n",
       "      <td>22200</td>\n",
       "      <td>1</td>\n",
       "      <td>76561197970982479</td>\n",
       "      <td>271</td>\n",
       "      <td>0</td>\n",
       "      <td>0</td>\n",
       "    </tr>\n",
       "    <tr>\n",
       "      <th>2</th>\n",
       "      <td>76561197970982479</td>\n",
       "      <td>43110</td>\n",
       "      <td>1</td>\n",
       "      <td>76561197970982479</td>\n",
       "      <td>834</td>\n",
       "      <td>0</td>\n",
       "      <td>0</td>\n",
       "    </tr>\n",
       "    <tr>\n",
       "      <th>3</th>\n",
       "      <td>js41637</td>\n",
       "      <td>227300</td>\n",
       "      <td>1</td>\n",
       "      <td>76561198035864385</td>\n",
       "      <td>551</td>\n",
       "      <td>0</td>\n",
       "      <td>1</td>\n",
       "    </tr>\n",
       "    <tr>\n",
       "      <th>4</th>\n",
       "      <td>js41637</td>\n",
       "      <td>239030</td>\n",
       "      <td>1</td>\n",
       "      <td>76561198035864385</td>\n",
       "      <td>349</td>\n",
       "      <td>0</td>\n",
       "      <td>1</td>\n",
       "    </tr>\n",
       "  </tbody>\n",
       "</table>\n",
       "</div>"
      ],
      "text/plain": [
       "                   0  itemId  rating                  3      4  5  userId\n",
       "0  76561197970982479    1250       1  76561197970982479  10006  0       0\n",
       "1  76561197970982479   22200       1  76561197970982479    271  0       0\n",
       "2  76561197970982479   43110       1  76561197970982479    834  0       0\n",
       "3            js41637  227300       1  76561198035864385    551  0       1\n",
       "4            js41637  239030       1  76561198035864385    349  0       1"
      ]
     },
     "execution_count": 105,
     "metadata": {},
     "output_type": "execute_result"
    }
   ],
   "source": [
    "data1.head()"
   ]
  },
  {
   "cell_type": "code",
   "execution_count": 106,
   "metadata": {},
   "outputs": [
    {
     "data": {
      "text/plain": [
       "(40315, 7)"
      ]
     },
     "execution_count": 106,
     "metadata": {},
     "output_type": "execute_result"
    }
   ],
   "source": [
    "data1.shape"
   ]
  },
  {
   "cell_type": "code",
   "execution_count": 108,
   "metadata": {},
   "outputs": [
    {
     "data": {
      "text/plain": [
       "5177     40\n",
       "2073     36\n",
       "2980     36\n",
       "2407     36\n",
       "6570     36\n",
       "         ..\n",
       "10161     1\n",
       "10163     1\n",
       "10165     1\n",
       "10166     1\n",
       "2784      1\n",
       "Name: userId, Length: 18741, dtype: int64"
      ]
     },
     "execution_count": 108,
     "metadata": {},
     "output_type": "execute_result"
    }
   ],
   "source": [
    "data1.userId.value_counts()"
   ]
  },
  {
   "cell_type": "code",
   "execution_count": 109,
   "metadata": {},
   "outputs": [],
   "source": [
    "#keeping those data that has users that rated more than 20 games\n",
    "\n",
    "x = data1.groupby('userId').count()['rating'] >= 30"
   ]
  },
  {
   "cell_type": "code",
   "execution_count": 110,
   "metadata": {},
   "outputs": [
    {
     "data": {
      "text/plain": [
       "(18741,)"
      ]
     },
     "execution_count": 110,
     "metadata": {},
     "output_type": "execute_result"
    }
   ],
   "source": [
    "x.shape"
   ]
  },
  {
   "cell_type": "code",
   "execution_count": 111,
   "metadata": {},
   "outputs": [],
   "source": [
    "educated_users = x[x].index"
   ]
  },
  {
   "cell_type": "code",
   "execution_count": 112,
   "metadata": {},
   "outputs": [],
   "source": [
    "filtered_rating = data1[data1['userId'].isin(educated_users)]"
   ]
  },
  {
   "cell_type": "code",
   "execution_count": 131,
   "metadata": {},
   "outputs": [
    {
     "data": {
      "text/plain": [
       "(216, 7)"
      ]
     },
     "execution_count": 131,
     "metadata": {},
     "output_type": "execute_result"
    }
   ],
   "source": [
    "filtered_rating.shape"
   ]
  },
  {
   "cell_type": "code",
   "execution_count": null,
   "metadata": {},
   "outputs": [],
   "source": []
  },
  {
   "cell_type": "code",
   "execution_count": 20,
   "metadata": {
    "id": "Z0CULahTcAwa"
   },
   "outputs": [
    {
     "name": "stderr",
     "output_type": "stream",
     "text": [
      "C:\\Users\\OMKAR\\anaconda3\\lib\\site-packages\\pandas\\core\\indexing.py:1817: SettingWithCopyWarning: \n",
      "A value is trying to be set on a copy of a slice from a DataFrame.\n",
      "Try using .loc[row_indexer,col_indexer] = value instead\n",
      "\n",
      "See the caveats in the documentation: https://pandas.pydata.org/pandas-docs/stable/user_guide/indexing.html#returning-a-view-versus-a-copy\n",
      "  self._setitem_single_column(loc, value, pi)\n"
     ]
    }
   ],
   "source": [
    "data1.loc[data1['recommend'] ==True, 'recommend'] = 1"
   ]
  },
  {
   "cell_type": "code",
   "execution_count": 21,
   "metadata": {
    "id": "adDY31ogcqf_"
   },
   "outputs": [],
   "source": [
    "data1.loc[data1['recommend'] ==False, 'recommend'] = 0"
   ]
  },
  {
   "cell_type": "code",
   "execution_count": 22,
   "metadata": {
    "colab": {
     "base_uri": "https://localhost:8080/",
     "height": 206
    },
    "id": "YakqdfO2cui-",
    "outputId": "d02b3389-f2d6-40e2-b54f-cf99e1e51456"
   },
   "outputs": [
    {
     "data": {
      "text/html": [
       "<div>\n",
       "<style scoped>\n",
       "    .dataframe tbody tr th:only-of-type {\n",
       "        vertical-align: middle;\n",
       "    }\n",
       "\n",
       "    .dataframe tbody tr th {\n",
       "        vertical-align: top;\n",
       "    }\n",
       "\n",
       "    .dataframe thead th {\n",
       "        text-align: right;\n",
       "    }\n",
       "</style>\n",
       "<table border=\"1\" class=\"dataframe\">\n",
       "  <thead>\n",
       "    <tr style=\"text-align: right;\">\n",
       "      <th></th>\n",
       "      <th>id</th>\n",
       "      <th>item_id</th>\n",
       "      <th>recommend</th>\n",
       "    </tr>\n",
       "  </thead>\n",
       "  <tbody>\n",
       "    <tr>\n",
       "      <th>0</th>\n",
       "      <td>0</td>\n",
       "      <td>1250</td>\n",
       "      <td>1</td>\n",
       "    </tr>\n",
       "    <tr>\n",
       "      <th>1</th>\n",
       "      <td>0</td>\n",
       "      <td>22200</td>\n",
       "      <td>1</td>\n",
       "    </tr>\n",
       "    <tr>\n",
       "      <th>2</th>\n",
       "      <td>0</td>\n",
       "      <td>43110</td>\n",
       "      <td>1</td>\n",
       "    </tr>\n",
       "    <tr>\n",
       "      <th>3</th>\n",
       "      <td>1</td>\n",
       "      <td>227300</td>\n",
       "      <td>1</td>\n",
       "    </tr>\n",
       "    <tr>\n",
       "      <th>4</th>\n",
       "      <td>1</td>\n",
       "      <td>239030</td>\n",
       "      <td>1</td>\n",
       "    </tr>\n",
       "  </tbody>\n",
       "</table>\n",
       "</div>"
      ],
      "text/plain": [
       "   id  item_id recommend\n",
       "0   0     1250         1\n",
       "1   0    22200         1\n",
       "2   0    43110         1\n",
       "3   1   227300         1\n",
       "4   1   239030         1"
      ]
     },
     "execution_count": 22,
     "metadata": {},
     "output_type": "execute_result"
    }
   ],
   "source": [
    "data1.head()"
   ]
  },
  {
   "cell_type": "code",
   "execution_count": 114,
   "metadata": {
    "colab": {
     "base_uri": "https://localhost:8080/"
    },
    "id": "zBRIsPEFcx3v",
    "outputId": "1a7b372a-3461-4eaf-e12c-7d7e7e68aa1a"
   },
   "outputs": [
    {
     "data": {
      "text/plain": [
       "0         object\n",
       "itemId     int64\n",
       "rating     int64\n",
       "3          int64\n",
       "4          int64\n",
       "5          int64\n",
       "userId     int64\n",
       "dtype: object"
      ]
     },
     "execution_count": 114,
     "metadata": {},
     "output_type": "execute_result"
    }
   ],
   "source": [
    "filtered_rating.dtypes"
   ]
  },
  {
   "cell_type": "code",
   "execution_count": 132,
   "metadata": {},
   "outputs": [],
   "source": [
    "data2=filtered_rating[['itemId','rating','userId']]"
   ]
  },
  {
   "cell_type": "code",
   "execution_count": 24,
   "metadata": {
    "colab": {
     "base_uri": "https://localhost:8080/"
    },
    "id": "AIsEJZjrcyEu",
    "outputId": "07999f38-4b37-4d5e-d250-be5162e44cae"
   },
   "outputs": [
    {
     "name": "stderr",
     "output_type": "stream",
     "text": [
      "C:\\Users\\OMKAR\\AppData\\Local\\Temp\\ipykernel_10484\\1781703612.py:1: SettingWithCopyWarning: \n",
      "A value is trying to be set on a copy of a slice from a DataFrame.\n",
      "Try using .loc[row_indexer,col_indexer] = value instead\n",
      "\n",
      "See the caveats in the documentation: https://pandas.pydata.org/pandas-docs/stable/user_guide/indexing.html#returning-a-view-versus-a-copy\n",
      "  data1['recommend']=data1['recommend'].astype('int')\n"
     ]
    }
   ],
   "source": [
    "data1['recommend']=data1['recommend'].astype('int')"
   ]
  },
  {
   "cell_type": "code",
   "execution_count": 133,
   "metadata": {
    "id": "VU-6_Eied-1T"
   },
   "outputs": [],
   "source": [
    "from sklearn.model_selection import train_test_split\n",
    "\n",
    "training_set, test_set = train_test_split(data2, train_size=0.75)"
   ]
  },
  {
   "cell_type": "code",
   "execution_count": 53,
   "metadata": {
    "colab": {
     "base_uri": "https://localhost:8080/"
    },
    "id": "xWrGFxMsWAtY",
    "outputId": "08dc5d9f-6c5f-44b9-ecab-d8248fa725ef"
   },
   "outputs": [
    {
     "name": "stdout",
     "output_type": "stream",
     "text": [
      "Looking in indexes: https://pypi.org/simple, https://us-python.pkg.dev/colab-wheels/public/simple/\n",
      "Requirement already satisfied: surprise in /usr/local/lib/python3.10/dist-packages (0.1)\n",
      "Requirement already satisfied: scikit-surprise in /usr/local/lib/python3.10/dist-packages (from surprise) (1.1.3)\n",
      "Requirement already satisfied: joblib>=1.0.0 in /usr/local/lib/python3.10/dist-packages (from scikit-surprise->surprise) (1.2.0)\n",
      "Requirement already satisfied: scipy>=1.3.2 in /usr/local/lib/python3.10/dist-packages (from scikit-surprise->surprise) (1.10.1)\n",
      "Requirement already satisfied: numpy>=1.17.3 in /usr/local/lib/python3.10/dist-packages (from scikit-surprise->surprise) (1.22.4)\n"
     ]
    }
   ],
   "source": [
    "pip install surprise"
   ]
  },
  {
   "cell_type": "code",
   "execution_count": 26,
   "metadata": {
    "id": "dg1MqoUyV-QJ"
   },
   "outputs": [],
   "source": [
    "import pandas as pd\n",
    "import numpy as np\n",
    "from surprise import Dataset\n",
    "from surprise import Reader\n",
    "from surprise import BaselineOnly\n",
    "from surprise import KNNBasic\n",
    "from surprise import KNNBaseline\n",
    "from surprise import SVD\n",
    "from surprise import SVDpp\n",
    "from surprise.model_selection import cross_validate\n",
    "from surprise.model_selection import train_test_split\n",
    "from surprise.model_selection import GridSearchCV\n",
    "from surprise import KNNWithMeans"
   ]
  },
  {
   "cell_type": "code",
   "execution_count": 125,
   "metadata": {
    "id": "yk-M2gUHVXp4"
   },
   "outputs": [],
   "source": [
    "reader = Reader(line_format = 'user item rating', rating_scale=(1,5))\n",
    "\n",
    "data2 = Dataset.load_from_df(data2, reader)"
   ]
  },
  {
   "cell_type": "code",
   "execution_count": 30,
   "metadata": {
    "colab": {
     "base_uri": "https://localhost:8080/"
    },
    "id": "WDb27EhEbhZE",
    "outputId": "4442de7e-93e2-4d69-bb3b-3999b30df3b5"
   },
   "outputs": [
    {
     "data": {
      "text/plain": [
       "surprise.dataset.DatasetAutoFolds"
      ]
     },
     "execution_count": 30,
     "metadata": {},
     "output_type": "execute_result"
    }
   ],
   "source": [
    "type(data2)"
   ]
  },
  {
   "cell_type": "code",
   "execution_count": 134,
   "metadata": {
    "id": "DAQ0PcctVvbM"
   },
   "outputs": [],
   "source": [
    "traindata, testdata = train_test_split(data2, test_size= 0.25)"
   ]
  },
  {
   "cell_type": "code",
   "execution_count": 38,
   "metadata": {
    "id": "B5dekWYZXOk6"
   },
   "outputs": [],
   "source": [
    "training_set = np.array(traindata)\n",
    "test_set = np.array(testdata)"
   ]
  },
  {
   "cell_type": "code",
   "execution_count": 135,
   "metadata": {
    "id": "K48L7Sybd2vp"
   },
   "outputs": [],
   "source": [
    "training_set = np.array(training_set, dtype = 'int')\n",
    "\n",
    "test_set = np.array(test_set, dtype = 'int')\n"
   ]
  },
  {
   "cell_type": "code",
   "execution_count": 137,
   "metadata": {},
   "outputs": [],
   "source": [
    "#training_set"
   ]
  },
  {
   "cell_type": "code",
   "execution_count": null,
   "metadata": {},
   "outputs": [],
   "source": [
    "# Passing to their algorithm refered from github RBM: "
   ]
  },
  {
   "cell_type": "code",
   "execution_count": 75,
   "metadata": {
    "id": "fcsz4XX3bR8a"
   },
   "outputs": [],
   "source": [
    "#training_set"
   ]
  },
  {
   "cell_type": "code",
   "execution_count": 138,
   "metadata": {
    "id": "QUmI1LE09zQA"
   },
   "outputs": [],
   "source": [
    "# Getting the number of users and items\n",
    "nb_users = int(max(max(training_set[:,0]), max(test_set[:,0])))\n",
    "nb_items = int(max(max(training_set[:,1]), max(test_set[:,1])))"
   ]
  },
  {
   "cell_type": "code",
   "execution_count": 140,
   "metadata": {},
   "outputs": [],
   "source": [
    "#nb_users,nb_items"
   ]
  },
  {
   "cell_type": "code",
   "execution_count": 141,
   "metadata": {
    "id": "EH1_WAHPwjLl"
   },
   "outputs": [
    {
     "ename": "IndexError",
     "evalue": "index -2 is out of bounds for axis 0 with size 1",
     "output_type": "error",
     "traceback": [
      "\u001b[1;31m---------------------------------------------------------------------------\u001b[0m",
      "\u001b[1;31mIndexError\u001b[0m                                Traceback (most recent call last)",
      "Cell \u001b[1;32mIn[141], line 11\u001b[0m\n\u001b[0;32m      9\u001b[0m         new_data\u001b[38;5;241m.\u001b[39mappend(\u001b[38;5;28mlist\u001b[39m(ratings))\n\u001b[0;32m     10\u001b[0m     \u001b[38;5;28;01mreturn\u001b[39;00m new_data\n\u001b[1;32m---> 11\u001b[0m training_set \u001b[38;5;241m=\u001b[39m \u001b[43mconvert\u001b[49m\u001b[43m(\u001b[49m\u001b[43mtraining_set\u001b[49m\u001b[43m)\u001b[49m\n\u001b[0;32m     12\u001b[0m test_set \u001b[38;5;241m=\u001b[39m convert(test_set)\n",
      "Cell \u001b[1;32mIn[141], line 8\u001b[0m, in \u001b[0;36mconvert\u001b[1;34m(data)\u001b[0m\n\u001b[0;32m      6\u001b[0m     id_ratings \u001b[38;5;241m=\u001b[39m data[:,\u001b[38;5;241m2\u001b[39m][data[:,\u001b[38;5;241m0\u001b[39m] \u001b[38;5;241m==\u001b[39m id_users]\n\u001b[0;32m      7\u001b[0m     ratings \u001b[38;5;241m=\u001b[39m np\u001b[38;5;241m.\u001b[39mzeros(nb_items)\n\u001b[1;32m----> 8\u001b[0m     \u001b[43mratings\u001b[49m\u001b[43m[\u001b[49m\u001b[43mid_items\u001b[49m\u001b[43m \u001b[49m\u001b[38;5;241;43m-\u001b[39;49m\u001b[43m \u001b[49m\u001b[38;5;241;43m1\u001b[39;49m\u001b[43m]\u001b[49m \u001b[38;5;241m=\u001b[39m id_ratings\n\u001b[0;32m      9\u001b[0m     new_data\u001b[38;5;241m.\u001b[39mappend(\u001b[38;5;28mlist\u001b[39m(ratings))\n\u001b[0;32m     10\u001b[0m \u001b[38;5;28;01mreturn\u001b[39;00m new_data\n",
      "\u001b[1;31mIndexError\u001b[0m: index -2 is out of bounds for axis 0 with size 1"
     ]
    }
   ],
   "source": [
    "# Converting the data into an array with users in lines and items in columns\n",
    "def convert(data):\n",
    "    new_data = []\n",
    "    for id_users in range(1, nb_users + 1):\n",
    "        id_items = data[:,1][data[:,0] == id_users]\n",
    "        id_ratings = data[:,2][data[:,0] == id_users]\n",
    "        ratings = np.zeros(nb_items)\n",
    "        ratings[id_items - 1] = id_ratings\n",
    "        new_data.append(list(ratings))\n",
    "    return new_data\n",
    "training_set = convert(training_set)\n",
    "test_set = convert(test_set)\n"
   ]
  },
  {
   "cell_type": "code",
   "execution_count": 60,
   "metadata": {
    "colab": {
     "base_uri": "https://localhost:8080/"
    },
    "id": "Jqr05gh9RLEf",
    "outputId": "4d79a5fc-8cc4-4258-ba98-fd8a3a9d696b"
   },
   "outputs": [
    {
     "data": {
      "text/plain": [
       "<surprise.trainset.Trainset at 0x7ffaeb1c0d30>"
      ]
     },
     "execution_count": 60,
     "metadata": {},
     "output_type": "execute_result"
    }
   ],
   "source": [
    "traindata"
   ]
  },
  {
   "cell_type": "code",
   "execution_count": 16,
   "metadata": {
    "colab": {
     "base_uri": "https://localhost:8080/"
    },
    "id": "bUdWSjNxSLKb",
    "outputId": "0ad5c5fc-05c9-41b2-f609-54125e492193"
   },
   "outputs": [
    {
     "data": {
      "text/plain": [
       "list"
      ]
     },
     "execution_count": 16,
     "metadata": {},
     "output_type": "execute_result"
    }
   ],
   "source": [
    "type(test_set)"
   ]
  },
  {
   "cell_type": "code",
   "execution_count": 18,
   "metadata": {
    "colab": {
     "base_uri": "https://localhost:8080/"
    },
    "id": "nrP1fVTVSSst",
    "outputId": "44a5c275-d2eb-4985-b811-fd3743d176fd"
   },
   "outputs": [
    {
     "data": {
      "text/plain": [
       "1682"
      ]
     },
     "execution_count": 18,
     "metadata": {},
     "output_type": "execute_result"
    }
   ],
   "source": [
    "len(test_set[0])"
   ]
  },
  {
   "cell_type": "code",
   "execution_count": null,
   "metadata": {
    "colab": {
     "base_uri": "https://localhost:8080/",
     "height": 34
    },
    "id": "Fq8xrHl_5Mqq",
    "outputId": "0d780448-82d4-4dca-aa2c-7bb327dd174e"
   },
   "outputs": [
    {
     "data": {
      "text/plain": [
       "943"
      ]
     },
     "execution_count": 10,
     "metadata": {
      "tags": []
     },
     "output_type": "execute_result"
    }
   ],
   "source": [
    "nb_users"
   ]
  },
  {
   "cell_type": "code",
   "execution_count": null,
   "metadata": {
    "colab": {
     "base_uri": "https://localhost:8080/",
     "height": 34
    },
    "id": "XxHVzi7G5NGa",
    "outputId": "ba2b1adc-2b18-4bde-ef6d-c00578880301"
   },
   "outputs": [
    {
     "data": {
      "text/plain": [
       "1682"
      ]
     },
     "execution_count": 11,
     "metadata": {
      "tags": []
     },
     "output_type": "execute_result"
    }
   ],
   "source": [
    "nb_items"
   ]
  },
  {
   "cell_type": "code",
   "execution_count": 128,
   "metadata": {
    "id": "HZA1Vt2UAOtN"
   },
   "outputs": [],
   "source": [
    "# Converting the data into Torch tensors\n",
    "training_set = torch.FloatTensor(training_set)\n",
    "test_set = torch.FloatTensor(test_set)"
   ]
  },
  {
   "cell_type": "code",
   "execution_count": 127,
   "metadata": {
    "id": "vOw94onLAQw8"
   },
   "outputs": [],
   "source": [
    "# Converting the ratings into binary ratings 1 (Liked) or 0 (Not Liked)\n",
    "training_set[training_set == 0] = -1\n",
    "training_set[training_set == 1] = 0\n",
    "\n",
    "test_set[test_set == 0] = -1\n",
    "test_set[test_set == 1] = 0\n",
    "\n",
    "\n",
    "# Creating the architecture of the Neural Network\n",
    "\n",
    "class RBM():\n",
    "    def __init__(self, nv, nh):\n",
    "        self.W = torch.randn(nh, nv)   #100*1682                 \n",
    "        self.a = torch.randn(1, nh)    #1*100                       \n",
    "        self.b = torch.randn(1, nv)    #1*1682                   \n",
    "    def sample_h(self, x):                                     \n",
    "        wx = torch.mm(x, self.W.t())    #100*1682 * 1682*100 = 100*100\n",
    "        activation = wx + self.a.expand_as(wx)                  \n",
    "        p_h_given_v = torch.sigmoid(activation)     #100*100\n",
    "        return p_h_given_v, torch.bernoulli(p_h_given_v)\n",
    "    def sample_v(self, y):                                      \n",
    "        wy = torch.mm(y, self.W)    #100*100 * 100*1682 = 100*1682\n",
    "        activation = wy + self.b.expand_as(wy)                  \n",
    "        p_v_given_h = torch.sigmoid(activation)     #100*1682\n",
    "        return p_v_given_h, torch.bernoulli(p_v_given_h)\n",
    "    def train(self, v0, vk, ph0, phk):                         \n",
    "        self.W += (torch.mm(v0.t(), ph0)- torch.mm(vk.t(), phk)).t()    #100*1682 \n",
    "                             #!= 1682*100 * 100*100 - 1682*100 * 100*100 = 1682*100\n",
    "        self.b += torch.sum((v0-vk), 0)                            \n",
    "        self.a += torch.sum((ph0-phk), 0)  "
   ]
  },
  {
   "cell_type": "code",
   "execution_count": 129,
   "metadata": {
    "colab": {
     "base_uri": "https://localhost:8080/",
     "height": 34
    },
    "id": "dO6vMHoPBYn7",
    "outputId": "48b690f0-baf0-4ae4-c3bb-18c456386359"
   },
   "outputs": [
    {
     "name": "stdout",
     "output_type": "stream",
     "text": [
      "torch.Size([100, 3])\n"
     ]
    }
   ],
   "source": [
    "nv = len(training_set[0])\n",
    "nh = 100\n",
    "batch_size = 100\n",
    "rbm = RBM(nv, nh)  \n",
    "print(rbm.W.size())"
   ]
  },
  {
   "cell_type": "code",
   "execution_count": 130,
   "metadata": {
    "colab": {
     "base_uri": "https://localhost:8080/",
     "height": 187
    },
    "id": "OmtBOTsdAS-L",
    "outputId": "ff883583-2286-4df9-84d4-282cf032a7e8"
   },
   "outputs": [
    {
     "name": "stdout",
     "output_type": "stream",
     "text": [
      "epoch: 1 loss: tensor(nan)\n",
      "epoch: 2 loss: tensor(nan)\n",
      "epoch: 3 loss: tensor(nan)\n",
      "epoch: 4 loss: tensor(nan)\n",
      "epoch: 5 loss: tensor(nan)\n",
      "epoch: 6 loss: tensor(nan)\n",
      "epoch: 7 loss: tensor(nan)\n",
      "epoch: 8 loss: tensor(nan)\n",
      "epoch: 9 loss: tensor(nan)\n",
      "epoch: 10 loss: tensor(nan)\n"
     ]
    }
   ],
   "source": [
    "# Training the RBM\n",
    "nb_epoch = 10\n",
    "for epoch in range(1, nb_epoch + 1):\n",
    "    train_loss = 0\n",
    "    s = 0.\n",
    "    for id_user in range(0, nb_users - batch_size, batch_size):\n",
    "        vk = training_set[id_user:id_user + batch_size]\n",
    "        v0 = training_set[id_user:id_user + batch_size]\n",
    "        ph0, _ = rbm.sample_h(v0)\n",
    "        for k in range(10):\n",
    "            _, hk = rbm.sample_h(vk)\n",
    "            _, vk = rbm.sample_v(hk)\n",
    "            vk[v0 < 0] = v0[v0 < 0]\n",
    "        phk, _ = rbm.sample_h(vk)\n",
    "        rbm.train(v0, vk, ph0, phk)\n",
    "        train_loss += torch.mean(torch.abs(v0[v0 >= 0] - vk[v0 >= 0]))\n",
    "        s += 1.\n",
    "    print('epoch: ' + str(epoch) + ' loss: ' + str(train_loss / s))\n"
   ]
  },
  {
   "cell_type": "code",
   "execution_count": 142,
   "metadata": {
    "colab": {
     "base_uri": "https://localhost:8080/",
     "height": 34
    },
    "id": "4lwNvftCAUgb",
    "outputId": "b56241ce-d9ec-4d91-d84d-38fe8bee2feb"
   },
   "outputs": [
    {
     "ename": "TypeError",
     "evalue": "mm(): argument 'input' (position 1) must be Tensor, not numpy.ndarray",
     "output_type": "error",
     "traceback": [
      "\u001b[1;31m---------------------------------------------------------------------------\u001b[0m",
      "\u001b[1;31mTypeError\u001b[0m                                 Traceback (most recent call last)",
      "Cell \u001b[1;32mIn[142], line 8\u001b[0m\n\u001b[0;32m      6\u001b[0m vt \u001b[38;5;241m=\u001b[39m test_set[id_user:id_user\u001b[38;5;241m+\u001b[39m\u001b[38;5;241m1\u001b[39m]\n\u001b[0;32m      7\u001b[0m \u001b[38;5;28;01mif\u001b[39;00m \u001b[38;5;28mlen\u001b[39m(vt[vt\u001b[38;5;241m>\u001b[39m\u001b[38;5;241m=\u001b[39m\u001b[38;5;241m0\u001b[39m]) \u001b[38;5;241m>\u001b[39m \u001b[38;5;241m0\u001b[39m:\n\u001b[1;32m----> 8\u001b[0m     _,h \u001b[38;5;241m=\u001b[39m \u001b[43mrbm\u001b[49m\u001b[38;5;241;43m.\u001b[39;49m\u001b[43msample_h\u001b[49m\u001b[43m(\u001b[49m\u001b[43mv\u001b[49m\u001b[43m)\u001b[49m\n\u001b[0;32m      9\u001b[0m     _,v \u001b[38;5;241m=\u001b[39m rbm\u001b[38;5;241m.\u001b[39msample_v(h)\n\u001b[0;32m     10\u001b[0m     test_loss \u001b[38;5;241m+\u001b[39m\u001b[38;5;241m=\u001b[39m torch\u001b[38;5;241m.\u001b[39mmean(torch\u001b[38;5;241m.\u001b[39mabs(vt[vt\u001b[38;5;241m>\u001b[39m\u001b[38;5;241m=\u001b[39m\u001b[38;5;241m0\u001b[39m] \u001b[38;5;241m-\u001b[39m v[vt\u001b[38;5;241m>\u001b[39m\u001b[38;5;241m=\u001b[39m\u001b[38;5;241m0\u001b[39m]))\n",
      "Cell \u001b[1;32mIn[127], line 19\u001b[0m, in \u001b[0;36mRBM.sample_h\u001b[1;34m(self, x)\u001b[0m\n\u001b[0;32m     18\u001b[0m \u001b[38;5;28;01mdef\u001b[39;00m \u001b[38;5;21msample_h\u001b[39m(\u001b[38;5;28mself\u001b[39m, x):                                     \n\u001b[1;32m---> 19\u001b[0m     wx \u001b[38;5;241m=\u001b[39m \u001b[43mtorch\u001b[49m\u001b[38;5;241;43m.\u001b[39;49m\u001b[43mmm\u001b[49m\u001b[43m(\u001b[49m\u001b[43mx\u001b[49m\u001b[43m,\u001b[49m\u001b[43m \u001b[49m\u001b[38;5;28;43mself\u001b[39;49m\u001b[38;5;241;43m.\u001b[39;49m\u001b[43mW\u001b[49m\u001b[38;5;241;43m.\u001b[39;49m\u001b[43mt\u001b[49m\u001b[43m(\u001b[49m\u001b[43m)\u001b[49m\u001b[43m)\u001b[49m    \u001b[38;5;66;03m#100*1682 * 1682*100 = 100*100\u001b[39;00m\n\u001b[0;32m     20\u001b[0m     activation \u001b[38;5;241m=\u001b[39m wx \u001b[38;5;241m+\u001b[39m \u001b[38;5;28mself\u001b[39m\u001b[38;5;241m.\u001b[39ma\u001b[38;5;241m.\u001b[39mexpand_as(wx)                  \n\u001b[0;32m     21\u001b[0m     p_h_given_v \u001b[38;5;241m=\u001b[39m torch\u001b[38;5;241m.\u001b[39msigmoid(activation)     \u001b[38;5;66;03m#100*100\u001b[39;00m\n",
      "\u001b[1;31mTypeError\u001b[0m: mm(): argument 'input' (position 1) must be Tensor, not numpy.ndarray"
     ]
    }
   ],
   "source": [
    "# Testing the RBM\n",
    "test_loss = 0\n",
    "s = 0.\n",
    "for id_user in range(nb_users):\n",
    "    v = training_set[id_user:id_user+1]\n",
    "    vt = test_set[id_user:id_user+1]\n",
    "    if len(vt[vt>=0]) > 0:\n",
    "        _,h = rbm.sample_h(v)\n",
    "        _,v = rbm.sample_v(h)\n",
    "        test_loss += torch.mean(torch.abs(vt[vt>=0] - v[vt>=0]))\n",
    "        s += 1.\n",
    "print('test loss: '+str(test_loss/s))"
   ]
  },
  {
   "cell_type": "code",
   "execution_count": null,
   "metadata": {
    "id": "MAvU12gfAuzK"
   },
   "outputs": [],
   "source": [
    "#########################"
   ]
  },
  {
   "cell_type": "code",
   "execution_count": null,
   "metadata": {
    "id": "bPtO4sDpdqDV"
   },
   "outputs": [],
   "source": []
  },
  {
   "cell_type": "code",
   "execution_count": null,
   "metadata": {
    "id": "cTZS4_WDdqP8"
   },
   "outputs": [],
   "source": []
  },
  {
   "cell_type": "code",
   "execution_count": null,
   "metadata": {
    "id": "WKJrn8ZtvfdM"
   },
   "outputs": [],
   "source": []
  },
  {
   "cell_type": "markdown",
   "metadata": {
    "id": "IPutEN5CvfqC"
   },
   "source": [
    "# NCF without meta data\n",
    "\n",
    "# Reference: https://github.com/johnwang21/TA-Neural-Collaborative-Filtering"
   ]
  },
  {
   "cell_type": "code",
   "execution_count": null,
   "metadata": {
    "colab": {
     "base_uri": "https://localhost:8080/",
     "height": 246
    },
    "id": "JXLcM6H_vf0d",
    "outputId": "41df662a-cb1b-4da7-8b0c-25bdcce6bd79"
   },
   "outputs": [],
   "source": []
  },
  {
   "cell_type": "code",
   "execution_count": null,
   "metadata": {
    "id": "sm8wWHg6vvhS"
   },
   "outputs": [],
   "source": []
  },
  {
   "cell_type": "code",
   "execution_count": 43,
   "metadata": {
    "id": "Uu2O2d2_rlgF"
   },
   "outputs": [],
   "source": [
    "final_new['rating']=ratingrandom"
   ]
  },
  {
   "cell_type": "code",
   "execution_count": 1,
   "metadata": {
    "id": "VyO0vQK2eRfY"
   },
   "outputs": [],
   "source": [
    "import pandas as pd"
   ]
  },
  {
   "cell_type": "code",
   "execution_count": 84,
   "metadata": {
    "id": "h_pRwxxFeRhS"
   },
   "outputs": [],
   "source": [
    "final_new=pd.read_csv('final.csv',header=None)"
   ]
  },
  {
   "cell_type": "code",
   "execution_count": 87,
   "metadata": {
    "id": "yo8DIEHUPAAD"
   },
   "outputs": [],
   "source": [
    "final_new.rename(columns = {1:'item_id',2:'rating',6:'user_id'}, inplace = True)"
   ]
  },
  {
   "cell_type": "code",
   "execution_count": 88,
   "metadata": {
    "colab": {
     "base_uri": "https://localhost:8080/",
     "height": 206
    },
    "id": "KHWx7YVEeRku",
    "outputId": "6d4a55d5-99a2-4656-baf3-fb256cc7ac5a"
   },
   "outputs": [
    {
     "data": {
      "text/html": [
       "\n",
       "  <div id=\"df-d9bf524f-9670-4b22-8ac6-679645a52227\">\n",
       "    <div class=\"colab-df-container\">\n",
       "      <div>\n",
       "<style scoped>\n",
       "    .dataframe tbody tr th:only-of-type {\n",
       "        vertical-align: middle;\n",
       "    }\n",
       "\n",
       "    .dataframe tbody tr th {\n",
       "        vertical-align: top;\n",
       "    }\n",
       "\n",
       "    .dataframe thead th {\n",
       "        text-align: right;\n",
       "    }\n",
       "</style>\n",
       "<table border=\"1\" class=\"dataframe\">\n",
       "  <thead>\n",
       "    <tr style=\"text-align: right;\">\n",
       "      <th></th>\n",
       "      <th>0</th>\n",
       "      <th>item_id</th>\n",
       "      <th>rating</th>\n",
       "      <th>3</th>\n",
       "      <th>4</th>\n",
       "      <th>5</th>\n",
       "      <th>user_id</th>\n",
       "    </tr>\n",
       "  </thead>\n",
       "  <tbody>\n",
       "    <tr>\n",
       "      <th>0</th>\n",
       "      <td>76561197970982479</td>\n",
       "      <td>1250</td>\n",
       "      <td>1</td>\n",
       "      <td>76561197970982479</td>\n",
       "      <td>10006</td>\n",
       "      <td>0</td>\n",
       "      <td>0</td>\n",
       "    </tr>\n",
       "    <tr>\n",
       "      <th>1</th>\n",
       "      <td>76561197970982479</td>\n",
       "      <td>22200</td>\n",
       "      <td>1</td>\n",
       "      <td>76561197970982479</td>\n",
       "      <td>271</td>\n",
       "      <td>0</td>\n",
       "      <td>0</td>\n",
       "    </tr>\n",
       "    <tr>\n",
       "      <th>2</th>\n",
       "      <td>76561197970982479</td>\n",
       "      <td>43110</td>\n",
       "      <td>1</td>\n",
       "      <td>76561197970982479</td>\n",
       "      <td>834</td>\n",
       "      <td>0</td>\n",
       "      <td>0</td>\n",
       "    </tr>\n",
       "    <tr>\n",
       "      <th>3</th>\n",
       "      <td>js41637</td>\n",
       "      <td>227300</td>\n",
       "      <td>1</td>\n",
       "      <td>76561198035864385</td>\n",
       "      <td>551</td>\n",
       "      <td>0</td>\n",
       "      <td>1</td>\n",
       "    </tr>\n",
       "    <tr>\n",
       "      <th>4</th>\n",
       "      <td>js41637</td>\n",
       "      <td>239030</td>\n",
       "      <td>1</td>\n",
       "      <td>76561198035864385</td>\n",
       "      <td>349</td>\n",
       "      <td>0</td>\n",
       "      <td>1</td>\n",
       "    </tr>\n",
       "  </tbody>\n",
       "</table>\n",
       "</div>\n",
       "      <button class=\"colab-df-convert\" onclick=\"convertToInteractive('df-d9bf524f-9670-4b22-8ac6-679645a52227')\"\n",
       "              title=\"Convert this dataframe to an interactive table.\"\n",
       "              style=\"display:none;\">\n",
       "        \n",
       "  <svg xmlns=\"http://www.w3.org/2000/svg\" height=\"24px\"viewBox=\"0 0 24 24\"\n",
       "       width=\"24px\">\n",
       "    <path d=\"M0 0h24v24H0V0z\" fill=\"none\"/>\n",
       "    <path d=\"M18.56 5.44l.94 2.06.94-2.06 2.06-.94-2.06-.94-.94-2.06-.94 2.06-2.06.94zm-11 1L8.5 8.5l.94-2.06 2.06-.94-2.06-.94L8.5 2.5l-.94 2.06-2.06.94zm10 10l.94 2.06.94-2.06 2.06-.94-2.06-.94-.94-2.06-.94 2.06-2.06.94z\"/><path d=\"M17.41 7.96l-1.37-1.37c-.4-.4-.92-.59-1.43-.59-.52 0-1.04.2-1.43.59L10.3 9.45l-7.72 7.72c-.78.78-.78 2.05 0 2.83L4 21.41c.39.39.9.59 1.41.59.51 0 1.02-.2 1.41-.59l7.78-7.78 2.81-2.81c.8-.78.8-2.07 0-2.86zM5.41 20L4 18.59l7.72-7.72 1.47 1.35L5.41 20z\"/>\n",
       "  </svg>\n",
       "      </button>\n",
       "      \n",
       "  <style>\n",
       "    .colab-df-container {\n",
       "      display:flex;\n",
       "      flex-wrap:wrap;\n",
       "      gap: 12px;\n",
       "    }\n",
       "\n",
       "    .colab-df-convert {\n",
       "      background-color: #E8F0FE;\n",
       "      border: none;\n",
       "      border-radius: 50%;\n",
       "      cursor: pointer;\n",
       "      display: none;\n",
       "      fill: #1967D2;\n",
       "      height: 32px;\n",
       "      padding: 0 0 0 0;\n",
       "      width: 32px;\n",
       "    }\n",
       "\n",
       "    .colab-df-convert:hover {\n",
       "      background-color: #E2EBFA;\n",
       "      box-shadow: 0px 1px 2px rgba(60, 64, 67, 0.3), 0px 1px 3px 1px rgba(60, 64, 67, 0.15);\n",
       "      fill: #174EA6;\n",
       "    }\n",
       "\n",
       "    [theme=dark] .colab-df-convert {\n",
       "      background-color: #3B4455;\n",
       "      fill: #D2E3FC;\n",
       "    }\n",
       "\n",
       "    [theme=dark] .colab-df-convert:hover {\n",
       "      background-color: #434B5C;\n",
       "      box-shadow: 0px 1px 3px 1px rgba(0, 0, 0, 0.15);\n",
       "      filter: drop-shadow(0px 1px 2px rgba(0, 0, 0, 0.3));\n",
       "      fill: #FFFFFF;\n",
       "    }\n",
       "  </style>\n",
       "\n",
       "      <script>\n",
       "        const buttonEl =\n",
       "          document.querySelector('#df-d9bf524f-9670-4b22-8ac6-679645a52227 button.colab-df-convert');\n",
       "        buttonEl.style.display =\n",
       "          google.colab.kernel.accessAllowed ? 'block' : 'none';\n",
       "\n",
       "        async function convertToInteractive(key) {\n",
       "          const element = document.querySelector('#df-d9bf524f-9670-4b22-8ac6-679645a52227');\n",
       "          const dataTable =\n",
       "            await google.colab.kernel.invokeFunction('convertToInteractive',\n",
       "                                                     [key], {});\n",
       "          if (!dataTable) return;\n",
       "\n",
       "          const docLinkHtml = 'Like what you see? Visit the ' +\n",
       "            '<a target=\"_blank\" href=https://colab.research.google.com/notebooks/data_table.ipynb>data table notebook</a>'\n",
       "            + ' to learn more about interactive tables.';\n",
       "          element.innerHTML = '';\n",
       "          dataTable['output_type'] = 'display_data';\n",
       "          await google.colab.output.renderOutput(dataTable, element);\n",
       "          const docLink = document.createElement('div');\n",
       "          docLink.innerHTML = docLinkHtml;\n",
       "          element.appendChild(docLink);\n",
       "        }\n",
       "      </script>\n",
       "    </div>\n",
       "  </div>\n",
       "  "
      ],
      "text/plain": [
       "                   0  item_id  rating                  3      4  5  user_id\n",
       "0  76561197970982479     1250       1  76561197970982479  10006  0        0\n",
       "1  76561197970982479    22200       1  76561197970982479    271  0        0\n",
       "2  76561197970982479    43110       1  76561197970982479    834  0        0\n",
       "3            js41637   227300       1  76561198035864385    551  0        1\n",
       "4            js41637   239030       1  76561198035864385    349  0        1"
      ]
     },
     "execution_count": 88,
     "metadata": {},
     "output_type": "execute_result"
    }
   ],
   "source": [
    "final_new.head()"
   ]
  },
  {
   "cell_type": "code",
   "execution_count": 8,
   "metadata": {
    "id": "9ksQMCMmeRnD"
   },
   "outputs": [],
   "source": [
    "final_new=pd.read_csv('user_reviewdatawithrating.csv')"
   ]
  },
  {
   "cell_type": "code",
   "execution_count": 9,
   "metadata": {
    "colab": {
     "base_uri": "https://localhost:8080/",
     "height": 206
    },
    "id": "AQoBmi8YeRqT",
    "outputId": "5de9c51b-da05-44b8-c642-ffff180fecbc"
   },
   "outputs": [
    {
     "data": {
      "text/html": [
       "\n",
       "  <div id=\"df-be32c692-1e83-4d6e-9ba2-529e1a1dd951\">\n",
       "    <div class=\"colab-df-container\">\n",
       "      <div>\n",
       "<style scoped>\n",
       "    .dataframe tbody tr th:only-of-type {\n",
       "        vertical-align: middle;\n",
       "    }\n",
       "\n",
       "    .dataframe tbody tr th {\n",
       "        vertical-align: top;\n",
       "    }\n",
       "\n",
       "    .dataframe thead th {\n",
       "        text-align: right;\n",
       "    }\n",
       "</style>\n",
       "<table border=\"1\" class=\"dataframe\">\n",
       "  <thead>\n",
       "    <tr style=\"text-align: right;\">\n",
       "      <th></th>\n",
       "      <th>user_id</th>\n",
       "      <th>item_id</th>\n",
       "      <th>recommend</th>\n",
       "      <th>playtime_forever</th>\n",
       "      <th>playtime_2weeks</th>\n",
       "      <th>rating</th>\n",
       "    </tr>\n",
       "  </thead>\n",
       "  <tbody>\n",
       "    <tr>\n",
       "      <th>0</th>\n",
       "      <td>76561197970982479</td>\n",
       "      <td>1250</td>\n",
       "      <td>True</td>\n",
       "      <td>10006</td>\n",
       "      <td>0</td>\n",
       "      <td>4.5</td>\n",
       "    </tr>\n",
       "    <tr>\n",
       "      <th>1</th>\n",
       "      <td>76561197970982479</td>\n",
       "      <td>22200</td>\n",
       "      <td>True</td>\n",
       "      <td>271</td>\n",
       "      <td>0</td>\n",
       "      <td>3.5</td>\n",
       "    </tr>\n",
       "    <tr>\n",
       "      <th>2</th>\n",
       "      <td>76561197970982479</td>\n",
       "      <td>43110</td>\n",
       "      <td>True</td>\n",
       "      <td>834</td>\n",
       "      <td>0</td>\n",
       "      <td>4.0</td>\n",
       "    </tr>\n",
       "    <tr>\n",
       "      <th>3</th>\n",
       "      <td>js41637</td>\n",
       "      <td>227300</td>\n",
       "      <td>True</td>\n",
       "      <td>551</td>\n",
       "      <td>0</td>\n",
       "      <td>5.0</td>\n",
       "    </tr>\n",
       "    <tr>\n",
       "      <th>4</th>\n",
       "      <td>js41637</td>\n",
       "      <td>239030</td>\n",
       "      <td>True</td>\n",
       "      <td>349</td>\n",
       "      <td>0</td>\n",
       "      <td>2.5</td>\n",
       "    </tr>\n",
       "  </tbody>\n",
       "</table>\n",
       "</div>\n",
       "      <button class=\"colab-df-convert\" onclick=\"convertToInteractive('df-be32c692-1e83-4d6e-9ba2-529e1a1dd951')\"\n",
       "              title=\"Convert this dataframe to an interactive table.\"\n",
       "              style=\"display:none;\">\n",
       "        \n",
       "  <svg xmlns=\"http://www.w3.org/2000/svg\" height=\"24px\"viewBox=\"0 0 24 24\"\n",
       "       width=\"24px\">\n",
       "    <path d=\"M0 0h24v24H0V0z\" fill=\"none\"/>\n",
       "    <path d=\"M18.56 5.44l.94 2.06.94-2.06 2.06-.94-2.06-.94-.94-2.06-.94 2.06-2.06.94zm-11 1L8.5 8.5l.94-2.06 2.06-.94-2.06-.94L8.5 2.5l-.94 2.06-2.06.94zm10 10l.94 2.06.94-2.06 2.06-.94-2.06-.94-.94-2.06-.94 2.06-2.06.94z\"/><path d=\"M17.41 7.96l-1.37-1.37c-.4-.4-.92-.59-1.43-.59-.52 0-1.04.2-1.43.59L10.3 9.45l-7.72 7.72c-.78.78-.78 2.05 0 2.83L4 21.41c.39.39.9.59 1.41.59.51 0 1.02-.2 1.41-.59l7.78-7.78 2.81-2.81c.8-.78.8-2.07 0-2.86zM5.41 20L4 18.59l7.72-7.72 1.47 1.35L5.41 20z\"/>\n",
       "  </svg>\n",
       "      </button>\n",
       "      \n",
       "  <style>\n",
       "    .colab-df-container {\n",
       "      display:flex;\n",
       "      flex-wrap:wrap;\n",
       "      gap: 12px;\n",
       "    }\n",
       "\n",
       "    .colab-df-convert {\n",
       "      background-color: #E8F0FE;\n",
       "      border: none;\n",
       "      border-radius: 50%;\n",
       "      cursor: pointer;\n",
       "      display: none;\n",
       "      fill: #1967D2;\n",
       "      height: 32px;\n",
       "      padding: 0 0 0 0;\n",
       "      width: 32px;\n",
       "    }\n",
       "\n",
       "    .colab-df-convert:hover {\n",
       "      background-color: #E2EBFA;\n",
       "      box-shadow: 0px 1px 2px rgba(60, 64, 67, 0.3), 0px 1px 3px 1px rgba(60, 64, 67, 0.15);\n",
       "      fill: #174EA6;\n",
       "    }\n",
       "\n",
       "    [theme=dark] .colab-df-convert {\n",
       "      background-color: #3B4455;\n",
       "      fill: #D2E3FC;\n",
       "    }\n",
       "\n",
       "    [theme=dark] .colab-df-convert:hover {\n",
       "      background-color: #434B5C;\n",
       "      box-shadow: 0px 1px 3px 1px rgba(0, 0, 0, 0.15);\n",
       "      filter: drop-shadow(0px 1px 2px rgba(0, 0, 0, 0.3));\n",
       "      fill: #FFFFFF;\n",
       "    }\n",
       "  </style>\n",
       "\n",
       "      <script>\n",
       "        const buttonEl =\n",
       "          document.querySelector('#df-be32c692-1e83-4d6e-9ba2-529e1a1dd951 button.colab-df-convert');\n",
       "        buttonEl.style.display =\n",
       "          google.colab.kernel.accessAllowed ? 'block' : 'none';\n",
       "\n",
       "        async function convertToInteractive(key) {\n",
       "          const element = document.querySelector('#df-be32c692-1e83-4d6e-9ba2-529e1a1dd951');\n",
       "          const dataTable =\n",
       "            await google.colab.kernel.invokeFunction('convertToInteractive',\n",
       "                                                     [key], {});\n",
       "          if (!dataTable) return;\n",
       "\n",
       "          const docLinkHtml = 'Like what you see? Visit the ' +\n",
       "            '<a target=\"_blank\" href=https://colab.research.google.com/notebooks/data_table.ipynb>data table notebook</a>'\n",
       "            + ' to learn more about interactive tables.';\n",
       "          element.innerHTML = '';\n",
       "          dataTable['output_type'] = 'display_data';\n",
       "          await google.colab.output.renderOutput(dataTable, element);\n",
       "          const docLink = document.createElement('div');\n",
       "          docLink.innerHTML = docLinkHtml;\n",
       "          element.appendChild(docLink);\n",
       "        }\n",
       "      </script>\n",
       "    </div>\n",
       "  </div>\n",
       "  "
      ],
      "text/plain": [
       "             user_id  item_id  recommend  playtime_forever  playtime_2weeks  \\\n",
       "0  76561197970982479     1250       True             10006                0   \n",
       "1  76561197970982479    22200       True               271                0   \n",
       "2  76561197970982479    43110       True               834                0   \n",
       "3            js41637   227300       True               551                0   \n",
       "4            js41637   239030       True               349                0   \n",
       "\n",
       "   rating  \n",
       "0     4.5  \n",
       "1     3.5  \n",
       "2     4.0  \n",
       "3     5.0  \n",
       "4     2.5  "
      ]
     },
     "execution_count": 9,
     "metadata": {},
     "output_type": "execute_result"
    }
   ],
   "source": [
    "final_new.head()"
   ]
  },
  {
   "cell_type": "code",
   "execution_count": 2,
   "metadata": {
    "id": "5u5iGl5BeRse"
   },
   "outputs": [],
   "source": [
    "\n",
    "import pandas as pd\n",
    "import numpy as np\n",
    "from tqdm.notebook import tqdm\n",
    "from sklearn.model_selection import train_test_split\n",
    "import keras\n",
    "from keras import layers \n",
    "import tensorflow as tf\n",
    "from keras.models import Model\n",
    "from keras.optimizers import Adam, SGD"
   ]
  },
  {
   "cell_type": "code",
   "execution_count": 3,
   "metadata": {
    "colab": {
     "base_uri": "https://localhost:8080/"
    },
    "id": "-8tn1ZoQeRy8",
    "outputId": "1a249c22-aabb-4059-de1d-a31052f0d134"
   },
   "outputs": [
    {
     "name": "stdout",
     "output_type": "stream",
     "text": [
      "Tensorflow version 2.12.0\n",
      "Running on TPU  ['10.21.27.18:8470']\n"
     ]
    },
    {
     "name": "stderr",
     "output_type": "stream",
     "text": [
      "WARNING:absl:`tf.distribute.experimental.TPUStrategy` is deprecated, please use  the non experimental symbol `tf.distribute.TPUStrategy` instead.\n"
     ]
    }
   ],
   "source": [
    "print(\"Tensorflow version \" + tf.__version__)\n",
    "np.random.seed(123)\n",
    "try:\n",
    "  tpu = tf.distribute.cluster_resolver.TPUClusterResolver()  # TPU detection\n",
    "  print('Running on TPU ', tpu.cluster_spec().as_dict()['worker'])\n",
    "except ValueError:\n",
    "  raise BaseException('ERROR: Not connected to a TPU runtime; please see the previous cell in this notebook for instructions!')\n",
    "\n",
    "tf.config.experimental_connect_to_cluster(tpu)\n",
    "tf.tpu.experimental.initialize_tpu_system(tpu)\n",
    "tpu_strategy = tf.distribute.experimental.TPUStrategy(tpu)"
   ]
  },
  {
   "cell_type": "code",
   "execution_count": 91,
   "metadata": {
    "id": "eysO-am2eR2X"
   },
   "outputs": [],
   "source": [
    "traindata, testdata = train_test_split(final_new, test_size= 0.25)"
   ]
  },
  {
   "cell_type": "code",
   "execution_count": 92,
   "metadata": {
    "id": "x00BzkePeR5V"
   },
   "outputs": [],
   "source": [
    "rating_df = traindata.rename(columns={'user_id':'u_id','item_id':'s_id','rating':'rate'})\n",
    "\n",
    "test_df = testdata.rename(columns={'user_id':'u_id','item_id':'s_id','rating':'rate'})"
   ]
  },
  {
   "cell_type": "code",
   "execution_count": 93,
   "metadata": {
    "colab": {
     "base_uri": "https://localhost:8080/",
     "height": 206
    },
    "id": "eTsin_TjmvOV",
    "outputId": "0110b744-d8f0-47d0-a894-bfd5e0ab1288"
   },
   "outputs": [
    {
     "data": {
      "text/html": [
       "\n",
       "  <div id=\"df-e84387ed-88cf-4dc6-8079-95bc4bc8f6b6\">\n",
       "    <div class=\"colab-df-container\">\n",
       "      <div>\n",
       "<style scoped>\n",
       "    .dataframe tbody tr th:only-of-type {\n",
       "        vertical-align: middle;\n",
       "    }\n",
       "\n",
       "    .dataframe tbody tr th {\n",
       "        vertical-align: top;\n",
       "    }\n",
       "\n",
       "    .dataframe thead th {\n",
       "        text-align: right;\n",
       "    }\n",
       "</style>\n",
       "<table border=\"1\" class=\"dataframe\">\n",
       "  <thead>\n",
       "    <tr style=\"text-align: right;\">\n",
       "      <th></th>\n",
       "      <th>0</th>\n",
       "      <th>s_id</th>\n",
       "      <th>rate</th>\n",
       "      <th>3</th>\n",
       "      <th>4</th>\n",
       "      <th>5</th>\n",
       "      <th>u_id</th>\n",
       "    </tr>\n",
       "  </thead>\n",
       "  <tbody>\n",
       "    <tr>\n",
       "      <th>13528</th>\n",
       "      <td>sickbubblez</td>\n",
       "      <td>291550</td>\n",
       "      <td>1</td>\n",
       "      <td>76561198080793429</td>\n",
       "      <td>13556</td>\n",
       "      <td>320</td>\n",
       "      <td>5524</td>\n",
       "    </tr>\n",
       "    <tr>\n",
       "      <th>17426</th>\n",
       "      <td>hhaz</td>\n",
       "      <td>241930</td>\n",
       "      <td>1</td>\n",
       "      <td>76561197976643758</td>\n",
       "      <td>1961</td>\n",
       "      <td>0</td>\n",
       "      <td>7157</td>\n",
       "    </tr>\n",
       "    <tr>\n",
       "      <th>9048</th>\n",
       "      <td>PepperMinty</td>\n",
       "      <td>312990</td>\n",
       "      <td>1</td>\n",
       "      <td>76561198077272601</td>\n",
       "      <td>121</td>\n",
       "      <td>0</td>\n",
       "      <td>3652</td>\n",
       "    </tr>\n",
       "    <tr>\n",
       "      <th>30840</th>\n",
       "      <td>Whyyyyyyyyyyyyyyyy</td>\n",
       "      <td>113400</td>\n",
       "      <td>-1</td>\n",
       "      <td>76561198060934495</td>\n",
       "      <td>3457</td>\n",
       "      <td>0</td>\n",
       "      <td>13500</td>\n",
       "    </tr>\n",
       "    <tr>\n",
       "      <th>19507</th>\n",
       "      <td>76561198077248859</td>\n",
       "      <td>730</td>\n",
       "      <td>1</td>\n",
       "      <td>76561198077248859</td>\n",
       "      <td>91019</td>\n",
       "      <td>3119</td>\n",
       "      <td>8093</td>\n",
       "    </tr>\n",
       "  </tbody>\n",
       "</table>\n",
       "</div>\n",
       "      <button class=\"colab-df-convert\" onclick=\"convertToInteractive('df-e84387ed-88cf-4dc6-8079-95bc4bc8f6b6')\"\n",
       "              title=\"Convert this dataframe to an interactive table.\"\n",
       "              style=\"display:none;\">\n",
       "        \n",
       "  <svg xmlns=\"http://www.w3.org/2000/svg\" height=\"24px\"viewBox=\"0 0 24 24\"\n",
       "       width=\"24px\">\n",
       "    <path d=\"M0 0h24v24H0V0z\" fill=\"none\"/>\n",
       "    <path d=\"M18.56 5.44l.94 2.06.94-2.06 2.06-.94-2.06-.94-.94-2.06-.94 2.06-2.06.94zm-11 1L8.5 8.5l.94-2.06 2.06-.94-2.06-.94L8.5 2.5l-.94 2.06-2.06.94zm10 10l.94 2.06.94-2.06 2.06-.94-2.06-.94-.94-2.06-.94 2.06-2.06.94z\"/><path d=\"M17.41 7.96l-1.37-1.37c-.4-.4-.92-.59-1.43-.59-.52 0-1.04.2-1.43.59L10.3 9.45l-7.72 7.72c-.78.78-.78 2.05 0 2.83L4 21.41c.39.39.9.59 1.41.59.51 0 1.02-.2 1.41-.59l7.78-7.78 2.81-2.81c.8-.78.8-2.07 0-2.86zM5.41 20L4 18.59l7.72-7.72 1.47 1.35L5.41 20z\"/>\n",
       "  </svg>\n",
       "      </button>\n",
       "      \n",
       "  <style>\n",
       "    .colab-df-container {\n",
       "      display:flex;\n",
       "      flex-wrap:wrap;\n",
       "      gap: 12px;\n",
       "    }\n",
       "\n",
       "    .colab-df-convert {\n",
       "      background-color: #E8F0FE;\n",
       "      border: none;\n",
       "      border-radius: 50%;\n",
       "      cursor: pointer;\n",
       "      display: none;\n",
       "      fill: #1967D2;\n",
       "      height: 32px;\n",
       "      padding: 0 0 0 0;\n",
       "      width: 32px;\n",
       "    }\n",
       "\n",
       "    .colab-df-convert:hover {\n",
       "      background-color: #E2EBFA;\n",
       "      box-shadow: 0px 1px 2px rgba(60, 64, 67, 0.3), 0px 1px 3px 1px rgba(60, 64, 67, 0.15);\n",
       "      fill: #174EA6;\n",
       "    }\n",
       "\n",
       "    [theme=dark] .colab-df-convert {\n",
       "      background-color: #3B4455;\n",
       "      fill: #D2E3FC;\n",
       "    }\n",
       "\n",
       "    [theme=dark] .colab-df-convert:hover {\n",
       "      background-color: #434B5C;\n",
       "      box-shadow: 0px 1px 3px 1px rgba(0, 0, 0, 0.15);\n",
       "      filter: drop-shadow(0px 1px 2px rgba(0, 0, 0, 0.3));\n",
       "      fill: #FFFFFF;\n",
       "    }\n",
       "  </style>\n",
       "\n",
       "      <script>\n",
       "        const buttonEl =\n",
       "          document.querySelector('#df-e84387ed-88cf-4dc6-8079-95bc4bc8f6b6 button.colab-df-convert');\n",
       "        buttonEl.style.display =\n",
       "          google.colab.kernel.accessAllowed ? 'block' : 'none';\n",
       "\n",
       "        async function convertToInteractive(key) {\n",
       "          const element = document.querySelector('#df-e84387ed-88cf-4dc6-8079-95bc4bc8f6b6');\n",
       "          const dataTable =\n",
       "            await google.colab.kernel.invokeFunction('convertToInteractive',\n",
       "                                                     [key], {});\n",
       "          if (!dataTable) return;\n",
       "\n",
       "          const docLinkHtml = 'Like what you see? Visit the ' +\n",
       "            '<a target=\"_blank\" href=https://colab.research.google.com/notebooks/data_table.ipynb>data table notebook</a>'\n",
       "            + ' to learn more about interactive tables.';\n",
       "          element.innerHTML = '';\n",
       "          dataTable['output_type'] = 'display_data';\n",
       "          await google.colab.output.renderOutput(dataTable, element);\n",
       "          const docLink = document.createElement('div');\n",
       "          docLink.innerHTML = docLinkHtml;\n",
       "          element.appendChild(docLink);\n",
       "        }\n",
       "      </script>\n",
       "    </div>\n",
       "  </div>\n",
       "  "
      ],
      "text/plain": [
       "                        0    s_id  rate                  3      4     5   u_id\n",
       "13528         sickbubblez  291550     1  76561198080793429  13556   320   5524\n",
       "17426                hhaz  241930     1  76561197976643758   1961     0   7157\n",
       "9048          PepperMinty  312990     1  76561198077272601    121     0   3652\n",
       "30840  Whyyyyyyyyyyyyyyyy  113400    -1  76561198060934495   3457     0  13500\n",
       "19507   76561198077248859     730     1  76561198077248859  91019  3119   8093"
      ]
     },
     "execution_count": 93,
     "metadata": {},
     "output_type": "execute_result"
    }
   ],
   "source": [
    "rating_df.head()"
   ]
  },
  {
   "cell_type": "code",
   "execution_count": 94,
   "metadata": {
    "colab": {
     "base_uri": "https://localhost:8080/",
     "height": 206
    },
    "id": "Slccfw0Kmyrp",
    "outputId": "d9a4bc07-2419-4a41-e2e6-35931bf52787"
   },
   "outputs": [
    {
     "data": {
      "text/html": [
       "\n",
       "  <div id=\"df-af4cb5be-e46c-4077-b8b9-7fbfe6dc482c\">\n",
       "    <div class=\"colab-df-container\">\n",
       "      <div>\n",
       "<style scoped>\n",
       "    .dataframe tbody tr th:only-of-type {\n",
       "        vertical-align: middle;\n",
       "    }\n",
       "\n",
       "    .dataframe tbody tr th {\n",
       "        vertical-align: top;\n",
       "    }\n",
       "\n",
       "    .dataframe thead th {\n",
       "        text-align: right;\n",
       "    }\n",
       "</style>\n",
       "<table border=\"1\" class=\"dataframe\">\n",
       "  <thead>\n",
       "    <tr style=\"text-align: right;\">\n",
       "      <th></th>\n",
       "      <th>0</th>\n",
       "      <th>s_id</th>\n",
       "      <th>rate</th>\n",
       "      <th>3</th>\n",
       "      <th>4</th>\n",
       "      <th>5</th>\n",
       "      <th>u_id</th>\n",
       "    </tr>\n",
       "  </thead>\n",
       "  <tbody>\n",
       "    <tr>\n",
       "      <th>23231</th>\n",
       "      <td>Joshieboy2811</td>\n",
       "      <td>33930</td>\n",
       "      <td>1</td>\n",
       "      <td>76561198055336474</td>\n",
       "      <td>12003</td>\n",
       "      <td>0</td>\n",
       "      <td>9848</td>\n",
       "    </tr>\n",
       "    <tr>\n",
       "      <th>6084</th>\n",
       "      <td>oldsauce</td>\n",
       "      <td>268750</td>\n",
       "      <td>1</td>\n",
       "      <td>76561198086972859</td>\n",
       "      <td>2785</td>\n",
       "      <td>78</td>\n",
       "      <td>2417</td>\n",
       "    </tr>\n",
       "    <tr>\n",
       "      <th>18419</th>\n",
       "      <td>Bawst</td>\n",
       "      <td>210770</td>\n",
       "      <td>-1</td>\n",
       "      <td>76561198011069017</td>\n",
       "      <td>138</td>\n",
       "      <td>0</td>\n",
       "      <td>7599</td>\n",
       "    </tr>\n",
       "    <tr>\n",
       "      <th>730</th>\n",
       "      <td>76561198057521157</td>\n",
       "      <td>251570</td>\n",
       "      <td>1</td>\n",
       "      <td>76561198057521157</td>\n",
       "      <td>5167</td>\n",
       "      <td>0</td>\n",
       "      <td>331</td>\n",
       "    </tr>\n",
       "    <tr>\n",
       "      <th>29247</th>\n",
       "      <td>76561198081966701</td>\n",
       "      <td>224260</td>\n",
       "      <td>1</td>\n",
       "      <td>76561198081966701</td>\n",
       "      <td>1188</td>\n",
       "      <td>9</td>\n",
       "      <td>12701</td>\n",
       "    </tr>\n",
       "  </tbody>\n",
       "</table>\n",
       "</div>\n",
       "      <button class=\"colab-df-convert\" onclick=\"convertToInteractive('df-af4cb5be-e46c-4077-b8b9-7fbfe6dc482c')\"\n",
       "              title=\"Convert this dataframe to an interactive table.\"\n",
       "              style=\"display:none;\">\n",
       "        \n",
       "  <svg xmlns=\"http://www.w3.org/2000/svg\" height=\"24px\"viewBox=\"0 0 24 24\"\n",
       "       width=\"24px\">\n",
       "    <path d=\"M0 0h24v24H0V0z\" fill=\"none\"/>\n",
       "    <path d=\"M18.56 5.44l.94 2.06.94-2.06 2.06-.94-2.06-.94-.94-2.06-.94 2.06-2.06.94zm-11 1L8.5 8.5l.94-2.06 2.06-.94-2.06-.94L8.5 2.5l-.94 2.06-2.06.94zm10 10l.94 2.06.94-2.06 2.06-.94-2.06-.94-.94-2.06-.94 2.06-2.06.94z\"/><path d=\"M17.41 7.96l-1.37-1.37c-.4-.4-.92-.59-1.43-.59-.52 0-1.04.2-1.43.59L10.3 9.45l-7.72 7.72c-.78.78-.78 2.05 0 2.83L4 21.41c.39.39.9.59 1.41.59.51 0 1.02-.2 1.41-.59l7.78-7.78 2.81-2.81c.8-.78.8-2.07 0-2.86zM5.41 20L4 18.59l7.72-7.72 1.47 1.35L5.41 20z\"/>\n",
       "  </svg>\n",
       "      </button>\n",
       "      \n",
       "  <style>\n",
       "    .colab-df-container {\n",
       "      display:flex;\n",
       "      flex-wrap:wrap;\n",
       "      gap: 12px;\n",
       "    }\n",
       "\n",
       "    .colab-df-convert {\n",
       "      background-color: #E8F0FE;\n",
       "      border: none;\n",
       "      border-radius: 50%;\n",
       "      cursor: pointer;\n",
       "      display: none;\n",
       "      fill: #1967D2;\n",
       "      height: 32px;\n",
       "      padding: 0 0 0 0;\n",
       "      width: 32px;\n",
       "    }\n",
       "\n",
       "    .colab-df-convert:hover {\n",
       "      background-color: #E2EBFA;\n",
       "      box-shadow: 0px 1px 2px rgba(60, 64, 67, 0.3), 0px 1px 3px 1px rgba(60, 64, 67, 0.15);\n",
       "      fill: #174EA6;\n",
       "    }\n",
       "\n",
       "    [theme=dark] .colab-df-convert {\n",
       "      background-color: #3B4455;\n",
       "      fill: #D2E3FC;\n",
       "    }\n",
       "\n",
       "    [theme=dark] .colab-df-convert:hover {\n",
       "      background-color: #434B5C;\n",
       "      box-shadow: 0px 1px 3px 1px rgba(0, 0, 0, 0.15);\n",
       "      filter: drop-shadow(0px 1px 2px rgba(0, 0, 0, 0.3));\n",
       "      fill: #FFFFFF;\n",
       "    }\n",
       "  </style>\n",
       "\n",
       "      <script>\n",
       "        const buttonEl =\n",
       "          document.querySelector('#df-af4cb5be-e46c-4077-b8b9-7fbfe6dc482c button.colab-df-convert');\n",
       "        buttonEl.style.display =\n",
       "          google.colab.kernel.accessAllowed ? 'block' : 'none';\n",
       "\n",
       "        async function convertToInteractive(key) {\n",
       "          const element = document.querySelector('#df-af4cb5be-e46c-4077-b8b9-7fbfe6dc482c');\n",
       "          const dataTable =\n",
       "            await google.colab.kernel.invokeFunction('convertToInteractive',\n",
       "                                                     [key], {});\n",
       "          if (!dataTable) return;\n",
       "\n",
       "          const docLinkHtml = 'Like what you see? Visit the ' +\n",
       "            '<a target=\"_blank\" href=https://colab.research.google.com/notebooks/data_table.ipynb>data table notebook</a>'\n",
       "            + ' to learn more about interactive tables.';\n",
       "          element.innerHTML = '';\n",
       "          dataTable['output_type'] = 'display_data';\n",
       "          await google.colab.output.renderOutput(dataTable, element);\n",
       "          const docLink = document.createElement('div');\n",
       "          docLink.innerHTML = docLinkHtml;\n",
       "          element.appendChild(docLink);\n",
       "        }\n",
       "      </script>\n",
       "    </div>\n",
       "  </div>\n",
       "  "
      ],
      "text/plain": [
       "                       0    s_id  rate                  3      4   5   u_id\n",
       "23231      Joshieboy2811   33930     1  76561198055336474  12003   0   9848\n",
       "6084            oldsauce  268750     1  76561198086972859   2785  78   2417\n",
       "18419              Bawst  210770    -1  76561198011069017    138   0   7599\n",
       "730    76561198057521157  251570     1  76561198057521157   5167   0    331\n",
       "29247  76561198081966701  224260     1  76561198081966701   1188   9  12701"
      ]
     },
     "execution_count": 94,
     "metadata": {},
     "output_type": "execute_result"
    }
   ],
   "source": [
    "test_df.head()"
   ]
  },
  {
   "cell_type": "code",
   "execution_count": 95,
   "metadata": {
    "colab": {
     "base_uri": "https://localhost:8080/"
    },
    "id": "_wPzXx_dm290",
    "outputId": "6d3ba1c1-709b-40be-cab9-49c8e8eb5c7d"
   },
   "outputs": [
    {
     "data": {
      "text/plain": [
       "0       object\n",
       "s_id     int64\n",
       "rate     int64\n",
       "3        int64\n",
       "4        int64\n",
       "5        int64\n",
       "u_id     int64\n",
       "dtype: object"
      ]
     },
     "execution_count": 95,
     "metadata": {},
     "output_type": "execute_result"
    }
   ],
   "source": [
    "rating_df.dtypes\n"
   ]
  },
  {
   "cell_type": "code",
   "execution_count": 23,
   "metadata": {
    "id": "9JmpgwgOp2lB"
   },
   "outputs": [],
   "source": [
    "rating_df['s_id']=rating_df['s_id'].astype('object')"
   ]
  },
  {
   "cell_type": "code",
   "execution_count": 96,
   "metadata": {
    "colab": {
     "base_uri": "https://localhost:8080/"
    },
    "id": "a3sbM4xAm9Fr",
    "outputId": "07177926-3c94-417a-be25-10c63b60e8d0"
   },
   "outputs": [
    {
     "name": "stdout",
     "output_type": "stream",
     "text": [
      "0       object\n",
      "s_id     int16\n",
      "rate     int64\n",
      "3        int64\n",
      "4        int64\n",
      "5        int64\n",
      "u_id     int64\n",
      "dtype: object\n"
     ]
    }
   ],
   "source": [
    "rating_df = rating_df.sample(frac=1, random_state=73)\n",
    "rating_df.s_id = pd.Categorical(rating_df.s_id)\n",
    "rating_df['s_id'] = rating_df.s_id.cat.codes\n",
    "print(rating_df.dtypes)\n",
    "X = rating_df[['u_id', 's_id']].values #,'Frequency','User_Deg','Channel_Deg'\n",
    "y = rating_df[\"rate\"]\n",
    "\n",
    "test_df = test_df.sample(frac=1, random_state=73)\n",
    "test_df.s_id = pd.Categorical(test_df.s_id)\n",
    "test_df['s_id'] = test_df.s_id.cat.codes\n",
    "test_df.dtypes\n",
    "test_in_u = test_df['u_id'].values #,'Frequency','User_Deg','Channel_Deg'\n",
    "test_in_s = test_df['s_id'].values\n",
    "test_rating = test_df[\"rate\"]"
   ]
  },
  {
   "cell_type": "code",
   "execution_count": 105,
   "metadata": {
    "colab": {
     "base_uri": "https://localhost:8080/"
    },
    "id": "nlqGO1QHV2gt",
    "outputId": "2d80dd45-1e8f-41bc-cc73-a180c310361a"
   },
   "outputs": [
    {
     "data": {
      "text/plain": [
       "array([ 77, 213, 417, ..., 376, 387, 385], dtype=int16)"
      ]
     },
     "execution_count": 105,
     "metadata": {},
     "output_type": "execute_result"
    }
   ],
   "source": [
    "np"
   ]
  },
  {
   "cell_type": "code",
   "execution_count": 97,
   "metadata": {
    "colab": {
     "base_uri": "https://localhost:8080/"
    },
    "id": "_Q2rbY-RnGb0",
    "outputId": "db1bb730-5a90-44bd-a3df-3ad3d71b7d76"
   },
   "outputs": [
    {
     "name": "stdout",
     "output_type": "stream",
     "text": [
      "> Train set ratings: 25236\n",
      "> Test set ratings: 5000\n"
     ]
    }
   ],
   "source": [
    "test_set_size = 5000 #10k for test set\n",
    "train_indices = rating_df.shape[0] - test_set_size \n",
    "\n",
    "X_train, X_val, y_train, y_val = (\n",
    "    X[:train_indices],\n",
    "    X[train_indices:],\n",
    "    y[:train_indices],\n",
    "    y[train_indices:],\n",
    ")\n",
    "\n",
    "print('> Train set ratings: {}'.format(len(y_train)))\n",
    "print('> Test set ratings: {}'.format(len(y_val)))"
   ]
  },
  {
   "cell_type": "code",
   "execution_count": 98,
   "metadata": {
    "id": "EZpnfbXmnweu"
   },
   "outputs": [],
   "source": [
    "X_train_array = [X_train[:, 0], X_train[:, 1]]\n",
    "X_val_array = [X_val[:, 0], X_val[:, 1]]"
   ]
  },
  {
   "cell_type": "code",
   "execution_count": 99,
   "metadata": {
    "id": "i4nO6ypnn9Hn"
   },
   "outputs": [],
   "source": [
    "in_u_dim = len(rating_df[\"u_id\"].unique())\n",
    "in_s_dim = len(rating_df[\"s_id\"].unique())\n",
    " \n",
    "latent_out_dim = 8 #embedding size"
   ]
  },
  {
   "cell_type": "code",
   "execution_count": 100,
   "metadata": {
    "colab": {
     "base_uri": "https://localhost:8080/"
    },
    "id": "XNi2IOVxoAQv",
    "outputId": "03f89ef5-f6f3-4ce4-9f58-b75183feefb5"
   },
   "outputs": [
    {
     "name": "stdout",
     "output_type": "stream",
     "text": [
      "Model: \"model_11\"\n",
      "__________________________________________________________________________________________________\n",
      " Layer (type)                   Output Shape         Param #     Connected to                     \n",
      "==================================================================================================\n",
      " u_in_mlp (InputLayer)          [(None, 1)]          0           []                               \n",
      "                                                                                                  \n",
      " s_in_mlp (InputLayer)          [(None, 1)]          0           []                               \n",
      "                                                                                                  \n",
      " u_emb_mlp (Embedding)          (None, 1, 8)         127336      ['u_in_mlp[0][0]']               \n",
      "                                                                                                  \n",
      " s_emb_mlp (Embedding)          (None, 1, 8)         7160        ['s_in_mlp[0][0]']               \n",
      "                                                                                                  \n",
      " concatenate_6 (Concatenate)    (None, 1, 16)        0           ['u_emb_mlp[0][0]',              \n",
      "                                                                  's_emb_mlp[0][0]']              \n",
      "                                                                                                  \n",
      " flatten_3 (Flatten)            (None, 16)           0           ['concatenate_6[0][0]']          \n",
      "                                                                                                  \n",
      " dense_27 (Dense)               (None, 1)            17          ['flatten_3[0][0]']              \n",
      "                                                                                                  \n",
      " dense_28 (Dense)               (None, 2)            4           ['dense_27[0][0]']               \n",
      "                                                                                                  \n",
      " dense_29 (Dense)               (None, 3)            9           ['dense_28[0][0]']               \n",
      "                                                                                                  \n",
      " dense_30 (Dense)               (None, 4)            16          ['dense_29[0][0]']               \n",
      "                                                                                                  \n",
      " dense_31 (Dense)               (None, 5)            25          ['dense_30[0][0]']               \n",
      "                                                                                                  \n",
      " dense_32 (Dense)               (None, 6)            36          ['dense_31[0][0]']               \n",
      "                                                                                                  \n",
      " u_in_gmf (InputLayer)          [(None, 1)]          0           []                               \n",
      "                                                                                                  \n",
      " s_in_gmf (InputLayer)          [(None, 1)]          0           []                               \n",
      "                                                                                                  \n",
      " dense_33 (Dense)               (None, 7)            49          ['dense_32[0][0]']               \n",
      "                                                                                                  \n",
      " u_emb_gmf (Embedding)          (None, 1, 8)         127336      ['u_in_gmf[0][0]']               \n",
      "                                                                                                  \n",
      " s_emb_gmf (Embedding)          (None, 1, 8)         7160        ['s_in_gmf[0][0]']               \n",
      "                                                                                                  \n",
      " dense_34 (Dense)               (None, 8)            64          ['dense_33[0][0]']               \n",
      "                                                                                                  \n",
      " multiply_3 (Multiply)          (None, 1, 8)         0           ['u_emb_gmf[0][0]',              \n",
      "                                                                  's_emb_gmf[0][0]']              \n",
      "                                                                                                  \n",
      " reshape_3 (Reshape)            (None, 1, 8)         0           ['dense_34[0][0]']               \n",
      "                                                                                                  \n",
      " concatenate_7 (Concatenate)    (None, 1, 16)        0           ['multiply_3[0][0]',             \n",
      "                                                                  'reshape_3[0][0]']              \n",
      "                                                                                                  \n",
      " dense_35 (Dense)               (None, 1, 1)         17          ['concatenate_7[0][0]']          \n",
      "                                                                                                  \n",
      " activation_3 (Activation)      (None, 1, 1)         0           ['dense_35[0][0]']               \n",
      "                                                                                                  \n",
      "==================================================================================================\n",
      "Total params: 269,229\n",
      "Trainable params: 269,229\n",
      "Non-trainable params: 0\n",
      "__________________________________________________________________________________________________\n"
     ]
    }
   ],
   "source": [
    "from keras.layers import Add, Activation, Lambda, BatchNormalization, Concatenate, Dropout, Input, Embedding, Dot, Reshape, Dense, Flatten\n",
    "\n",
    "def ncf():\n",
    "    \n",
    "    user_gmf = Input(name = 'u_in_gmf', shape = [1])\n",
    "    game_gmf = Input(name = 's_in_gmf', shape = [1])\n",
    "\n",
    "    user_embedding_gmf = Embedding(name = 'u_emb_gmf', input_dim = in_u_dim, output_dim = latent_out_dim)(user_gmf)\n",
    "    game_embedding_gmf = Embedding(name = 's_emb_gmf', input_dim = in_s_dim, output_dim = latent_out_dim)(stream_gmf)\n",
    "    \n",
    "    x = tf.keras.layers.Multiply()([user_embedding_gmf, stream_embedding_gmf])\n",
    "    x = Model(inputs=[user_gmf,stream_gmf], outputs=x)\n",
    "\n",
    "\n",
    "    user_mlp = Input(name = 'u_in_mlp', shape = [1])\n",
    "    stream_mlp = Input(name = 's_in_mlp', shape = [1])\n",
    "\n",
    "    user_embedding_mlp = Embedding(name = 'u_emb_mlp', input_dim = in_u_dim,output_dim = latent_out_dim)(user_mlp)\n",
    "    game_embedding_mlp = Embedding(name = 's_emb_mlp', input_dim = in_s_dim, output_dim = latent_out_dim)(stream_mlp)\n",
    "\n",
    "    y = tf.keras.layers.Concatenate()([user_embedding_mlp, stream_embedding_mlp])\n",
    "    y = Flatten()(y)\n",
    "\n",
    "    y = keras.layers.Dense(1, activation='relu')(y) \n",
    "    y = keras.layers.Dense(2, activation='relu')(y) \n",
    "    y = keras.layers.Dense(3, activation='relu')(y) \n",
    "    y = keras.layers.Dense(4, activation='relu')(y) \n",
    "    y = keras.layers.Dense(5, activation='relu')(y) \n",
    "    y = keras.layers.Dense(6, activation='relu')(y) \n",
    "    y = keras.layers.Dense(7, activation='relu')(y) \n",
    "    y = keras.layers.Dense(8, activation='relu')(y) \n",
    "    y = keras.layers.Reshape([1, 8])(y)\n",
    "    y = Model(inputs=[user_mlp,stream_mlp], outputs=y)\n",
    "\n",
    "\n",
    "    #combined https://pyimagesearch.com/2019/02/04/keras-multiple-inputs-and-mixed-data/\n",
    "    combined = tf.keras.layers.Concatenate()([x.output, y.output])\n",
    "    z = Dense(1, kernel_initializer='lecun_uniform')(combined)\n",
    "    z = Activation(\"sigmoid\")(z)\n",
    "  \n",
    "    model = Model(inputs=[[user_gmf,stream_gmf], [user_mlp,stream_mlp]], outputs=z)\n",
    "\n",
    "    model.compile(optimizer='sgd', loss='mse', metrics=[tf.keras.metrics.RootMeanSquaredError()])\n",
    "      #https://www.tensorflow.org/api_docs/python/tf/keras/metrics/RootMeanSquaredError\n",
    "    \n",
    "    return model\n",
    "\n",
    "with tpu_strategy.scope(): # creating the model in the TPUStrategy scope means we will train the model on the TPU\n",
    "  model = ncf()\n",
    "model.summary()"
   ]
  },
  {
   "cell_type": "code",
   "execution_count": 103,
   "metadata": {
    "colab": {
     "base_uri": "https://localhost:8080/"
    },
    "id": "GvvP-DVloMd8",
    "outputId": "a30d74ce-5bfb-48b0-d1fb-867391a2364d"
   },
   "outputs": [
    {
     "name": "stdout",
     "output_type": "stream",
     "text": [
      "Epoch 1/50\n",
      "253/253 [==============================] - 12s 39ms/step - loss: 0.4163 - root_mean_squared_error: 0.6452 - val_loss: 0.4132 - val_root_mean_squared_error: 0.6428\n",
      "Epoch 2/50\n",
      "253/253 [==============================] - 9s 35ms/step - loss: 0.3894 - root_mean_squared_error: 0.6240 - val_loss: 0.3960 - val_root_mean_squared_error: 0.6293\n",
      "Epoch 3/50\n",
      "253/253 [==============================] - 7s 28ms/step - loss: 0.3762 - root_mean_squared_error: 0.6133 - val_loss: 0.3877 - val_root_mean_squared_error: 0.6226\n",
      "Epoch 4/50\n",
      "253/253 [==============================] - 7s 28ms/step - loss: 0.3694 - root_mean_squared_error: 0.6078 - val_loss: 0.3834 - val_root_mean_squared_error: 0.6192\n",
      "Epoch 5/50\n",
      "253/253 [==============================] - 7s 29ms/step - loss: 0.3658 - root_mean_squared_error: 0.6048 - val_loss: 0.3812 - val_root_mean_squared_error: 0.6175\n",
      "Epoch 6/50\n",
      "253/253 [==============================] - 7s 28ms/step - loss: 0.3638 - root_mean_squared_error: 0.6031 - val_loss: 0.3801 - val_root_mean_squared_error: 0.6165\n",
      "Epoch 7/50\n",
      "253/253 [==============================] - 7s 28ms/step - loss: 0.3627 - root_mean_squared_error: 0.6022 - val_loss: 0.3796 - val_root_mean_squared_error: 0.6161\n",
      "Epoch 8/50\n",
      "253/253 [==============================] - 7s 29ms/step - loss: 0.3621 - root_mean_squared_error: 0.6017 - val_loss: 0.3793 - val_root_mean_squared_error: 0.6159\n",
      "Epoch 9/50\n",
      "253/253 [==============================] - 8s 30ms/step - loss: 0.3617 - root_mean_squared_error: 0.6014 - val_loss: 0.3791 - val_root_mean_squared_error: 0.6157\n",
      "Epoch 10/50\n",
      "253/253 [==============================] - 7s 28ms/step - loss: 0.3615 - root_mean_squared_error: 0.6013 - val_loss: 0.3791 - val_root_mean_squared_error: 0.6157\n",
      "Epoch 11/50\n",
      "253/253 [==============================] - 7s 27ms/step - loss: 0.3614 - root_mean_squared_error: 0.6012 - val_loss: 0.3791 - val_root_mean_squared_error: 0.6157\n",
      "Epoch 12/50\n",
      "253/253 [==============================] - 7s 28ms/step - loss: 0.3613 - root_mean_squared_error: 0.6011 - val_loss: 0.3791 - val_root_mean_squared_error: 0.6157\n",
      "Epoch 13/50\n",
      "253/253 [==============================] - 7s 28ms/step - loss: 0.3613 - root_mean_squared_error: 0.6011 - val_loss: 0.3791 - val_root_mean_squared_error: 0.6157\n",
      "Epoch 14/50\n",
      "253/253 [==============================] - 7s 28ms/step - loss: 0.3612 - root_mean_squared_error: 0.6010 - val_loss: 0.3791 - val_root_mean_squared_error: 0.6157\n",
      "Epoch 15/50\n",
      "253/253 [==============================] - 7s 27ms/step - loss: 0.3612 - root_mean_squared_error: 0.6010 - val_loss: 0.3791 - val_root_mean_squared_error: 0.6157\n",
      "Epoch 16/50\n",
      "253/253 [==============================] - 7s 27ms/step - loss: 0.3612 - root_mean_squared_error: 0.6010 - val_loss: 0.3791 - val_root_mean_squared_error: 0.6157\n",
      "Epoch 17/50\n",
      "253/253 [==============================] - 7s 29ms/step - loss: 0.3612 - root_mean_squared_error: 0.6010 - val_loss: 0.3791 - val_root_mean_squared_error: 0.6157\n",
      "Epoch 18/50\n",
      "253/253 [==============================] - 7s 29ms/step - loss: 0.3612 - root_mean_squared_error: 0.6010 - val_loss: 0.3791 - val_root_mean_squared_error: 0.6157\n",
      "Epoch 19/50\n",
      "253/253 [==============================] - 7s 28ms/step - loss: 0.3612 - root_mean_squared_error: 0.6010 - val_loss: 0.3792 - val_root_mean_squared_error: 0.6158\n",
      "Epoch 20/50\n",
      "253/253 [==============================] - 7s 28ms/step - loss: 0.3612 - root_mean_squared_error: 0.6010 - val_loss: 0.3792 - val_root_mean_squared_error: 0.6158\n",
      "Epoch 21/50\n",
      "253/253 [==============================] - 7s 29ms/step - loss: 0.3612 - root_mean_squared_error: 0.6010 - val_loss: 0.3792 - val_root_mean_squared_error: 0.6158\n",
      "Epoch 22/50\n",
      "253/253 [==============================] - 7s 30ms/step - loss: 0.3612 - root_mean_squared_error: 0.6010 - val_loss: 0.3792 - val_root_mean_squared_error: 0.6158\n",
      "Epoch 23/50\n",
      "253/253 [==============================] - 7s 27ms/step - loss: 0.3612 - root_mean_squared_error: 0.6010 - val_loss: 0.3792 - val_root_mean_squared_error: 0.6158\n",
      "Epoch 24/50\n",
      "253/253 [==============================] - 7s 28ms/step - loss: 0.3612 - root_mean_squared_error: 0.6010 - val_loss: 0.3792 - val_root_mean_squared_error: 0.6158\n",
      "Epoch 25/50\n",
      "253/253 [==============================] - 8s 32ms/step - loss: 0.3612 - root_mean_squared_error: 0.6010 - val_loss: 0.3792 - val_root_mean_squared_error: 0.6158\n",
      "Epoch 26/50\n",
      "253/253 [==============================] - 9s 35ms/step - loss: 0.3612 - root_mean_squared_error: 0.6010 - val_loss: 0.3792 - val_root_mean_squared_error: 0.6158\n",
      "Epoch 27/50\n",
      "253/253 [==============================] - 9s 35ms/step - loss: 0.3612 - root_mean_squared_error: 0.6010 - val_loss: 0.3792 - val_root_mean_squared_error: 0.6158\n",
      "Epoch 28/50\n",
      "253/253 [==============================] - 7s 29ms/step - loss: 0.3612 - root_mean_squared_error: 0.6010 - val_loss: 0.3792 - val_root_mean_squared_error: 0.6158\n",
      "Epoch 29/50\n",
      "253/253 [==============================] - 7s 29ms/step - loss: 0.3612 - root_mean_squared_error: 0.6010 - val_loss: 0.3792 - val_root_mean_squared_error: 0.6158\n",
      "Epoch 30/50\n",
      "253/253 [==============================] - 8s 30ms/step - loss: 0.3612 - root_mean_squared_error: 0.6010 - val_loss: 0.3792 - val_root_mean_squared_error: 0.6158\n",
      "Epoch 31/50\n",
      "253/253 [==============================] - 7s 28ms/step - loss: 0.3612 - root_mean_squared_error: 0.6010 - val_loss: 0.3792 - val_root_mean_squared_error: 0.6158\n",
      "Epoch 32/50\n",
      "253/253 [==============================] - 7s 29ms/step - loss: 0.3612 - root_mean_squared_error: 0.6010 - val_loss: 0.3792 - val_root_mean_squared_error: 0.6158\n",
      "Epoch 33/50\n",
      "253/253 [==============================] - 7s 28ms/step - loss: 0.3612 - root_mean_squared_error: 0.6010 - val_loss: 0.3792 - val_root_mean_squared_error: 0.6158\n",
      "Epoch 34/50\n",
      "253/253 [==============================] - 7s 29ms/step - loss: 0.3612 - root_mean_squared_error: 0.6010 - val_loss: 0.3792 - val_root_mean_squared_error: 0.6158\n",
      "Epoch 35/50\n",
      "253/253 [==============================] - 7s 27ms/step - loss: 0.3612 - root_mean_squared_error: 0.6010 - val_loss: 0.3792 - val_root_mean_squared_error: 0.6158\n",
      "Epoch 36/50\n",
      "253/253 [==============================] - 7s 28ms/step - loss: 0.3612 - root_mean_squared_error: 0.6010 - val_loss: 0.3792 - val_root_mean_squared_error: 0.6158\n",
      "Epoch 37/50\n",
      "253/253 [==============================] - 7s 28ms/step - loss: 0.3612 - root_mean_squared_error: 0.6010 - val_loss: 0.3792 - val_root_mean_squared_error: 0.6158\n",
      "Epoch 38/50\n",
      "253/253 [==============================] - 9s 35ms/step - loss: 0.3612 - root_mean_squared_error: 0.6010 - val_loss: 0.3792 - val_root_mean_squared_error: 0.6158\n",
      "Epoch 39/50\n",
      "253/253 [==============================] - 8s 31ms/step - loss: 0.3612 - root_mean_squared_error: 0.6010 - val_loss: 0.3792 - val_root_mean_squared_error: 0.6158\n",
      "Epoch 40/50\n",
      "253/253 [==============================] - 7s 27ms/step - loss: 0.3612 - root_mean_squared_error: 0.6010 - val_loss: 0.3792 - val_root_mean_squared_error: 0.6158\n",
      "Epoch 41/50\n",
      "253/253 [==============================] - 8s 30ms/step - loss: 0.3612 - root_mean_squared_error: 0.6010 - val_loss: 0.3792 - val_root_mean_squared_error: 0.6158\n",
      "Epoch 42/50\n",
      "253/253 [==============================] - 7s 28ms/step - loss: 0.3612 - root_mean_squared_error: 0.6010 - val_loss: 0.3792 - val_root_mean_squared_error: 0.6158\n",
      "Epoch 43/50\n",
      "253/253 [==============================] - 7s 28ms/step - loss: 0.3612 - root_mean_squared_error: 0.6010 - val_loss: 0.3792 - val_root_mean_squared_error: 0.6158\n",
      "Epoch 44/50\n",
      "253/253 [==============================] - 7s 27ms/step - loss: 0.3612 - root_mean_squared_error: 0.6010 - val_loss: 0.3792 - val_root_mean_squared_error: 0.6158\n",
      "Epoch 45/50\n",
      "253/253 [==============================] - 7s 29ms/step - loss: 0.3612 - root_mean_squared_error: 0.6010 - val_loss: 0.3792 - val_root_mean_squared_error: 0.6158\n",
      "Epoch 46/50\n",
      "253/253 [==============================] - 7s 27ms/step - loss: 0.3612 - root_mean_squared_error: 0.6010 - val_loss: 0.3792 - val_root_mean_squared_error: 0.6158\n",
      "Epoch 47/50\n",
      "253/253 [==============================] - 7s 29ms/step - loss: 0.3612 - root_mean_squared_error: 0.6010 - val_loss: 0.3792 - val_root_mean_squared_error: 0.6158\n",
      "Epoch 48/50\n",
      "253/253 [==============================] - 7s 27ms/step - loss: 0.3612 - root_mean_squared_error: 0.6010 - val_loss: 0.3792 - val_root_mean_squared_error: 0.6158\n",
      "Epoch 49/50\n",
      "253/253 [==============================] - 7s 29ms/step - loss: 0.3612 - root_mean_squared_error: 0.6010 - val_loss: 0.3792 - val_root_mean_squared_error: 0.6158\n",
      "Epoch 50/50\n",
      "253/253 [==============================] - 7s 27ms/step - loss: 0.3612 - root_mean_squared_error: 0.6010 - val_loss: 0.3792 - val_root_mean_squared_error: 0.6158\n"
     ]
    }
   ],
   "source": [
    "batch_size = 100\n",
    "history = model.fit(\n",
    "    x=[X_train_array,X_train_array],\n",
    "    y=[y_train,y_train],\n",
    "    batch_size=batch_size,\n",
    "    epochs=50,\n",
    "    verbose=1,\n",
    "    validation_data=([X_val_array, X_val_array], [y_val, y_val])\n",
    ")\n"
   ]
  },
  {
   "cell_type": "code",
   "execution_count": 104,
   "metadata": {
    "colab": {
     "base_uri": "https://localhost:8080/"
    },
    "id": "De6X1S21oWQH",
    "outputId": "0d0ae4be-512a-4b91-a7a5-eb1ffc4738bb"
   },
   "outputs": [
    {
     "data": {
      "text/plain": [
       "array([[[0.7990857 ]],\n",
       "\n",
       "       [[0.7989429 ]],\n",
       "\n",
       "       [[0.7989198 ]],\n",
       "\n",
       "       ...,\n",
       "\n",
       "       [[0.7991487 ]],\n",
       "\n",
       "       [[0.79901814]],\n",
       "\n",
       "       [[0.7990792 ]]], dtype=float32)"
      ]
     },
     "execution_count": 104,
     "metadata": {},
     "output_type": "execute_result"
    }
   ],
   "source": [
    "test_pred = model.predict_on_batch([[test_in_u, test_in_s],[test_in_u, test_in_s]])\n",
    "test_pred"
   ]
  },
  {
   "cell_type": "code",
   "execution_count": 65,
   "metadata": {
    "colab": {
     "base_uri": "https://localhost:8080/"
    },
    "id": "kgiXOWu72FzT",
    "outputId": "0318ae9d-2f44-4b9a-b5b9-7c8c56ee1ae2"
   },
   "outputs": [
    {
     "data": {
      "text/plain": [
       "numpy.ndarray"
      ]
     },
     "execution_count": 65,
     "metadata": {},
     "output_type": "execute_result"
    }
   ],
   "source": [
    "type(test_pred)"
   ]
  },
  {
   "cell_type": "code",
   "execution_count": 66,
   "metadata": {
    "colab": {
     "base_uri": "https://localhost:8080/"
    },
    "id": "RH78gyG62PDD",
    "outputId": "47b65d06-d7cc-4d14-e440-69883aa6ad02"
   },
   "outputs": [
    {
     "data": {
      "text/plain": [
       "10079"
      ]
     },
     "execution_count": 66,
     "metadata": {},
     "output_type": "execute_result"
    }
   ],
   "source": [
    "test_pred.size"
   ]
  },
  {
   "cell_type": "code",
   "execution_count": 67,
   "metadata": {
    "id": "i0265cgg3E77"
   },
   "outputs": [],
   "source": [
    "list_1 = test_pred.tolist()"
   ]
  },
  {
   "cell_type": "code",
   "execution_count": 72,
   "metadata": {
    "id": "DTfeNHyN3kV_"
   },
   "outputs": [],
   "source": [
    "flat_list = [item for l in list_1 for item in list_1]"
   ]
  },
  {
   "cell_type": "code",
   "execution_count": 77,
   "metadata": {
    "colab": {
     "base_uri": "https://localhost:8080/"
    },
    "id": "2mehSdl_4XwQ",
    "outputId": "acc272cf-182b-40f8-bec7-19c64d7d6349"
   },
   "outputs": [
    {
     "data": {
      "text/plain": [
       "101586241"
      ]
     },
     "execution_count": 77,
     "metadata": {},
     "output_type": "execute_result"
    }
   ],
   "source": []
  },
  {
   "cell_type": "code",
   "execution_count": 1,
   "metadata": {
    "id": "Fzo4zx2X2hoC"
   },
   "outputs": [],
   "source": [
    "#flat_list.sort(key=lambda x: x[1], reverse=True)\n"
   ]
  },
  {
   "cell_type": "code",
   "execution_count": 57,
   "metadata": {
    "colab": {
     "base_uri": "https://localhost:8080/"
    },
    "id": "04YKxQcftGU5",
    "outputId": "a006945b-2f64-4251-84ba-909ec5af829a"
   },
   "outputs": [
    {
     "data": {
      "text/plain": [
       "2.516780242021213"
      ]
     },
     "execution_count": 57,
     "metadata": {},
     "output_type": "execute_result"
    }
   ],
   "source": [
    "from sklearn.metrics import mean_squared_error\n",
    "\n",
    "#rms = mean_squared_error(y_actual, y_predicted, squared=False)\n",
    "rms = mean_squared_error(test_rating.to_numpy(), test_pred.reshape((len(test_pred),)), squared=False)\n",
    "rms"
   ]
  },
  {
   "cell_type": "code",
   "execution_count": null,
   "metadata": {
    "id": "ft9sLBzi2E4F"
   },
   "outputs": [],
   "source": []
  },
  {
   "cell_type": "code",
   "execution_count": 62,
   "metadata": {
    "id": "yEaTaN3ntULm"
   },
   "outputs": [],
   "source": [
    "#predictions = [[row.userID, row.itemID, model.predict(row.test_df['u_id'], row.test_df['s_id'])]\n",
    " #              for (_, row) in test_df.iterrows()]"
   ]
  },
  {
   "cell_type": "code",
   "execution_count": 78,
   "metadata": {
    "id": "amZzFj6Yvi4O"
   },
   "outputs": [],
   "source": [
    "test_in_u = test_df['u_id'].values #,'Frequency','User_Deg','Channel_Deg'\n",
    "test_in_s = test_df['s_id'].values\n",
    "test_rating = test_df[\"rate\"]"
   ]
  },
  {
   "cell_type": "code",
   "execution_count": 81,
   "metadata": {
    "id": "fvDwyAoxt9mC"
   },
   "outputs": [],
   "source": [
    "#model.predict([[17096, 218620],[17096, 218620]])"
   ]
  },
  {
   "cell_type": "code",
   "execution_count": 144,
   "metadata": {
    "colab": {
     "base_uri": "https://localhost:8080/",
     "height": 417
    },
    "id": "TBiNwcpsOgWQ",
    "outputId": "062670e1-7834-4b5d-9e13-a2d82572c793"
   },
   "outputs": [],
   "source": [
    "#model.predict_on_batch([[np.ndarray(np.int64(0)), np.ndarray(np.int64(10))],[np.ndarray(np.int64(0)), np.ndarray(np.int64(10))]])"
   ]
  },
  {
   "cell_type": "code",
   "execution_count": 109,
   "metadata": {
    "colab": {
     "base_uri": "https://localhost:8080/"
    },
    "id": "cGy4uFwoWHTz",
    "outputId": "3684ca08-f203-476f-e4ed-b0cbf7d30e94"
   },
   "outputs": [
    {
     "data": {
      "text/plain": [
       "numpy.int64"
      ]
     },
     "execution_count": 109,
     "metadata": {},
     "output_type": "execute_result"
    }
   ],
   "source": [
    "type(test_in_u[0])"
   ]
  },
  {
   "cell_type": "code",
   "execution_count": 110,
   "metadata": {
    "colab": {
     "base_uri": "https://localhost:8080/"
    },
    "id": "jAtjwiz-WVPf",
    "outputId": "ae7e50ad-1cc3-43b2-ea74-8607b3917f77"
   },
   "outputs": [
    {
     "data": {
      "text/plain": [
       "10"
      ]
     },
     "execution_count": 110,
     "metadata": {},
     "output_type": "execute_result"
    }
   ],
   "source": [
    "np.int64(10)"
   ]
  },
  {
   "cell_type": "code",
   "execution_count": 119,
   "metadata": {
    "colab": {
     "base_uri": "https://localhost:8080/"
    },
    "id": "z9UzUIdnWfj-",
    "outputId": "feb7efb8-665c-4d87-d009-0906cda9a338"
   },
   "outputs": [
    {
     "data": {
      "text/plain": [
       "numpy.ndarray"
      ]
     },
     "execution_count": 119,
     "metadata": {},
     "output_type": "execute_result"
    }
   ],
   "source": [
    "type(test_in_u)"
   ]
  },
  {
   "cell_type": "code",
   "execution_count": 128,
   "metadata": {
    "colab": {
     "base_uri": "https://localhost:8080/"
    },
    "id": "pQisDsZsYs0s",
    "outputId": "3d1937ae-0425-4ec6-cac3-c83a98d0e933"
   },
   "outputs": [
    {
     "data": {
      "text/plain": [
       "(10079,)"
      ]
     },
     "execution_count": 128,
     "metadata": {},
     "output_type": "execute_result"
    }
   ],
   "source": [
    "test_in_u.shape"
   ]
  },
  {
   "cell_type": "code",
   "execution_count": 130,
   "metadata": {
    "colab": {
     "base_uri": "https://localhost:8080/"
    },
    "id": "Eo6mDUlwYv-R",
    "outputId": "af95a37b-1ce7-4767-d53e-e3dd9a34d980"
   },
   "outputs": [
    {
     "data": {
      "text/plain": [
       "(10,)"
      ]
     },
     "execution_count": 130,
     "metadata": {},
     "output_type": "execute_result"
    }
   ],
   "source": [
    "test_in_u"
   ]
  },
  {
   "cell_type": "code",
   "execution_count": 143,
   "metadata": {
    "id": "m2_6pMNmX-0y"
   },
   "outputs": [],
   "source": [
    "user_tmp = np.ndarray(1)\n",
    "item_tmp = np.ndarray(1)"
   ]
  },
  {
   "cell_type": "code",
   "execution_count": 144,
   "metadata": {
    "id": "nxN2gOlpY1lH"
   },
   "outputs": [],
   "source": [
    "user_tmp[0] = 0\n",
    "item_tmp[0] = 10\n",
    "#item_tmp[1] = 11"
   ]
  },
  {
   "cell_type": "code",
   "execution_count": 145,
   "metadata": {
    "colab": {
     "base_uri": "https://localhost:8080/"
    },
    "id": "BczJdkqjYHgI",
    "outputId": "0b0eac6d-04eb-46b2-e194-09e9750823b2"
   },
   "outputs": [
    {
     "data": {
      "text/plain": [
       "array([[[0.79934275]]], dtype=float32)"
      ]
     },
     "execution_count": 145,
     "metadata": {},
     "output_type": "execute_result"
    }
   ],
   "source": [
    "model.predict_on_batch([[user_tmp, item_tmp], [user_tmp, item_tmp]])"
   ]
  },
  {
   "cell_type": "code",
   "execution_count": null,
   "metadata": {},
   "outputs": [],
   "source": []
  },
  {
   "cell_type": "code",
   "execution_count": null,
   "metadata": {},
   "outputs": [],
   "source": []
  },
  {
   "cell_type": "code",
   "execution_count": null,
   "metadata": {},
   "outputs": [],
   "source": []
  },
  {
   "cell_type": "markdown",
   "metadata": {},
   "source": [
    "# NCF and other library to use : https://towardsdatascience.com/neural-collaborative-filtering-96cef1009401\n",
    "\n",
    "# using library: https://pypi.org/project/recommenders/\n",
    "\n",
    "# using https://github.com/microsoft/recommenders\n",
    "\n"
   ]
  },
  {
   "cell_type": "code",
   "execution_count": null,
   "metadata": {},
   "outputs": [],
   "source": []
  },
  {
   "cell_type": "code",
   "execution_count": null,
   "metadata": {
    "id": "IDggfIrodWHs"
   },
   "outputs": [],
   "source": [
    "[['u_id', 's_id']].values #,'Frequency','User_Deg','Channel_Deg'\n",
    "y = rating_df[\"rate\"]"
   ]
  },
  {
   "cell_type": "code",
   "execution_count": 148,
   "metadata": {
    "colab": {
     "base_uri": "https://localhost:8080/"
    },
    "id": "yoP8F3PgeYDc",
    "outputId": "61709dc4-adf2-445d-cfd1-8c73373b2c04"
   },
   "outputs": [
    {
     "name": "stdout",
     "output_type": "stream",
     "text": [
      "Looking in indexes: https://pypi.org/simple, https://us-python.pkg.dev/colab-wheels/public/simple/\n",
      "Collecting utils\n",
      "  Downloading utils-1.0.1-py2.py3-none-any.whl (21 kB)\n",
      "Installing collected packages: utils\n",
      "Successfully installed utils-1.0.1\n"
     ]
    }
   ],
   "source": [
    "pip install utils"
   ]
  },
  {
   "cell_type": "code",
   "execution_count": 149,
   "metadata": {
    "colab": {
     "base_uri": "https://localhost:8080/"
    },
    "id": "y04MUgUKepJu",
    "outputId": "ad160a92-765c-4b51-b76e-ff73d6ca3b95"
   },
   "outputs": [
    {
     "name": "stdout",
     "output_type": "stream",
     "text": [
      "Looking in indexes: https://pypi.org/simple, https://us-python.pkg.dev/colab-wheels/public/simple/\n",
      "Collecting recommender-utils\n",
      "  Downloading recommender_utils-2021.2.post1623854186-py3-none-any.whl (187 kB)\n",
      "\u001b[2K     \u001b[90m━━━━━━━━━━━━━━━━━━━━━━━━━━━━━━━━━━━━━━━\u001b[0m \u001b[32m188.0/188.0 kB\u001b[0m \u001b[31m3.8 MB/s\u001b[0m eta \u001b[36m0:00:00\u001b[0m\n",
      "\u001b[?25hInstalling collected packages: recommender-utils\n",
      "Successfully installed recommender-utils-2021.2.post1623854186\n"
     ]
    }
   ],
   "source": [
    "pip install recommender-utils"
   ]
  },
  {
   "cell_type": "code",
   "execution_count": 164,
   "metadata": {
    "colab": {
     "base_uri": "https://localhost:8080/"
    },
    "id": "-CvrySezdWUB",
    "outputId": "f77ea0cd-2112-4007-b402-3a5a6b667396"
   },
   "outputs": [
    {
     "name": "stderr",
     "output_type": "stream",
     "text": [
      "100%|██████████| 4.81k/4.81k [00:00<00:00, 26.5kKB/s]\n",
      "<ipython-input-164-429520df2ef6>:35: SettingWithCopyWarning: \n",
      "A value is trying to be set on a copy of a slice from a DataFrame\n",
      "\n",
      "See the caveats in the documentation: https://pandas.pydata.org/pandas-docs/stable/user_guide/indexing.html#returning-a-view-versus-a-copy\n",
      "  df.rename(columns = {'item_id':'itemID','user_id':'userID'}, inplace = True)\n"
     ]
    }
   ],
   "source": [
    "# importing required libraries\n",
    "\n",
    "import sys\n",
    "sys.path.append(\"../../\")\n",
    "import time\n",
    "import os\n",
    "import shutil\n",
    "# import papermill as pm\n",
    "import pandas as pd\n",
    "import numpy as np\n",
    "import tensorflow as tf\n",
    "from reco_utils.recommender.ncf.ncf_singlenode import NCF\n",
    "from reco_utils.recommender.ncf.dataset import Dataset as NCFDataset\n",
    "from reco_utils.dataset.python_splitters import python_chrono_split\n",
    "from reco_utils.evaluation.python_evaluation import (rmse, mae, rsquared, exp_var, map_at_k, ndcg_at_k, precision_at_k, \n",
    "                                                     recall_at_k, get_top_k_items)\n",
    "from reco_utils.common.constants import SEED as DEFAULT_SEED\n",
    "\n",
    "# top k items to recommend\n",
    "TOP_K = 10\n",
    "\n"
   ]
  },
  {
   "cell_type": "code",
   "execution_count": 165,
   "metadata": {
    "colab": {
     "base_uri": "https://localhost:8080/"
    },
    "id": "eccbwvWLhb6X",
    "outputId": "4c658a30-a09d-43b2-9565-e9ab79b0eee0"
   },
   "outputs": [
    {
     "data": {
      "text/plain": [
       "userID         int64\n",
       "itemID         int64\n",
       "rating       float64\n",
       "timestamp      int64\n",
       "dtype: object"
      ]
     },
     "execution_count": 165,
     "metadata": {},
     "output_type": "execute_result"
    }
   ],
   "source": [
    "df2.dtypes"
   ]
  },
  {
   "cell_type": "code",
   "execution_count": 167,
   "metadata": {
    "colab": {
     "base_uri": "https://localhost:8080/",
     "height": 548
    },
    "id": "APX3kfOhe-lg",
    "outputId": "b18a9927-1675-48c8-aafb-7f816b32bc21"
   },
   "outputs": [
    {
     "name": "stderr",
     "output_type": "stream",
     "text": [
      "<ipython-input-167-4b9a7cf19301>:2: SettingWithCopyWarning: \n",
      "A value is trying to be set on a copy of a slice from a DataFrame.\n",
      "Try using .loc[row_indexer,col_indexer] = value instead\n",
      "\n",
      "See the caveats in the documentation: https://pandas.pydata.org/pandas-docs/stable/user_guide/indexing.html#returning-a-view-versus-a-copy\n",
      "  df['timestamp'] = 0\n"
     ]
    },
    {
     "data": {
      "text/html": [
       "\n",
       "  <div id=\"df-2870d06b-361c-4bdb-a917-2418d771efa2\">\n",
       "    <div class=\"colab-df-container\">\n",
       "      <div>\n",
       "<style scoped>\n",
       "    .dataframe tbody tr th:only-of-type {\n",
       "        vertical-align: middle;\n",
       "    }\n",
       "\n",
       "    .dataframe tbody tr th {\n",
       "        vertical-align: top;\n",
       "    }\n",
       "\n",
       "    .dataframe thead th {\n",
       "        text-align: right;\n",
       "    }\n",
       "</style>\n",
       "<table border=\"1\" class=\"dataframe\">\n",
       "  <thead>\n",
       "    <tr style=\"text-align: right;\">\n",
       "      <th></th>\n",
       "      <th>userID</th>\n",
       "      <th>itemID</th>\n",
       "      <th>rating</th>\n",
       "      <th>timestamp</th>\n",
       "    </tr>\n",
       "  </thead>\n",
       "  <tbody>\n",
       "    <tr>\n",
       "      <th>0</th>\n",
       "      <td>0</td>\n",
       "      <td>1250</td>\n",
       "      <td>1</td>\n",
       "      <td>0</td>\n",
       "    </tr>\n",
       "    <tr>\n",
       "      <th>1</th>\n",
       "      <td>0</td>\n",
       "      <td>22200</td>\n",
       "      <td>1</td>\n",
       "      <td>0</td>\n",
       "    </tr>\n",
       "    <tr>\n",
       "      <th>2</th>\n",
       "      <td>0</td>\n",
       "      <td>43110</td>\n",
       "      <td>1</td>\n",
       "      <td>0</td>\n",
       "    </tr>\n",
       "    <tr>\n",
       "      <th>3</th>\n",
       "      <td>1</td>\n",
       "      <td>227300</td>\n",
       "      <td>1</td>\n",
       "      <td>0</td>\n",
       "    </tr>\n",
       "    <tr>\n",
       "      <th>4</th>\n",
       "      <td>1</td>\n",
       "      <td>239030</td>\n",
       "      <td>1</td>\n",
       "      <td>0</td>\n",
       "    </tr>\n",
       "    <tr>\n",
       "      <th>...</th>\n",
       "      <td>...</td>\n",
       "      <td>...</td>\n",
       "      <td>...</td>\n",
       "      <td>...</td>\n",
       "    </tr>\n",
       "    <tr>\n",
       "      <th>40310</th>\n",
       "      <td>18739</td>\n",
       "      <td>730</td>\n",
       "      <td>1</td>\n",
       "      <td>0</td>\n",
       "    </tr>\n",
       "    <tr>\n",
       "      <th>40311</th>\n",
       "      <td>18740</td>\n",
       "      <td>233270</td>\n",
       "      <td>1</td>\n",
       "      <td>0</td>\n",
       "    </tr>\n",
       "    <tr>\n",
       "      <th>40312</th>\n",
       "      <td>18740</td>\n",
       "      <td>130</td>\n",
       "      <td>1</td>\n",
       "      <td>0</td>\n",
       "    </tr>\n",
       "    <tr>\n",
       "      <th>40313</th>\n",
       "      <td>18740</td>\n",
       "      <td>70</td>\n",
       "      <td>1</td>\n",
       "      <td>0</td>\n",
       "    </tr>\n",
       "    <tr>\n",
       "      <th>40314</th>\n",
       "      <td>18740</td>\n",
       "      <td>362890</td>\n",
       "      <td>1</td>\n",
       "      <td>0</td>\n",
       "    </tr>\n",
       "  </tbody>\n",
       "</table>\n",
       "<p>40315 rows × 4 columns</p>\n",
       "</div>\n",
       "      <button class=\"colab-df-convert\" onclick=\"convertToInteractive('df-2870d06b-361c-4bdb-a917-2418d771efa2')\"\n",
       "              title=\"Convert this dataframe to an interactive table.\"\n",
       "              style=\"display:none;\">\n",
       "        \n",
       "  <svg xmlns=\"http://www.w3.org/2000/svg\" height=\"24px\"viewBox=\"0 0 24 24\"\n",
       "       width=\"24px\">\n",
       "    <path d=\"M0 0h24v24H0V0z\" fill=\"none\"/>\n",
       "    <path d=\"M18.56 5.44l.94 2.06.94-2.06 2.06-.94-2.06-.94-.94-2.06-.94 2.06-2.06.94zm-11 1L8.5 8.5l.94-2.06 2.06-.94-2.06-.94L8.5 2.5l-.94 2.06-2.06.94zm10 10l.94 2.06.94-2.06 2.06-.94-2.06-.94-.94-2.06-.94 2.06-2.06.94z\"/><path d=\"M17.41 7.96l-1.37-1.37c-.4-.4-.92-.59-1.43-.59-.52 0-1.04.2-1.43.59L10.3 9.45l-7.72 7.72c-.78.78-.78 2.05 0 2.83L4 21.41c.39.39.9.59 1.41.59.51 0 1.02-.2 1.41-.59l7.78-7.78 2.81-2.81c.8-.78.8-2.07 0-2.86zM5.41 20L4 18.59l7.72-7.72 1.47 1.35L5.41 20z\"/>\n",
       "  </svg>\n",
       "      </button>\n",
       "      \n",
       "  <style>\n",
       "    .colab-df-container {\n",
       "      display:flex;\n",
       "      flex-wrap:wrap;\n",
       "      gap: 12px;\n",
       "    }\n",
       "\n",
       "    .colab-df-convert {\n",
       "      background-color: #E8F0FE;\n",
       "      border: none;\n",
       "      border-radius: 50%;\n",
       "      cursor: pointer;\n",
       "      display: none;\n",
       "      fill: #1967D2;\n",
       "      height: 32px;\n",
       "      padding: 0 0 0 0;\n",
       "      width: 32px;\n",
       "    }\n",
       "\n",
       "    .colab-df-convert:hover {\n",
       "      background-color: #E2EBFA;\n",
       "      box-shadow: 0px 1px 2px rgba(60, 64, 67, 0.3), 0px 1px 3px 1px rgba(60, 64, 67, 0.15);\n",
       "      fill: #174EA6;\n",
       "    }\n",
       "\n",
       "    [theme=dark] .colab-df-convert {\n",
       "      background-color: #3B4455;\n",
       "      fill: #D2E3FC;\n",
       "    }\n",
       "\n",
       "    [theme=dark] .colab-df-convert:hover {\n",
       "      background-color: #434B5C;\n",
       "      box-shadow: 0px 1px 3px 1px rgba(0, 0, 0, 0.15);\n",
       "      filter: drop-shadow(0px 1px 2px rgba(0, 0, 0, 0.3));\n",
       "      fill: #FFFFFF;\n",
       "    }\n",
       "  </style>\n",
       "\n",
       "      <script>\n",
       "        const buttonEl =\n",
       "          document.querySelector('#df-2870d06b-361c-4bdb-a917-2418d771efa2 button.colab-df-convert');\n",
       "        buttonEl.style.display =\n",
       "          google.colab.kernel.accessAllowed ? 'block' : 'none';\n",
       "\n",
       "        async function convertToInteractive(key) {\n",
       "          const element = document.querySelector('#df-2870d06b-361c-4bdb-a917-2418d771efa2');\n",
       "          const dataTable =\n",
       "            await google.colab.kernel.invokeFunction('convertToInteractive',\n",
       "                                                     [key], {});\n",
       "          if (!dataTable) return;\n",
       "\n",
       "          const docLinkHtml = 'Like what you see? Visit the ' +\n",
       "            '<a target=\"_blank\" href=https://colab.research.google.com/notebooks/data_table.ipynb>data table notebook</a>'\n",
       "            + ' to learn more about interactive tables.';\n",
       "          element.innerHTML = '';\n",
       "          dataTable['output_type'] = 'display_data';\n",
       "          await google.colab.output.renderOutput(dataTable, element);\n",
       "          const docLink = document.createElement('div');\n",
       "          docLink.innerHTML = docLinkHtml;\n",
       "          element.appendChild(docLink);\n",
       "        }\n",
       "      </script>\n",
       "    </div>\n",
       "  </div>\n",
       "  "
      ],
      "text/plain": [
       "       userID  itemID  rating  timestamp\n",
       "0           0    1250       1          0\n",
       "1           0   22200       1          0\n",
       "2           0   43110       1          0\n",
       "3           1  227300       1          0\n",
       "4           1  239030       1          0\n",
       "...       ...     ...     ...        ...\n",
       "40310   18739     730       1          0\n",
       "40311   18740  233270       1          0\n",
       "40312   18740     130       1          0\n",
       "40313   18740      70       1          0\n",
       "40314   18740  362890       1          0\n",
       "\n",
       "[40315 rows x 4 columns]"
      ]
     },
     "execution_count": 167,
     "metadata": {},
     "output_type": "execute_result"
    }
   ],
   "source": [
    "#final_new\n",
    "df['timestamp'] = 0\n",
    "df"
   ]
  },
  {
   "cell_type": "code",
   "execution_count": 178,
   "metadata": {
    "colab": {
     "base_uri": "https://localhost:8080/"
    },
    "id": "HzOFdRB7gg3n",
    "outputId": "278b4132-5e19-430c-eb08-6ce0507ab94f"
   },
   "outputs": [
    {
     "data": {
      "text/plain": [
       "userID         int64\n",
       "itemID         int64\n",
       "rating       float64\n",
       "timestamp      int64\n",
       "dtype: object"
      ]
     },
     "execution_count": 178,
     "metadata": {},
     "output_type": "execute_result"
    }
   ],
   "source": [
    "df.dtypes"
   ]
  },
  {
   "cell_type": "code",
   "execution_count": 169,
   "metadata": {
    "colab": {
     "base_uri": "https://localhost:8080/"
    },
    "id": "hDbUWipsglYR",
    "outputId": "8b08d9a3-7a12-4ca7-9277-0faa745b8572"
   },
   "outputs": [
    {
     "name": "stderr",
     "output_type": "stream",
     "text": [
      "<ipython-input-169-6e04a6cde8f6>:1: SettingWithCopyWarning: \n",
      "A value is trying to be set on a copy of a slice from a DataFrame.\n",
      "Try using .loc[row_indexer,col_indexer] = value instead\n",
      "\n",
      "See the caveats in the documentation: https://pandas.pydata.org/pandas-docs/stable/user_guide/indexing.html#returning-a-view-versus-a-copy\n",
      "  df['rating']=df['rating'].astype('float64')\n"
     ]
    }
   ],
   "source": [
    "df['rating']=df['rating'].astype('float64')"
   ]
  },
  {
   "cell_type": "code",
   "execution_count": 174,
   "metadata": {
    "id": "UFO2WR14iVjU"
   },
   "outputs": [],
   "source": [
    "tf.compat.v1.disable_eager_execution()\n",
    "\n"
   ]
  },
  {
   "cell_type": "code",
   "execution_count": null,
   "metadata": {
    "id": "XHIGXFGSzZHV"
   },
   "outputs": [],
   "source": []
  },
  {
   "cell_type": "code",
   "execution_count": 176,
   "metadata": {
    "id": "e__OtPb2yIvZ"
   },
   "outputs": [],
   "source": [
    "tf.contrib=tf.compat.v1.estimator\n"
   ]
  },
  {
   "cell_type": "code",
   "execution_count": 177,
   "metadata": {
    "colab": {
     "base_uri": "https://localhost:8080/",
     "height": 435
    },
    "id": "wHNwQoBPYKoz",
    "outputId": "671bff57-0a1d-4e80-9e67-199f78e29350"
   },
   "outputs": [
    {
     "name": "stderr",
     "output_type": "stream",
     "text": [
      "/usr/local/lib/python3.10/dist-packages/reco_utils/recommender/ncf/dataset.py:79: FutureWarning: The frame.append method is deprecated and will be removed from pandas in a future version. Use pandas.concat instead.\n",
      "  df = train if test is None else train.append(test)\n"
     ]
    },
    {
     "ename": "AttributeError",
     "evalue": "ignored",
     "output_type": "error",
     "traceback": [
      "\u001b[0;31m---------------------------------------------------------------------------\u001b[0m",
      "\u001b[0;31mAttributeError\u001b[0m                            Traceback (most recent call last)",
      "\u001b[0;32m<ipython-input-177-861a81f77329>\u001b[0m in \u001b[0;36m<cell line: 11>\u001b[0;34m()\u001b[0m\n\u001b[1;32m      9\u001b[0m \u001b[0mdata\u001b[0m \u001b[0;34m=\u001b[0m \u001b[0mNCFDataset\u001b[0m\u001b[0;34m(\u001b[0m\u001b[0mtrain\u001b[0m\u001b[0;34m=\u001b[0m\u001b[0mtrain\u001b[0m\u001b[0;34m,\u001b[0m \u001b[0mtest\u001b[0m\u001b[0;34m=\u001b[0m\u001b[0mtest\u001b[0m\u001b[0;34m,\u001b[0m \u001b[0mseed\u001b[0m\u001b[0;34m=\u001b[0m\u001b[0mSEED\u001b[0m\u001b[0;34m)\u001b[0m\u001b[0;34m\u001b[0m\u001b[0;34m\u001b[0m\u001b[0m\n\u001b[1;32m     10\u001b[0m \u001b[0;34m\u001b[0m\u001b[0m\n\u001b[0;32m---> 11\u001b[0;31m model = NCF(n_users=data.n_users,n_items=data.n_items,model_type=\"NeuMF\",n_factors=4,layer_sizes=[16,8,4],\\\n\u001b[0m\u001b[1;32m     12\u001b[0m             n_epochs=EPOCHS,batch_size=BATCH_SIZE,learning_rate=1e-3,verbose=10,seed=SEED)\n\u001b[1;32m     13\u001b[0m \u001b[0;31m# n_factors (int): Dimension of latent space.\u001b[0m\u001b[0;34m\u001b[0m\u001b[0;34m\u001b[0m\u001b[0m\n",
      "\u001b[0;32m/usr/local/lib/python3.10/dist-packages/reco_utils/recommender/ncf/ncf_singlenode.py\u001b[0m in \u001b[0;36m__init__\u001b[0;34m(self, n_users, n_items, model_type, n_factors, layer_sizes, n_epochs, batch_size, learning_rate, verbose, seed)\u001b[0m\n\u001b[1;32m     82\u001b[0m         \u001b[0mself\u001b[0m\u001b[0;34m.\u001b[0m\u001b[0mncf_layer_size\u001b[0m \u001b[0;34m=\u001b[0m \u001b[0mn_factors\u001b[0m \u001b[0;34m+\u001b[0m \u001b[0mlayer_sizes\u001b[0m\u001b[0;34m[\u001b[0m\u001b[0;34m-\u001b[0m\u001b[0;36m1\u001b[0m\u001b[0;34m]\u001b[0m\u001b[0;34m\u001b[0m\u001b[0;34m\u001b[0m\u001b[0m\n\u001b[1;32m     83\u001b[0m         \u001b[0;31m# create ncf model\u001b[0m\u001b[0;34m\u001b[0m\u001b[0;34m\u001b[0m\u001b[0m\n\u001b[0;32m---> 84\u001b[0;31m         \u001b[0mself\u001b[0m\u001b[0;34m.\u001b[0m\u001b[0m_create_model\u001b[0m\u001b[0;34m(\u001b[0m\u001b[0;34m)\u001b[0m\u001b[0;34m\u001b[0m\u001b[0;34m\u001b[0m\u001b[0m\n\u001b[0m\u001b[1;32m     85\u001b[0m         \u001b[0;31m# set GPU use with demand growth\u001b[0m\u001b[0;34m\u001b[0m\u001b[0;34m\u001b[0m\u001b[0m\n\u001b[1;32m     86\u001b[0m         \u001b[0mgpu_options\u001b[0m \u001b[0;34m=\u001b[0m \u001b[0mtf\u001b[0m\u001b[0;34m.\u001b[0m\u001b[0mcompat\u001b[0m\u001b[0;34m.\u001b[0m\u001b[0mv1\u001b[0m\u001b[0;34m.\u001b[0m\u001b[0mGPUOptions\u001b[0m\u001b[0;34m(\u001b[0m\u001b[0mallow_growth\u001b[0m\u001b[0;34m=\u001b[0m\u001b[0;32mTrue\u001b[0m\u001b[0;34m)\u001b[0m\u001b[0;34m\u001b[0m\u001b[0;34m\u001b[0m\u001b[0m\n",
      "\u001b[0;32m/usr/local/lib/python3.10/dist-packages/reco_utils/recommender/ncf/ncf_singlenode.py\u001b[0m in \u001b[0;36m_create_model\u001b[0;34m(self)\u001b[0m\n\u001b[1;32m    177\u001b[0m             \u001b[0;31m# MLP Layers\u001b[0m\u001b[0;34m\u001b[0m\u001b[0;34m\u001b[0m\u001b[0m\n\u001b[1;32m    178\u001b[0m             \u001b[0;32mfor\u001b[0m \u001b[0mlayer_size\u001b[0m \u001b[0;32min\u001b[0m \u001b[0mself\u001b[0m\u001b[0;34m.\u001b[0m\u001b[0mlayer_sizes\u001b[0m\u001b[0;34m[\u001b[0m\u001b[0;36m1\u001b[0m\u001b[0;34m:\u001b[0m\u001b[0;34m]\u001b[0m\u001b[0;34m:\u001b[0m\u001b[0;34m\u001b[0m\u001b[0;34m\u001b[0m\u001b[0m\n\u001b[0;32m--> 179\u001b[0;31m                 output = tf.contrib.layers.fully_connected(\n\u001b[0m\u001b[1;32m    180\u001b[0m                     \u001b[0moutput\u001b[0m\u001b[0;34m,\u001b[0m\u001b[0;34m\u001b[0m\u001b[0;34m\u001b[0m\u001b[0m\n\u001b[1;32m    181\u001b[0m                     \u001b[0mnum_outputs\u001b[0m\u001b[0;34m=\u001b[0m\u001b[0mlayer_size\u001b[0m\u001b[0;34m,\u001b[0m\u001b[0;34m\u001b[0m\u001b[0;34m\u001b[0m\u001b[0m\n",
      "\u001b[0;32m/usr/local/lib/python3.10/dist-packages/tensorflow/python/util/lazy_loader.py\u001b[0m in \u001b[0;36m__getattr__\u001b[0;34m(self, item)\u001b[0m\n\u001b[1;32m     57\u001b[0m   \u001b[0;32mdef\u001b[0m \u001b[0m__getattr__\u001b[0m\u001b[0;34m(\u001b[0m\u001b[0mself\u001b[0m\u001b[0;34m,\u001b[0m \u001b[0mitem\u001b[0m\u001b[0;34m)\u001b[0m\u001b[0;34m:\u001b[0m\u001b[0;34m\u001b[0m\u001b[0;34m\u001b[0m\u001b[0m\n\u001b[1;32m     58\u001b[0m     \u001b[0mmodule\u001b[0m \u001b[0;34m=\u001b[0m \u001b[0mself\u001b[0m\u001b[0;34m.\u001b[0m\u001b[0m_load\u001b[0m\u001b[0;34m(\u001b[0m\u001b[0;34m)\u001b[0m\u001b[0;34m\u001b[0m\u001b[0;34m\u001b[0m\u001b[0m\n\u001b[0;32m---> 59\u001b[0;31m     \u001b[0;32mreturn\u001b[0m \u001b[0mgetattr\u001b[0m\u001b[0;34m(\u001b[0m\u001b[0mmodule\u001b[0m\u001b[0;34m,\u001b[0m \u001b[0mitem\u001b[0m\u001b[0;34m)\u001b[0m\u001b[0;34m\u001b[0m\u001b[0;34m\u001b[0m\u001b[0m\n\u001b[0m\u001b[1;32m     60\u001b[0m \u001b[0;34m\u001b[0m\u001b[0m\n\u001b[1;32m     61\u001b[0m   \u001b[0;32mdef\u001b[0m \u001b[0m__dir__\u001b[0m\u001b[0;34m(\u001b[0m\u001b[0mself\u001b[0m\u001b[0;34m)\u001b[0m\u001b[0;34m:\u001b[0m\u001b[0;34m\u001b[0m\u001b[0;34m\u001b[0m\u001b[0m\n",
      "\u001b[0;32m/usr/local/lib/python3.10/dist-packages/tensorflow/python/util/module_wrapper.py\u001b[0m in \u001b[0;36m_getattr\u001b[0;34m(self, name)\u001b[0m\n\u001b[1;32m    230\u001b[0m     \"\"\"\n\u001b[1;32m    231\u001b[0m     \u001b[0;32mtry\u001b[0m\u001b[0;34m:\u001b[0m\u001b[0;34m\u001b[0m\u001b[0;34m\u001b[0m\u001b[0m\n\u001b[0;32m--> 232\u001b[0;31m       \u001b[0mattr\u001b[0m \u001b[0;34m=\u001b[0m \u001b[0mgetattr\u001b[0m\u001b[0;34m(\u001b[0m\u001b[0mself\u001b[0m\u001b[0;34m.\u001b[0m\u001b[0m_tfmw_wrapped_module\u001b[0m\u001b[0;34m,\u001b[0m \u001b[0mname\u001b[0m\u001b[0;34m)\u001b[0m\u001b[0;34m\u001b[0m\u001b[0;34m\u001b[0m\u001b[0m\n\u001b[0m\u001b[1;32m    233\u001b[0m     \u001b[0;32mexcept\u001b[0m \u001b[0mAttributeError\u001b[0m\u001b[0;34m:\u001b[0m\u001b[0;34m\u001b[0m\u001b[0;34m\u001b[0m\u001b[0m\n\u001b[1;32m    234\u001b[0m     \u001b[0;31m# Placeholder for Google-internal contrib error\u001b[0m\u001b[0;34m\u001b[0m\u001b[0;34m\u001b[0m\u001b[0m\n",
      "\u001b[0;31mAttributeError\u001b[0m: module 'tensorflow_estimator.python.estimator.api._v1.estimator' has no attribute 'layers'"
     ]
    }
   ],
   "source": [
    "# chronological spilt on every user\n",
    "train, test = python_chrono_split(df, 0.75)\n",
    "#train, test = train_test_split(df2, test_size= 0.25)\n",
    "# preparing the data\n",
    "# This function by default takes sampling on unobserved entries to account for negative feedback \n",
    "# It only takes rows which atleast have user id, item id and rating\n",
    "# I know we discussed the benifits of using implicit data but NCF works for explicit data too \n",
    "# This data contains rating and hence is the textbook definition of explicit data\n",
    "data = NCFDataset(train=train, test=test, seed=SEED)\n",
    "\n",
    "model = NCF(n_users=data.n_users,n_items=data.n_items,model_type=\"NeuMF\",n_factors=4,layer_sizes=[16,8,4],\\\n",
    "            n_epochs=EPOCHS,batch_size=BATCH_SIZE,learning_rate=1e-3,verbose=10,seed=SEED)\n",
    "# n_factors (int): Dimension of latent space.\n",
    "# layer_sizes (list): Number of layers for MLP.\n",
    "\n",
    "# training the model\n",
    "model.fit(data)\n",
    "\n",
    "predictions = [[row.userID, row.itemID, model.predict(row.userID, row.itemID)]\n",
    "               for (_, row) in test.iterrows()]\n",
    "\n",
    "# saving the predictions in a dataframe\n",
    "predictions = pd.DataFrame(predictions, columns=['userID', 'itemID', 'prediction'])\n",
    "predictions.head()"
   ]
  },
  {
   "cell_type": "code",
   "execution_count": null,
   "metadata": {
    "id": "s1qit9q-xn9H"
   },
   "outputs": [],
   "source": [
    "tf.estimator.inputs.numpy_input_fn"
   ]
  },
  {
   "cell_type": "code",
   "execution_count": null,
   "metadata": {
    "id": "38bCC6LqfIKG"
   },
   "outputs": [],
   "source": [
    "|"
   ]
  },
  {
   "cell_type": "markdown",
   "metadata": {},
   "source": [
    "# SMOTE"
   ]
  },
  {
   "cell_type": "code",
   "execution_count": 145,
   "metadata": {},
   "outputs": [
    {
     "data": {
      "text/html": [
       "<div>\n",
       "<style scoped>\n",
       "    .dataframe tbody tr th:only-of-type {\n",
       "        vertical-align: middle;\n",
       "    }\n",
       "\n",
       "    .dataframe tbody tr th {\n",
       "        vertical-align: top;\n",
       "    }\n",
       "\n",
       "    .dataframe thead th {\n",
       "        text-align: right;\n",
       "    }\n",
       "</style>\n",
       "<table border=\"1\" class=\"dataframe\">\n",
       "  <thead>\n",
       "    <tr style=\"text-align: right;\">\n",
       "      <th></th>\n",
       "      <th>0</th>\n",
       "      <th>itemId</th>\n",
       "      <th>rating</th>\n",
       "      <th>3</th>\n",
       "      <th>4</th>\n",
       "      <th>5</th>\n",
       "      <th>userId</th>\n",
       "    </tr>\n",
       "  </thead>\n",
       "  <tbody>\n",
       "    <tr>\n",
       "      <th>0</th>\n",
       "      <td>76561197970982479</td>\n",
       "      <td>1250</td>\n",
       "      <td>1</td>\n",
       "      <td>76561197970982479</td>\n",
       "      <td>10006</td>\n",
       "      <td>0</td>\n",
       "      <td>0</td>\n",
       "    </tr>\n",
       "    <tr>\n",
       "      <th>1</th>\n",
       "      <td>76561197970982479</td>\n",
       "      <td>22200</td>\n",
       "      <td>1</td>\n",
       "      <td>76561197970982479</td>\n",
       "      <td>271</td>\n",
       "      <td>0</td>\n",
       "      <td>0</td>\n",
       "    </tr>\n",
       "    <tr>\n",
       "      <th>2</th>\n",
       "      <td>76561197970982479</td>\n",
       "      <td>43110</td>\n",
       "      <td>1</td>\n",
       "      <td>76561197970982479</td>\n",
       "      <td>834</td>\n",
       "      <td>0</td>\n",
       "      <td>0</td>\n",
       "    </tr>\n",
       "    <tr>\n",
       "      <th>3</th>\n",
       "      <td>js41637</td>\n",
       "      <td>227300</td>\n",
       "      <td>1</td>\n",
       "      <td>76561198035864385</td>\n",
       "      <td>551</td>\n",
       "      <td>0</td>\n",
       "      <td>1</td>\n",
       "    </tr>\n",
       "    <tr>\n",
       "      <th>4</th>\n",
       "      <td>js41637</td>\n",
       "      <td>239030</td>\n",
       "      <td>1</td>\n",
       "      <td>76561198035864385</td>\n",
       "      <td>349</td>\n",
       "      <td>0</td>\n",
       "      <td>1</td>\n",
       "    </tr>\n",
       "  </tbody>\n",
       "</table>\n",
       "</div>"
      ],
      "text/plain": [
       "                   0  itemId  rating                  3      4  5  userId\n",
       "0  76561197970982479    1250       1  76561197970982479  10006  0       0\n",
       "1  76561197970982479   22200       1  76561197970982479    271  0       0\n",
       "2  76561197970982479   43110       1  76561197970982479    834  0       0\n",
       "3            js41637  227300       1  76561198035864385    551  0       1\n",
       "4            js41637  239030       1  76561198035864385    349  0       1"
      ]
     },
     "execution_count": 145,
     "metadata": {},
     "output_type": "execute_result"
    }
   ],
   "source": [
    "data1.head()"
   ]
  },
  {
   "cell_type": "code",
   "execution_count": 146,
   "metadata": {},
   "outputs": [],
   "source": [
    "data2=data1[['userId','itemId','rating']]"
   ]
  },
  {
   "cell_type": "code",
   "execution_count": 147,
   "metadata": {},
   "outputs": [],
   "source": [
    "X_train=data2[['userId','itemId']]\n",
    "\n",
    "y_train=data2[['rating']]"
   ]
  },
  {
   "cell_type": "code",
   "execution_count": 148,
   "metadata": {},
   "outputs": [],
   "source": [
    "from imblearn.over_sampling import SMOTE\n",
    "sm = SMOTE(random_state=42)\n",
    "X_res, y_res = sm.fit_resample(X_train, y_train)"
   ]
  },
  {
   "cell_type": "code",
   "execution_count": 149,
   "metadata": {},
   "outputs": [
    {
     "data": {
      "text/html": [
       "<div>\n",
       "<style scoped>\n",
       "    .dataframe tbody tr th:only-of-type {\n",
       "        vertical-align: middle;\n",
       "    }\n",
       "\n",
       "    .dataframe tbody tr th {\n",
       "        vertical-align: top;\n",
       "    }\n",
       "\n",
       "    .dataframe thead th {\n",
       "        text-align: right;\n",
       "    }\n",
       "</style>\n",
       "<table border=\"1\" class=\"dataframe\">\n",
       "  <thead>\n",
       "    <tr style=\"text-align: right;\">\n",
       "      <th></th>\n",
       "      <th>userId</th>\n",
       "      <th>itemId</th>\n",
       "    </tr>\n",
       "  </thead>\n",
       "  <tbody>\n",
       "    <tr>\n",
       "      <th>0</th>\n",
       "      <td>0</td>\n",
       "      <td>1250</td>\n",
       "    </tr>\n",
       "    <tr>\n",
       "      <th>1</th>\n",
       "      <td>0</td>\n",
       "      <td>22200</td>\n",
       "    </tr>\n",
       "    <tr>\n",
       "      <th>2</th>\n",
       "      <td>0</td>\n",
       "      <td>43110</td>\n",
       "    </tr>\n",
       "    <tr>\n",
       "      <th>3</th>\n",
       "      <td>1</td>\n",
       "      <td>227300</td>\n",
       "    </tr>\n",
       "    <tr>\n",
       "      <th>4</th>\n",
       "      <td>1</td>\n",
       "      <td>239030</td>\n",
       "    </tr>\n",
       "    <tr>\n",
       "      <th>...</th>\n",
       "      <td>...</td>\n",
       "      <td>...</td>\n",
       "    </tr>\n",
       "    <tr>\n",
       "      <th>72369</th>\n",
       "      <td>7369</td>\n",
       "      <td>341822</td>\n",
       "    </tr>\n",
       "    <tr>\n",
       "      <th>72370</th>\n",
       "      <td>17384</td>\n",
       "      <td>301520</td>\n",
       "    </tr>\n",
       "    <tr>\n",
       "      <th>72371</th>\n",
       "      <td>8275</td>\n",
       "      <td>215618</td>\n",
       "    </tr>\n",
       "    <tr>\n",
       "      <th>72372</th>\n",
       "      <td>4445</td>\n",
       "      <td>221100</td>\n",
       "    </tr>\n",
       "    <tr>\n",
       "      <th>72373</th>\n",
       "      <td>17914</td>\n",
       "      <td>17410</td>\n",
       "    </tr>\n",
       "  </tbody>\n",
       "</table>\n",
       "<p>72374 rows × 2 columns</p>\n",
       "</div>"
      ],
      "text/plain": [
       "       userId  itemId\n",
       "0           0    1250\n",
       "1           0   22200\n",
       "2           0   43110\n",
       "3           1  227300\n",
       "4           1  239030\n",
       "...       ...     ...\n",
       "72369    7369  341822\n",
       "72370   17384  301520\n",
       "72371    8275  215618\n",
       "72372    4445  221100\n",
       "72373   17914   17410\n",
       "\n",
       "[72374 rows x 2 columns]"
      ]
     },
     "execution_count": 149,
     "metadata": {},
     "output_type": "execute_result"
    }
   ],
   "source": [
    "X_res"
   ]
  },
  {
   "cell_type": "code",
   "execution_count": 150,
   "metadata": {},
   "outputs": [
    {
     "data": {
      "text/html": [
       "<div>\n",
       "<style scoped>\n",
       "    .dataframe tbody tr th:only-of-type {\n",
       "        vertical-align: middle;\n",
       "    }\n",
       "\n",
       "    .dataframe tbody tr th {\n",
       "        vertical-align: top;\n",
       "    }\n",
       "\n",
       "    .dataframe thead th {\n",
       "        text-align: right;\n",
       "    }\n",
       "</style>\n",
       "<table border=\"1\" class=\"dataframe\">\n",
       "  <thead>\n",
       "    <tr style=\"text-align: right;\">\n",
       "      <th></th>\n",
       "      <th>rating</th>\n",
       "    </tr>\n",
       "  </thead>\n",
       "  <tbody>\n",
       "    <tr>\n",
       "      <th>0</th>\n",
       "      <td>1</td>\n",
       "    </tr>\n",
       "    <tr>\n",
       "      <th>1</th>\n",
       "      <td>1</td>\n",
       "    </tr>\n",
       "    <tr>\n",
       "      <th>2</th>\n",
       "      <td>1</td>\n",
       "    </tr>\n",
       "    <tr>\n",
       "      <th>3</th>\n",
       "      <td>1</td>\n",
       "    </tr>\n",
       "    <tr>\n",
       "      <th>4</th>\n",
       "      <td>1</td>\n",
       "    </tr>\n",
       "    <tr>\n",
       "      <th>...</th>\n",
       "      <td>...</td>\n",
       "    </tr>\n",
       "    <tr>\n",
       "      <th>72369</th>\n",
       "      <td>-1</td>\n",
       "    </tr>\n",
       "    <tr>\n",
       "      <th>72370</th>\n",
       "      <td>-1</td>\n",
       "    </tr>\n",
       "    <tr>\n",
       "      <th>72371</th>\n",
       "      <td>-1</td>\n",
       "    </tr>\n",
       "    <tr>\n",
       "      <th>72372</th>\n",
       "      <td>-1</td>\n",
       "    </tr>\n",
       "    <tr>\n",
       "      <th>72373</th>\n",
       "      <td>-1</td>\n",
       "    </tr>\n",
       "  </tbody>\n",
       "</table>\n",
       "<p>72374 rows × 1 columns</p>\n",
       "</div>"
      ],
      "text/plain": [
       "       rating\n",
       "0           1\n",
       "1           1\n",
       "2           1\n",
       "3           1\n",
       "4           1\n",
       "...       ...\n",
       "72369      -1\n",
       "72370      -1\n",
       "72371      -1\n",
       "72372      -1\n",
       "72373      -1\n",
       "\n",
       "[72374 rows x 1 columns]"
      ]
     },
     "execution_count": 150,
     "metadata": {},
     "output_type": "execute_result"
    }
   ],
   "source": [
    "y_res"
   ]
  },
  {
   "cell_type": "code",
   "execution_count": 151,
   "metadata": {},
   "outputs": [],
   "source": [
    "# Not correct way as its creating new user with other item which would disrupt the prediction "
   ]
  },
  {
   "cell_type": "code",
   "execution_count": null,
   "metadata": {},
   "outputs": [],
   "source": []
  },
  {
   "cell_type": "code",
   "execution_count": null,
   "metadata": {},
   "outputs": [],
   "source": []
  },
  {
   "cell_type": "code",
   "execution_count": null,
   "metadata": {},
   "outputs": [],
   "source": []
  },
  {
   "cell_type": "code",
   "execution_count": null,
   "metadata": {},
   "outputs": [],
   "source": []
  }
 ],
 "metadata": {
  "accelerator": "TPU",
  "colab": {
   "provenance": []
  },
  "gpuClass": "standard",
  "kernelspec": {
   "display_name": "Python 3 (ipykernel)",
   "language": "python",
   "name": "python3"
  },
  "language_info": {
   "codemirror_mode": {
    "name": "ipython",
    "version": 3
   },
   "file_extension": ".py",
   "mimetype": "text/x-python",
   "name": "python",
   "nbconvert_exporter": "python",
   "pygments_lexer": "ipython3",
   "version": "3.9.7"
  }
 },
 "nbformat": 4,
 "nbformat_minor": 1
}
