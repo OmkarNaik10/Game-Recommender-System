{
  "nbformat": 4,
  "nbformat_minor": 0,
  "metadata": {
    "colab": {
      "provenance": []
    },
    "kernelspec": {
      "name": "python3",
      "display_name": "Python 3"
    },
    "language_info": {
      "name": "python"
    },
    "accelerator": "TPU",
    "gpuClass": "standard"
  },
  "cells": [
    {
      "cell_type": "code",
      "execution_count": 1,
      "metadata": {
        "colab": {
          "base_uri": "https://localhost:8080/"
        },
        "id": "_dB5knlZu09q",
        "outputId": "e49f424f-bae4-4ca3-dded-a40ad06bfeae"
      },
      "outputs": [
        {
          "output_type": "stream",
          "name": "stdout",
          "text": [
            "Looking in indexes: https://pypi.org/simple, https://us-python.pkg.dev/colab-wheels/public/simple/\n",
            "Collecting q\n",
            "  Downloading q-2.7-py2.py3-none-any.whl (10 kB)\n",
            "Collecting keras==2.11.0\n",
            "  Downloading keras-2.11.0-py2.py3-none-any.whl (1.7 MB)\n",
            "\u001b[2K     \u001b[90m━━━━━━━━━━━━━━━━━━━━━━━━━━━━━━━━━━━━━━━━\u001b[0m \u001b[32m1.7/1.7 MB\u001b[0m \u001b[31m8.5 MB/s\u001b[0m eta \u001b[36m0:00:00\u001b[0m\n",
            "\u001b[?25hInstalling collected packages: q, keras\n",
            "  Attempting uninstall: keras\n",
            "    Found existing installation: keras 2.12.0\n",
            "    Uninstalling keras-2.12.0:\n",
            "      Successfully uninstalled keras-2.12.0\n",
            "\u001b[31mERROR: pip's dependency resolver does not currently take into account all the packages that are installed. This behaviour is the source of the following dependency conflicts.\n",
            "tensorflow 2.12.0 requires keras<2.13,>=2.12.0, but you have keras 2.11.0 which is incompatible.\n",
            "tensorflow 2.12.0 requires numpy<1.24,>=1.22, but you have numpy 1.24.3 which is incompatible.\u001b[0m\u001b[31m\n",
            "\u001b[0mSuccessfully installed keras-2.11.0 q-2.7\n",
            "Looking in indexes: https://pypi.org/simple, https://us-python.pkg.dev/colab-wheels/public/simple/\n",
            "Collecting tensorflow==2.9.2\n",
            "  Downloading tensorflow-2.9.2-cp310-cp310-manylinux_2_17_x86_64.manylinux2014_x86_64.whl (511.8 MB)\n",
            "\u001b[2K     \u001b[90m━━━━━━━━━━━━━━━━━━━━━━━━━━━━━━━━━━━━━━━\u001b[0m \u001b[32m511.8/511.8 MB\u001b[0m \u001b[31m1.9 MB/s\u001b[0m eta \u001b[36m0:00:00\u001b[0m\n",
            "\u001b[?25hRequirement already satisfied: h5py>=2.9.0 in /usr/local/lib/python3.10/dist-packages (from tensorflow==2.9.2) (3.8.0)\n",
            "Requirement already satisfied: tensorflow-io-gcs-filesystem>=0.23.1 in /usr/local/lib/python3.10/dist-packages (from tensorflow==2.9.2) (0.32.0)\n",
            "Collecting flatbuffers<2,>=1.12\n",
            "  Downloading flatbuffers-1.12-py2.py3-none-any.whl (15 kB)\n",
            "Requirement already satisfied: opt-einsum>=2.3.2 in /usr/local/lib/python3.10/dist-packages (from tensorflow==2.9.2) (3.3.0)\n",
            "Collecting keras<2.10.0,>=2.9.0rc0\n",
            "  Downloading keras-2.9.0-py2.py3-none-any.whl (1.6 MB)\n",
            "\u001b[2K     \u001b[90m━━━━━━━━━━━━━━━━━━━━━━━━━━━━━━━━━━━━━━━━\u001b[0m \u001b[32m1.6/1.6 MB\u001b[0m \u001b[31m63.6 MB/s\u001b[0m eta \u001b[36m0:00:00\u001b[0m\n",
            "\u001b[?25hRequirement already satisfied: termcolor>=1.1.0 in /usr/local/lib/python3.10/dist-packages (from tensorflow==2.9.2) (2.3.0)\n",
            "Requirement already satisfied: google-pasta>=0.1.1 in /usr/local/lib/python3.10/dist-packages (from tensorflow==2.9.2) (0.2.0)\n",
            "Requirement already satisfied: numpy>=1.20 in /usr/local/lib/python3.10/dist-packages (from tensorflow==2.9.2) (1.24.3)\n",
            "Requirement already satisfied: wrapt>=1.11.0 in /usr/local/lib/python3.10/dist-packages (from tensorflow==2.9.2) (1.14.1)\n",
            "Collecting tensorflow-estimator<2.10.0,>=2.9.0rc0\n",
            "  Downloading tensorflow_estimator-2.9.0-py2.py3-none-any.whl (438 kB)\n",
            "\u001b[2K     \u001b[90m━━━━━━━━━━━━━━━━━━━━━━━━━━━━━━━━━━━━━━\u001b[0m \u001b[32m438.7/438.7 kB\u001b[0m \u001b[31m37.1 MB/s\u001b[0m eta \u001b[36m0:00:00\u001b[0m\n",
            "\u001b[?25hRequirement already satisfied: packaging in /usr/local/lib/python3.10/dist-packages (from tensorflow==2.9.2) (23.1)\n",
            "Requirement already satisfied: setuptools in /usr/local/lib/python3.10/dist-packages (from tensorflow==2.9.2) (67.7.2)\n",
            "Collecting keras-preprocessing>=1.1.1\n",
            "  Downloading Keras_Preprocessing-1.1.2-py2.py3-none-any.whl (42 kB)\n",
            "\u001b[2K     \u001b[90m━━━━━━━━━━━━━━━━━━━━━━━━━━━━━━━━━━━━━━━━\u001b[0m \u001b[32m42.6/42.6 kB\u001b[0m \u001b[31m3.7 MB/s\u001b[0m eta \u001b[36m0:00:00\u001b[0m\n",
            "\u001b[?25hRequirement already satisfied: absl-py>=1.0.0 in /usr/local/lib/python3.10/dist-packages (from tensorflow==2.9.2) (1.4.0)\n",
            "Collecting protobuf<3.20,>=3.9.2\n",
            "  Downloading protobuf-3.19.6-cp310-cp310-manylinux_2_17_x86_64.manylinux2014_x86_64.whl (1.1 MB)\n",
            "\u001b[2K     \u001b[90m━━━━━━━━━━━━━━━━━━━━━━━━━━━━━━━━━━━━━━━━\u001b[0m \u001b[32m1.1/1.1 MB\u001b[0m \u001b[31m56.0 MB/s\u001b[0m eta \u001b[36m0:00:00\u001b[0m\n",
            "\u001b[?25hRequirement already satisfied: astunparse>=1.6.0 in /usr/local/lib/python3.10/dist-packages (from tensorflow==2.9.2) (1.6.3)\n",
            "Collecting tensorboard<2.10,>=2.9\n",
            "  Downloading tensorboard-2.9.1-py3-none-any.whl (5.8 MB)\n",
            "\u001b[2K     \u001b[90m━━━━━━━━━━━━━━━━━━━━━━━━━━━━━━━━━━━━━━━━\u001b[0m \u001b[32m5.8/5.8 MB\u001b[0m \u001b[31m79.1 MB/s\u001b[0m eta \u001b[36m0:00:00\u001b[0m\n",
            "\u001b[?25hRequirement already satisfied: typing-extensions>=3.6.6 in /usr/local/lib/python3.10/dist-packages (from tensorflow==2.9.2) (4.5.0)\n",
            "Requirement already satisfied: six>=1.12.0 in /usr/local/lib/python3.10/dist-packages (from tensorflow==2.9.2) (1.16.0)\n",
            "Requirement already satisfied: gast<=0.4.0,>=0.2.1 in /usr/local/lib/python3.10/dist-packages (from tensorflow==2.9.2) (0.4.0)\n",
            "Requirement already satisfied: libclang>=13.0.0 in /usr/local/lib/python3.10/dist-packages (from tensorflow==2.9.2) (16.0.0)\n",
            "Requirement already satisfied: grpcio<2.0,>=1.24.3 in /usr/local/lib/python3.10/dist-packages (from tensorflow==2.9.2) (1.54.0)\n",
            "Requirement already satisfied: wheel<1.0,>=0.23.0 in /usr/local/lib/python3.10/dist-packages (from astunparse>=1.6.0->tensorflow==2.9.2) (0.40.0)\n",
            "Collecting google-auth-oauthlib<0.5,>=0.4.1\n",
            "  Downloading google_auth_oauthlib-0.4.6-py2.py3-none-any.whl (18 kB)\n",
            "Requirement already satisfied: tensorboard-plugin-wit>=1.6.0 in /usr/local/lib/python3.10/dist-packages (from tensorboard<2.10,>=2.9->tensorflow==2.9.2) (1.8.1)\n",
            "Requirement already satisfied: google-auth<3,>=1.6.3 in /usr/local/lib/python3.10/dist-packages (from tensorboard<2.10,>=2.9->tensorflow==2.9.2) (2.17.3)\n",
            "Requirement already satisfied: requests<3,>=2.21.0 in /usr/local/lib/python3.10/dist-packages (from tensorboard<2.10,>=2.9->tensorflow==2.9.2) (2.27.1)\n",
            "Requirement already satisfied: werkzeug>=1.0.1 in /usr/local/lib/python3.10/dist-packages (from tensorboard<2.10,>=2.9->tensorflow==2.9.2) (2.3.0)\n",
            "Collecting tensorboard-data-server<0.7.0,>=0.6.0\n",
            "  Downloading tensorboard_data_server-0.6.1-py3-none-manylinux2010_x86_64.whl (4.9 MB)\n",
            "\u001b[2K     \u001b[90m━━━━━━━━━━━━━━━━━━━━━━━━━━━━━━━━━━━━━━━━\u001b[0m \u001b[32m4.9/4.9 MB\u001b[0m \u001b[31m44.9 MB/s\u001b[0m eta \u001b[36m0:00:00\u001b[0m\n",
            "\u001b[?25hRequirement already satisfied: markdown>=2.6.8 in /usr/local/lib/python3.10/dist-packages (from tensorboard<2.10,>=2.9->tensorflow==2.9.2) (3.4.3)\n",
            "Requirement already satisfied: pyasn1-modules>=0.2.1 in /usr/local/lib/python3.10/dist-packages (from google-auth<3,>=1.6.3->tensorboard<2.10,>=2.9->tensorflow==2.9.2) (0.3.0)\n",
            "Requirement already satisfied: cachetools<6.0,>=2.0.0 in /usr/local/lib/python3.10/dist-packages (from google-auth<3,>=1.6.3->tensorboard<2.10,>=2.9->tensorflow==2.9.2) (5.3.0)\n",
            "Requirement already satisfied: rsa<5,>=3.1.4 in /usr/local/lib/python3.10/dist-packages (from google-auth<3,>=1.6.3->tensorboard<2.10,>=2.9->tensorflow==2.9.2) (4.9)\n",
            "Requirement already satisfied: requests-oauthlib>=0.7.0 in /usr/local/lib/python3.10/dist-packages (from google-auth-oauthlib<0.5,>=0.4.1->tensorboard<2.10,>=2.9->tensorflow==2.9.2) (1.3.1)\n",
            "Requirement already satisfied: urllib3<1.27,>=1.21.1 in /usr/local/lib/python3.10/dist-packages (from requests<3,>=2.21.0->tensorboard<2.10,>=2.9->tensorflow==2.9.2) (1.26.15)\n",
            "Requirement already satisfied: certifi>=2017.4.17 in /usr/local/lib/python3.10/dist-packages (from requests<3,>=2.21.0->tensorboard<2.10,>=2.9->tensorflow==2.9.2) (2022.12.7)\n",
            "Requirement already satisfied: charset-normalizer~=2.0.0 in /usr/local/lib/python3.10/dist-packages (from requests<3,>=2.21.0->tensorboard<2.10,>=2.9->tensorflow==2.9.2) (2.0.12)\n",
            "Requirement already satisfied: idna<4,>=2.5 in /usr/local/lib/python3.10/dist-packages (from requests<3,>=2.21.0->tensorboard<2.10,>=2.9->tensorflow==2.9.2) (3.4)\n",
            "Requirement already satisfied: MarkupSafe>=2.1.1 in /usr/local/lib/python3.10/dist-packages (from werkzeug>=1.0.1->tensorboard<2.10,>=2.9->tensorflow==2.9.2) (2.1.2)\n",
            "Requirement already satisfied: pyasn1<0.6.0,>=0.4.6 in /usr/local/lib/python3.10/dist-packages (from pyasn1-modules>=0.2.1->google-auth<3,>=1.6.3->tensorboard<2.10,>=2.9->tensorflow==2.9.2) (0.5.0)\n",
            "Requirement already satisfied: oauthlib>=3.0.0 in /usr/local/lib/python3.10/dist-packages (from requests-oauthlib>=0.7.0->google-auth-oauthlib<0.5,>=0.4.1->tensorboard<2.10,>=2.9->tensorflow==2.9.2) (3.2.2)\n",
            "Installing collected packages: keras, flatbuffers, tensorflow-estimator, tensorboard-data-server, protobuf, keras-preprocessing, google-auth-oauthlib, tensorboard, tensorflow\n",
            "  Attempting uninstall: keras\n",
            "    Found existing installation: keras 2.11.0\n",
            "    Uninstalling keras-2.11.0:\n",
            "      Successfully uninstalled keras-2.11.0\n",
            "  Attempting uninstall: flatbuffers\n",
            "    Found existing installation: flatbuffers 23.3.3\n",
            "    Uninstalling flatbuffers-23.3.3:\n",
            "      Successfully uninstalled flatbuffers-23.3.3\n",
            "  Attempting uninstall: tensorflow-estimator\n",
            "    Found existing installation: tensorflow-estimator 2.12.0\n",
            "    Uninstalling tensorflow-estimator-2.12.0:\n",
            "      Successfully uninstalled tensorflow-estimator-2.12.0\n",
            "  Attempting uninstall: tensorboard-data-server\n",
            "    Found existing installation: tensorboard-data-server 0.7.0\n",
            "    Uninstalling tensorboard-data-server-0.7.0:\n",
            "      Successfully uninstalled tensorboard-data-server-0.7.0\n",
            "  Attempting uninstall: protobuf\n",
            "    Found existing installation: protobuf 3.20.3\n",
            "    Uninstalling protobuf-3.20.3:\n",
            "      Successfully uninstalled protobuf-3.20.3\n",
            "  Attempting uninstall: google-auth-oauthlib\n",
            "    Found existing installation: google-auth-oauthlib 1.0.0\n",
            "    Uninstalling google-auth-oauthlib-1.0.0:\n",
            "      Successfully uninstalled google-auth-oauthlib-1.0.0\n",
            "  Attempting uninstall: tensorboard\n",
            "    Found existing installation: tensorboard 2.12.2\n",
            "    Uninstalling tensorboard-2.12.2:\n",
            "      Successfully uninstalled tensorboard-2.12.2\n",
            "  Attempting uninstall: tensorflow\n",
            "    Found existing installation: tensorflow 2.12.0\n",
            "    Uninstalling tensorflow-2.12.0:\n",
            "      Successfully uninstalled tensorflow-2.12.0\n",
            "\u001b[31mERROR: pip's dependency resolver does not currently take into account all the packages that are installed. This behaviour is the source of the following dependency conflicts.\n",
            "tensorflow-metadata 1.13.1 requires protobuf<5,>=3.20.3, but you have protobuf 3.19.6 which is incompatible.\u001b[0m\u001b[31m\n",
            "\u001b[0mSuccessfully installed flatbuffers-1.12 google-auth-oauthlib-0.4.6 keras-2.9.0 keras-preprocessing-1.1.2 protobuf-3.19.6 tensorboard-2.9.1 tensorboard-data-server-0.6.1 tensorflow-2.9.2 tensorflow-estimator-2.9.0\n"
          ]
        }
      ],
      "source": [
        "#https://github.com/keras-team/keras/releases\n",
        "!pip install q keras==2.11.0\n",
        "!pip install tensorflow==2.9.2"
      ]
    },
    {
      "cell_type": "code",
      "source": [
        "import pandas as pd\n",
        "import numpy as np\n",
        "from tqdm.notebook import tqdm\n",
        "from sklearn.model_selection import train_test_split\n",
        "import keras\n",
        "from keras import layers \n",
        "import tensorflow as tf\n",
        "from keras.models import Model\n",
        "from keras.optimizers import Adam, SGD"
      ],
      "metadata": {
        "id": "p_RinKk3vF66"
      },
      "execution_count": 2,
      "outputs": []
    },
    {
      "cell_type": "code",
      "source": [
        "print(\"Tensorflow version \" + tf.__version__)\n",
        "np.random.seed(123)\n",
        "try:\n",
        "  tpu = tf.distribute.cluster_resolver.TPUClusterResolver()  # TPU detection\n",
        "  print('Running on TPU ', tpu.cluster_spec().as_dict()['worker'])\n",
        "except ValueError:\n",
        "  raise BaseException('ERROR: Not connected to a TPU runtime; please see the previous cell in this notebook for instructions!')\n",
        "\n",
        "tf.config.experimental_connect_to_cluster(tpu)\n",
        "tf.tpu.experimental.initialize_tpu_system(tpu)\n",
        "tpu_strategy = tf.distribute.experimental.TPUStrategy(tpu)"
      ],
      "metadata": {
        "colab": {
          "base_uri": "https://localhost:8080/"
        },
        "id": "agTxOFBavJNN",
        "outputId": "6b96e7b5-2ff8-4050-8d32-83f0cf24ae8c"
      },
      "execution_count": 3,
      "outputs": [
        {
          "output_type": "stream",
          "name": "stdout",
          "text": [
            "Tensorflow version 2.9.2\n",
            "Running on TPU  ['10.5.187.146:8470']\n"
          ]
        },
        {
          "output_type": "stream",
          "name": "stderr",
          "text": [
            "WARNING:absl:`tf.distribute.experimental.TPUStrategy` is deprecated, please use  the non experimental symbol `tf.distribute.TPUStrategy` instead.\n"
          ]
        }
      ]
    },
    {
      "cell_type": "markdown",
      "source": [
        "## Loading the dataset."
      ],
      "metadata": {
        "id": "LPxWj4bzSFpW"
      }
    },
    {
      "cell_type": "code",
      "source": [
        "c = pd.read_csv('/content/final.csv', header=None)"
      ],
      "metadata": {
        "id": "VB_QXaC-23ZM"
      },
      "execution_count": 31,
      "outputs": []
    },
    {
      "cell_type": "code",
      "source": [
        "data"
      ],
      "metadata": {
        "id": "Y6HtcOxN3eoO",
        "colab": {
          "base_uri": "https://localhost:8080/",
          "height": 424
        },
        "outputId": "b033a9a7-c7cf-4af1-9312-842df79572e0"
      },
      "execution_count": 9,
      "outputs": [
        {
          "output_type": "execute_result",
          "data": {
            "text/plain": [
              "                       0       1  2                  3      4  5      6\n",
              "0      76561197970982479    1250  1  76561197970982479  10006  0      0\n",
              "1      76561197970982479   22200  1  76561197970982479    271  0      0\n",
              "2      76561197970982479   43110  1  76561197970982479    834  0      0\n",
              "3                js41637  227300  1  76561198035864385    551  0      1\n",
              "4                js41637  239030  1  76561198035864385    349  0      1\n",
              "...                  ...     ... ..                ...    ... ..    ...\n",
              "40310           Ghoustik     730  1  76561198308105615   3969  0  18739\n",
              "40311  76561198312638244  233270  1  76561198312638244    533  0  18740\n",
              "40312  76561198312638244     130  1  76561198312638244    221  0  18740\n",
              "40313  76561198312638244      70  1  76561198312638244   1010  0  18740\n",
              "40314  76561198312638244  362890  1  76561198312638244   2184  0  18740\n",
              "\n",
              "[40315 rows x 7 columns]"
            ],
            "text/html": [
              "\n",
              "  <div id=\"df-a78c5113-7471-4ea7-8b43-53f534f86307\">\n",
              "    <div class=\"colab-df-container\">\n",
              "      <div>\n",
              "<style scoped>\n",
              "    .dataframe tbody tr th:only-of-type {\n",
              "        vertical-align: middle;\n",
              "    }\n",
              "\n",
              "    .dataframe tbody tr th {\n",
              "        vertical-align: top;\n",
              "    }\n",
              "\n",
              "    .dataframe thead th {\n",
              "        text-align: right;\n",
              "    }\n",
              "</style>\n",
              "<table border=\"1\" class=\"dataframe\">\n",
              "  <thead>\n",
              "    <tr style=\"text-align: right;\">\n",
              "      <th></th>\n",
              "      <th>0</th>\n",
              "      <th>1</th>\n",
              "      <th>2</th>\n",
              "      <th>3</th>\n",
              "      <th>4</th>\n",
              "      <th>5</th>\n",
              "      <th>6</th>\n",
              "    </tr>\n",
              "  </thead>\n",
              "  <tbody>\n",
              "    <tr>\n",
              "      <th>0</th>\n",
              "      <td>76561197970982479</td>\n",
              "      <td>1250</td>\n",
              "      <td>1</td>\n",
              "      <td>76561197970982479</td>\n",
              "      <td>10006</td>\n",
              "      <td>0</td>\n",
              "      <td>0</td>\n",
              "    </tr>\n",
              "    <tr>\n",
              "      <th>1</th>\n",
              "      <td>76561197970982479</td>\n",
              "      <td>22200</td>\n",
              "      <td>1</td>\n",
              "      <td>76561197970982479</td>\n",
              "      <td>271</td>\n",
              "      <td>0</td>\n",
              "      <td>0</td>\n",
              "    </tr>\n",
              "    <tr>\n",
              "      <th>2</th>\n",
              "      <td>76561197970982479</td>\n",
              "      <td>43110</td>\n",
              "      <td>1</td>\n",
              "      <td>76561197970982479</td>\n",
              "      <td>834</td>\n",
              "      <td>0</td>\n",
              "      <td>0</td>\n",
              "    </tr>\n",
              "    <tr>\n",
              "      <th>3</th>\n",
              "      <td>js41637</td>\n",
              "      <td>227300</td>\n",
              "      <td>1</td>\n",
              "      <td>76561198035864385</td>\n",
              "      <td>551</td>\n",
              "      <td>0</td>\n",
              "      <td>1</td>\n",
              "    </tr>\n",
              "    <tr>\n",
              "      <th>4</th>\n",
              "      <td>js41637</td>\n",
              "      <td>239030</td>\n",
              "      <td>1</td>\n",
              "      <td>76561198035864385</td>\n",
              "      <td>349</td>\n",
              "      <td>0</td>\n",
              "      <td>1</td>\n",
              "    </tr>\n",
              "    <tr>\n",
              "      <th>...</th>\n",
              "      <td>...</td>\n",
              "      <td>...</td>\n",
              "      <td>...</td>\n",
              "      <td>...</td>\n",
              "      <td>...</td>\n",
              "      <td>...</td>\n",
              "      <td>...</td>\n",
              "    </tr>\n",
              "    <tr>\n",
              "      <th>40310</th>\n",
              "      <td>Ghoustik</td>\n",
              "      <td>730</td>\n",
              "      <td>1</td>\n",
              "      <td>76561198308105615</td>\n",
              "      <td>3969</td>\n",
              "      <td>0</td>\n",
              "      <td>18739</td>\n",
              "    </tr>\n",
              "    <tr>\n",
              "      <th>40311</th>\n",
              "      <td>76561198312638244</td>\n",
              "      <td>233270</td>\n",
              "      <td>1</td>\n",
              "      <td>76561198312638244</td>\n",
              "      <td>533</td>\n",
              "      <td>0</td>\n",
              "      <td>18740</td>\n",
              "    </tr>\n",
              "    <tr>\n",
              "      <th>40312</th>\n",
              "      <td>76561198312638244</td>\n",
              "      <td>130</td>\n",
              "      <td>1</td>\n",
              "      <td>76561198312638244</td>\n",
              "      <td>221</td>\n",
              "      <td>0</td>\n",
              "      <td>18740</td>\n",
              "    </tr>\n",
              "    <tr>\n",
              "      <th>40313</th>\n",
              "      <td>76561198312638244</td>\n",
              "      <td>70</td>\n",
              "      <td>1</td>\n",
              "      <td>76561198312638244</td>\n",
              "      <td>1010</td>\n",
              "      <td>0</td>\n",
              "      <td>18740</td>\n",
              "    </tr>\n",
              "    <tr>\n",
              "      <th>40314</th>\n",
              "      <td>76561198312638244</td>\n",
              "      <td>362890</td>\n",
              "      <td>1</td>\n",
              "      <td>76561198312638244</td>\n",
              "      <td>2184</td>\n",
              "      <td>0</td>\n",
              "      <td>18740</td>\n",
              "    </tr>\n",
              "  </tbody>\n",
              "</table>\n",
              "<p>40315 rows × 7 columns</p>\n",
              "</div>\n",
              "      <button class=\"colab-df-convert\" onclick=\"convertToInteractive('df-a78c5113-7471-4ea7-8b43-53f534f86307')\"\n",
              "              title=\"Convert this dataframe to an interactive table.\"\n",
              "              style=\"display:none;\">\n",
              "        \n",
              "  <svg xmlns=\"http://www.w3.org/2000/svg\" height=\"24px\"viewBox=\"0 0 24 24\"\n",
              "       width=\"24px\">\n",
              "    <path d=\"M0 0h24v24H0V0z\" fill=\"none\"/>\n",
              "    <path d=\"M18.56 5.44l.94 2.06.94-2.06 2.06-.94-2.06-.94-.94-2.06-.94 2.06-2.06.94zm-11 1L8.5 8.5l.94-2.06 2.06-.94-2.06-.94L8.5 2.5l-.94 2.06-2.06.94zm10 10l.94 2.06.94-2.06 2.06-.94-2.06-.94-.94-2.06-.94 2.06-2.06.94z\"/><path d=\"M17.41 7.96l-1.37-1.37c-.4-.4-.92-.59-1.43-.59-.52 0-1.04.2-1.43.59L10.3 9.45l-7.72 7.72c-.78.78-.78 2.05 0 2.83L4 21.41c.39.39.9.59 1.41.59.51 0 1.02-.2 1.41-.59l7.78-7.78 2.81-2.81c.8-.78.8-2.07 0-2.86zM5.41 20L4 18.59l7.72-7.72 1.47 1.35L5.41 20z\"/>\n",
              "  </svg>\n",
              "      </button>\n",
              "      \n",
              "  <style>\n",
              "    .colab-df-container {\n",
              "      display:flex;\n",
              "      flex-wrap:wrap;\n",
              "      gap: 12px;\n",
              "    }\n",
              "\n",
              "    .colab-df-convert {\n",
              "      background-color: #E8F0FE;\n",
              "      border: none;\n",
              "      border-radius: 50%;\n",
              "      cursor: pointer;\n",
              "      display: none;\n",
              "      fill: #1967D2;\n",
              "      height: 32px;\n",
              "      padding: 0 0 0 0;\n",
              "      width: 32px;\n",
              "    }\n",
              "\n",
              "    .colab-df-convert:hover {\n",
              "      background-color: #E2EBFA;\n",
              "      box-shadow: 0px 1px 2px rgba(60, 64, 67, 0.3), 0px 1px 3px 1px rgba(60, 64, 67, 0.15);\n",
              "      fill: #174EA6;\n",
              "    }\n",
              "\n",
              "    [theme=dark] .colab-df-convert {\n",
              "      background-color: #3B4455;\n",
              "      fill: #D2E3FC;\n",
              "    }\n",
              "\n",
              "    [theme=dark] .colab-df-convert:hover {\n",
              "      background-color: #434B5C;\n",
              "      box-shadow: 0px 1px 3px 1px rgba(0, 0, 0, 0.15);\n",
              "      filter: drop-shadow(0px 1px 2px rgba(0, 0, 0, 0.3));\n",
              "      fill: #FFFFFF;\n",
              "    }\n",
              "  </style>\n",
              "\n",
              "      <script>\n",
              "        const buttonEl =\n",
              "          document.querySelector('#df-a78c5113-7471-4ea7-8b43-53f534f86307 button.colab-df-convert');\n",
              "        buttonEl.style.display =\n",
              "          google.colab.kernel.accessAllowed ? 'block' : 'none';\n",
              "\n",
              "        async function convertToInteractive(key) {\n",
              "          const element = document.querySelector('#df-a78c5113-7471-4ea7-8b43-53f534f86307');\n",
              "          const dataTable =\n",
              "            await google.colab.kernel.invokeFunction('convertToInteractive',\n",
              "                                                     [key], {});\n",
              "          if (!dataTable) return;\n",
              "\n",
              "          const docLinkHtml = 'Like what you see? Visit the ' +\n",
              "            '<a target=\"_blank\" href=https://colab.research.google.com/notebooks/data_table.ipynb>data table notebook</a>'\n",
              "            + ' to learn more about interactive tables.';\n",
              "          element.innerHTML = '';\n",
              "          dataTable['output_type'] = 'display_data';\n",
              "          await google.colab.output.renderOutput(dataTable, element);\n",
              "          const docLink = document.createElement('div');\n",
              "          docLink.innerHTML = docLinkHtml;\n",
              "          element.appendChild(docLink);\n",
              "        }\n",
              "      </script>\n",
              "    </div>\n",
              "  </div>\n",
              "  "
            ]
          },
          "metadata": {},
          "execution_count": 9
        }
      ]
    },
    {
      "cell_type": "markdown",
      "source": [
        "## Normalizing the data."
      ],
      "metadata": {
        "id": "u-yDWXhkSSki"
      }
    },
    {
      "cell_type": "code",
      "source": [
        "# example of a standardization\n",
        "from numpy import asarray\n",
        "from sklearn.preprocessing import StandardScaler\n",
        "scaler = StandardScaler()"
      ],
      "metadata": {
        "id": "UXGTC0QED2Mm"
      },
      "execution_count": 11,
      "outputs": []
    },
    {
      "cell_type": "code",
      "source": [
        "data[[4, 5]] = scaler.fit_transform(data[[4, 5]])\n",
        "data"
      ],
      "metadata": {
        "colab": {
          "base_uri": "https://localhost:8080/",
          "height": 424
        },
        "id": "ETOiQQVGBX9q",
        "outputId": "f630fa8b-2601-4fe7-829f-d573dc76250f"
      },
      "execution_count": 12,
      "outputs": [
        {
          "output_type": "execute_result",
          "data": {
            "text/plain": [
              "                       0       1  2                  3         4         5  \\\n",
              "0      76561197970982479    1250  1  76561197970982479 -0.003969 -0.194517   \n",
              "1      76561197970982479   22200  1  76561197970982479 -0.430972 -0.194517   \n",
              "2      76561197970982479   43110  1  76561197970982479 -0.406277 -0.194517   \n",
              "3                js41637  227300  1  76561198035864385 -0.418691 -0.194517   \n",
              "4                js41637  239030  1  76561198035864385 -0.427551 -0.194517   \n",
              "...                  ...     ... ..                ...       ...       ...   \n",
              "40310           Ghoustik     730  1  76561198308105615 -0.268768 -0.194517   \n",
              "40311  76561198312638244  233270  1  76561198312638244 -0.419480 -0.194517   \n",
              "40312  76561198312638244     130  1  76561198312638244 -0.433165 -0.194517   \n",
              "40313  76561198312638244      70  1  76561198312638244 -0.398558 -0.194517   \n",
              "40314  76561198312638244  362890  1  76561198312638244 -0.347063 -0.194517   \n",
              "\n",
              "           6  \n",
              "0          0  \n",
              "1          0  \n",
              "2          0  \n",
              "3          1  \n",
              "4          1  \n",
              "...      ...  \n",
              "40310  18739  \n",
              "40311  18740  \n",
              "40312  18740  \n",
              "40313  18740  \n",
              "40314  18740  \n",
              "\n",
              "[40315 rows x 7 columns]"
            ],
            "text/html": [
              "\n",
              "  <div id=\"df-5816a28f-d0f2-4c8a-bddb-91616365c3a3\">\n",
              "    <div class=\"colab-df-container\">\n",
              "      <div>\n",
              "<style scoped>\n",
              "    .dataframe tbody tr th:only-of-type {\n",
              "        vertical-align: middle;\n",
              "    }\n",
              "\n",
              "    .dataframe tbody tr th {\n",
              "        vertical-align: top;\n",
              "    }\n",
              "\n",
              "    .dataframe thead th {\n",
              "        text-align: right;\n",
              "    }\n",
              "</style>\n",
              "<table border=\"1\" class=\"dataframe\">\n",
              "  <thead>\n",
              "    <tr style=\"text-align: right;\">\n",
              "      <th></th>\n",
              "      <th>0</th>\n",
              "      <th>1</th>\n",
              "      <th>2</th>\n",
              "      <th>3</th>\n",
              "      <th>4</th>\n",
              "      <th>5</th>\n",
              "      <th>6</th>\n",
              "    </tr>\n",
              "  </thead>\n",
              "  <tbody>\n",
              "    <tr>\n",
              "      <th>0</th>\n",
              "      <td>76561197970982479</td>\n",
              "      <td>1250</td>\n",
              "      <td>1</td>\n",
              "      <td>76561197970982479</td>\n",
              "      <td>-0.003969</td>\n",
              "      <td>-0.194517</td>\n",
              "      <td>0</td>\n",
              "    </tr>\n",
              "    <tr>\n",
              "      <th>1</th>\n",
              "      <td>76561197970982479</td>\n",
              "      <td>22200</td>\n",
              "      <td>1</td>\n",
              "      <td>76561197970982479</td>\n",
              "      <td>-0.430972</td>\n",
              "      <td>-0.194517</td>\n",
              "      <td>0</td>\n",
              "    </tr>\n",
              "    <tr>\n",
              "      <th>2</th>\n",
              "      <td>76561197970982479</td>\n",
              "      <td>43110</td>\n",
              "      <td>1</td>\n",
              "      <td>76561197970982479</td>\n",
              "      <td>-0.406277</td>\n",
              "      <td>-0.194517</td>\n",
              "      <td>0</td>\n",
              "    </tr>\n",
              "    <tr>\n",
              "      <th>3</th>\n",
              "      <td>js41637</td>\n",
              "      <td>227300</td>\n",
              "      <td>1</td>\n",
              "      <td>76561198035864385</td>\n",
              "      <td>-0.418691</td>\n",
              "      <td>-0.194517</td>\n",
              "      <td>1</td>\n",
              "    </tr>\n",
              "    <tr>\n",
              "      <th>4</th>\n",
              "      <td>js41637</td>\n",
              "      <td>239030</td>\n",
              "      <td>1</td>\n",
              "      <td>76561198035864385</td>\n",
              "      <td>-0.427551</td>\n",
              "      <td>-0.194517</td>\n",
              "      <td>1</td>\n",
              "    </tr>\n",
              "    <tr>\n",
              "      <th>...</th>\n",
              "      <td>...</td>\n",
              "      <td>...</td>\n",
              "      <td>...</td>\n",
              "      <td>...</td>\n",
              "      <td>...</td>\n",
              "      <td>...</td>\n",
              "      <td>...</td>\n",
              "    </tr>\n",
              "    <tr>\n",
              "      <th>40310</th>\n",
              "      <td>Ghoustik</td>\n",
              "      <td>730</td>\n",
              "      <td>1</td>\n",
              "      <td>76561198308105615</td>\n",
              "      <td>-0.268768</td>\n",
              "      <td>-0.194517</td>\n",
              "      <td>18739</td>\n",
              "    </tr>\n",
              "    <tr>\n",
              "      <th>40311</th>\n",
              "      <td>76561198312638244</td>\n",
              "      <td>233270</td>\n",
              "      <td>1</td>\n",
              "      <td>76561198312638244</td>\n",
              "      <td>-0.419480</td>\n",
              "      <td>-0.194517</td>\n",
              "      <td>18740</td>\n",
              "    </tr>\n",
              "    <tr>\n",
              "      <th>40312</th>\n",
              "      <td>76561198312638244</td>\n",
              "      <td>130</td>\n",
              "      <td>1</td>\n",
              "      <td>76561198312638244</td>\n",
              "      <td>-0.433165</td>\n",
              "      <td>-0.194517</td>\n",
              "      <td>18740</td>\n",
              "    </tr>\n",
              "    <tr>\n",
              "      <th>40313</th>\n",
              "      <td>76561198312638244</td>\n",
              "      <td>70</td>\n",
              "      <td>1</td>\n",
              "      <td>76561198312638244</td>\n",
              "      <td>-0.398558</td>\n",
              "      <td>-0.194517</td>\n",
              "      <td>18740</td>\n",
              "    </tr>\n",
              "    <tr>\n",
              "      <th>40314</th>\n",
              "      <td>76561198312638244</td>\n",
              "      <td>362890</td>\n",
              "      <td>1</td>\n",
              "      <td>76561198312638244</td>\n",
              "      <td>-0.347063</td>\n",
              "      <td>-0.194517</td>\n",
              "      <td>18740</td>\n",
              "    </tr>\n",
              "  </tbody>\n",
              "</table>\n",
              "<p>40315 rows × 7 columns</p>\n",
              "</div>\n",
              "      <button class=\"colab-df-convert\" onclick=\"convertToInteractive('df-5816a28f-d0f2-4c8a-bddb-91616365c3a3')\"\n",
              "              title=\"Convert this dataframe to an interactive table.\"\n",
              "              style=\"display:none;\">\n",
              "        \n",
              "  <svg xmlns=\"http://www.w3.org/2000/svg\" height=\"24px\"viewBox=\"0 0 24 24\"\n",
              "       width=\"24px\">\n",
              "    <path d=\"M0 0h24v24H0V0z\" fill=\"none\"/>\n",
              "    <path d=\"M18.56 5.44l.94 2.06.94-2.06 2.06-.94-2.06-.94-.94-2.06-.94 2.06-2.06.94zm-11 1L8.5 8.5l.94-2.06 2.06-.94-2.06-.94L8.5 2.5l-.94 2.06-2.06.94zm10 10l.94 2.06.94-2.06 2.06-.94-2.06-.94-.94-2.06-.94 2.06-2.06.94z\"/><path d=\"M17.41 7.96l-1.37-1.37c-.4-.4-.92-.59-1.43-.59-.52 0-1.04.2-1.43.59L10.3 9.45l-7.72 7.72c-.78.78-.78 2.05 0 2.83L4 21.41c.39.39.9.59 1.41.59.51 0 1.02-.2 1.41-.59l7.78-7.78 2.81-2.81c.8-.78.8-2.07 0-2.86zM5.41 20L4 18.59l7.72-7.72 1.47 1.35L5.41 20z\"/>\n",
              "  </svg>\n",
              "      </button>\n",
              "      \n",
              "  <style>\n",
              "    .colab-df-container {\n",
              "      display:flex;\n",
              "      flex-wrap:wrap;\n",
              "      gap: 12px;\n",
              "    }\n",
              "\n",
              "    .colab-df-convert {\n",
              "      background-color: #E8F0FE;\n",
              "      border: none;\n",
              "      border-radius: 50%;\n",
              "      cursor: pointer;\n",
              "      display: none;\n",
              "      fill: #1967D2;\n",
              "      height: 32px;\n",
              "      padding: 0 0 0 0;\n",
              "      width: 32px;\n",
              "    }\n",
              "\n",
              "    .colab-df-convert:hover {\n",
              "      background-color: #E2EBFA;\n",
              "      box-shadow: 0px 1px 2px rgba(60, 64, 67, 0.3), 0px 1px 3px 1px rgba(60, 64, 67, 0.15);\n",
              "      fill: #174EA6;\n",
              "    }\n",
              "\n",
              "    [theme=dark] .colab-df-convert {\n",
              "      background-color: #3B4455;\n",
              "      fill: #D2E3FC;\n",
              "    }\n",
              "\n",
              "    [theme=dark] .colab-df-convert:hover {\n",
              "      background-color: #434B5C;\n",
              "      box-shadow: 0px 1px 3px 1px rgba(0, 0, 0, 0.15);\n",
              "      filter: drop-shadow(0px 1px 2px rgba(0, 0, 0, 0.3));\n",
              "      fill: #FFFFFF;\n",
              "    }\n",
              "  </style>\n",
              "\n",
              "      <script>\n",
              "        const buttonEl =\n",
              "          document.querySelector('#df-5816a28f-d0f2-4c8a-bddb-91616365c3a3 button.colab-df-convert');\n",
              "        buttonEl.style.display =\n",
              "          google.colab.kernel.accessAllowed ? 'block' : 'none';\n",
              "\n",
              "        async function convertToInteractive(key) {\n",
              "          const element = document.querySelector('#df-5816a28f-d0f2-4c8a-bddb-91616365c3a3');\n",
              "          const dataTable =\n",
              "            await google.colab.kernel.invokeFunction('convertToInteractive',\n",
              "                                                     [key], {});\n",
              "          if (!dataTable) return;\n",
              "\n",
              "          const docLinkHtml = 'Like what you see? Visit the ' +\n",
              "            '<a target=\"_blank\" href=https://colab.research.google.com/notebooks/data_table.ipynb>data table notebook</a>'\n",
              "            + ' to learn more about interactive tables.';\n",
              "          element.innerHTML = '';\n",
              "          dataTable['output_type'] = 'display_data';\n",
              "          await google.colab.output.renderOutput(dataTable, element);\n",
              "          const docLink = document.createElement('div');\n",
              "          docLink.innerHTML = docLinkHtml;\n",
              "          element.appendChild(docLink);\n",
              "        }\n",
              "      </script>\n",
              "    </div>\n",
              "  </div>\n",
              "  "
            ]
          },
          "metadata": {},
          "execution_count": 12
        }
      ]
    },
    {
      "cell_type": "markdown",
      "source": [
        "## Constructing and splitting the dataset."
      ],
      "metadata": {
        "id": "KxpdiuzOSZbx"
      }
    },
    {
      "cell_type": "code",
      "source": [
        "X = data[[6, 1, 4, 5]].values #,\n",
        "y = data[2]"
      ],
      "metadata": {
        "id": "eatMt6OBvKKt"
      },
      "execution_count": 13,
      "outputs": []
    },
    {
      "cell_type": "code",
      "source": [
        "type(X)"
      ],
      "metadata": {
        "colab": {
          "base_uri": "https://localhost:8080/"
        },
        "id": "X6bgPsmGcryr",
        "outputId": "7790c623-73eb-4b64-dd83-3beb53550a87"
      },
      "execution_count": 28,
      "outputs": [
        {
          "output_type": "execute_result",
          "data": {
            "text/plain": [
              "numpy.ndarray"
            ]
          },
          "metadata": {},
          "execution_count": 28
        }
      ]
    },
    {
      "cell_type": "code",
      "source": [
        "X"
      ],
      "metadata": {
        "colab": {
          "base_uri": "https://localhost:8080/"
        },
        "id": "2S1jd_4NJgZ6",
        "outputId": "0ca0eaa6-3db6-4fef-c1e9-94215aaccfc6"
      },
      "execution_count": 14,
      "outputs": [
        {
          "output_type": "execute_result",
          "data": {
            "text/plain": [
              "array([[ 0.00000000e+00,  1.25000000e+03, -3.96915275e-03,\n",
              "        -1.94516796e-01],\n",
              "       [ 0.00000000e+00,  2.22000000e+04, -4.30972069e-01,\n",
              "        -1.94516796e-01],\n",
              "       [ 0.00000000e+00,  4.31100000e+04, -4.06277396e-01,\n",
              "        -1.94516796e-01],\n",
              "       ...,\n",
              "       [ 1.87400000e+04,  1.30000000e+02, -4.33165201e-01,\n",
              "        -1.94516796e-01],\n",
              "       [ 1.87400000e+04,  7.00000000e+01, -3.98557569e-01,\n",
              "        -1.94516796e-01],\n",
              "       [ 1.87400000e+04,  3.62890000e+05, -3.47062816e-01,\n",
              "        -1.94516796e-01]])"
            ]
          },
          "metadata": {},
          "execution_count": 14
        }
      ]
    },
    {
      "cell_type": "code",
      "source": [
        "y"
      ],
      "metadata": {
        "colab": {
          "base_uri": "https://localhost:8080/"
        },
        "id": "ULEcv2cVoApV",
        "outputId": "07c8b8d9-e754-4125-c7a9-d2d922d82e1b"
      },
      "execution_count": 15,
      "outputs": [
        {
          "output_type": "execute_result",
          "data": {
            "text/plain": [
              "0        1\n",
              "1        1\n",
              "2        1\n",
              "3        1\n",
              "4        1\n",
              "        ..\n",
              "40310    1\n",
              "40311    1\n",
              "40312    1\n",
              "40313    1\n",
              "40314    1\n",
              "Name: 2, Length: 40315, dtype: int64"
            ]
          },
          "metadata": {},
          "execution_count": 15
        }
      ]
    },
    {
      "cell_type": "code",
      "source": [
        "X_train, X_val, y_train, y_val = train_test_split(X, y,stratify=y, test_size=0.25)"
      ],
      "metadata": {
        "id": "lyGXSs93JAvy"
      },
      "execution_count": 16,
      "outputs": []
    },
    {
      "cell_type": "code",
      "source": [
        "X_train.shape"
      ],
      "metadata": {
        "colab": {
          "base_uri": "https://localhost:8080/"
        },
        "id": "RbZEo1Cy97Xn",
        "outputId": "7f1445b4-1750-42e4-a0d9-ddddbc2e20b4"
      },
      "execution_count": 17,
      "outputs": [
        {
          "output_type": "execute_result",
          "data": {
            "text/plain": [
              "(30236, 4)"
            ]
          },
          "metadata": {},
          "execution_count": 17
        }
      ]
    },
    {
      "cell_type": "code",
      "source": [
        "y_train"
      ],
      "metadata": {
        "id": "nUCVd_rIMgca",
        "colab": {
          "base_uri": "https://localhost:8080/"
        },
        "outputId": "f4c4b07e-5de0-43da-f351-520b0aa8264d"
      },
      "execution_count": 18,
      "outputs": [
        {
          "output_type": "execute_result",
          "data": {
            "text/plain": [
              "35745    1\n",
              "19918    1\n",
              "11033    1\n",
              "32941    1\n",
              "12755    1\n",
              "        ..\n",
              "9212     1\n",
              "30402    1\n",
              "1046     1\n",
              "26077    1\n",
              "29262    1\n",
              "Name: 2, Length: 30236, dtype: int64"
            ]
          },
          "metadata": {},
          "execution_count": 18
        }
      ]
    },
    {
      "cell_type": "code",
      "source": [
        "X_train_array = [X_train[:, 0], X_train[:, 1], X_train[:, 2], X_train[:, 3]]\n",
        "X_val_array = [X_val[:, 0], X_val[:, 1], X_val[:, 2], X_val[:, 3]]"
      ],
      "metadata": {
        "id": "lc-c2brHMYXR"
      },
      "execution_count": 19,
      "outputs": []
    },
    {
      "cell_type": "markdown",
      "source": [
        "## Model building, with 2 weeks play hours and total play houurs as meta data."
      ],
      "metadata": {
        "id": "6M0JdVSsT5us"
      }
    },
    {
      "cell_type": "code",
      "source": [
        "in_u_dim = len(data[6].unique())\n",
        "in_g_dim = len(data[1].unique())\n",
        " \n",
        "latent_out_dim = 8 #embedding size"
      ],
      "metadata": {
        "id": "2vrCZRp9M4CD"
      },
      "execution_count": 24,
      "outputs": []
    },
    {
      "cell_type": "code",
      "source": [
        "# Embedding layers\n",
        "from keras.layers import Add, Activation, Lambda, BatchNormalization, Concatenate, Dropout, Input, Embedding, Dot, Reshape, Dense, Flatten\n",
        "from keras import regularizers\n",
        "\n",
        "def ncf(): \n",
        "    \n",
        "    user_gmf = Input(name = 'u_in_gmf', shape = [1])\n",
        "    game_gmf = Input(name = 'b_in_gmf', shape = [1])\n",
        "\n",
        "    tp_gmf = Input(name = 'tp_in_gmf', shape = [1])\n",
        "    bwp_gmf = Input(name = 'bwp_in_gmf', shape = [1])\n",
        "\n",
        "    user_embedding_gmf = Embedding(name = 'u_emb_gmf', embeddings_regularizer=regularizers.L2(0), input_dim = in_u_dim, output_dim = latent_out_dim)(user_gmf)\n",
        "    game_embedding_gmf = Embedding(name = 'g_emb_gmf', embeddings_regularizer=regularizers.L2(0), input_dim = in_g_dim, output_dim = latent_out_dim)(game_gmf)\n",
        "    #meta-----------------------------------------------------------------------------------------------------------------\n",
        "    tp_embedding_gmf = Embedding(name = 'tp_emb_gmf', embeddings_regularizer=regularizers.L2(0), input_dim = in_u_dim, output_dim = latent_out_dim)(tp_gmf)\n",
        "    bwp_embedding_gmf = Embedding(name = 'bwp_emb_gmf', embeddings_regularizer=regularizers.L2(0), input_dim = in_u_dim, output_dim = latent_out_dim)(bwp_gmf)\n",
        "    #----------------------------------------------------------------------------------------------------------------------\n",
        "\n",
        "   # x = tf.keras.layers.Multiply()([user_embedding_gmf, game_embedding_gmf,age_embedding_gmf])\n",
        "   # x = Model(inputs=[user_gmf,game_gmf,age_gmf], outputs=x)\n",
        "    x = tf.keras.layers.Multiply()([user_embedding_gmf, game_embedding_gmf, tp_embedding_gmf, bwp_embedding_gmf])\n",
        "    x = Model(inputs=[user_gmf,game_gmf,tp_gmf, bwp_gmf], outputs=x)\n",
        "\n",
        "\n",
        "    user_mlp = Input(name = 'u_in_mlp', shape = [1])\n",
        "    game_mlp = Input(name = 'g_in_mlp', shape = [1])\n",
        "    tp_mlp = Input(name = 'tp_in_mlp', shape = [1])\n",
        "    bwp_mlp = Input(name = 'bwp_in_mlp', shape = [1])\n",
        "    # age_mlp = Input(name = 'a_in_mlp', shape = [1])\n",
        "\n",
        "\n",
        "    user_embedding_mlp = Embedding(name = 'u_emb_mlp', embeddings_regularizer=regularizers.L2(0), input_dim = in_u_dim,output_dim = latent_out_dim)(user_mlp)\n",
        "    game_embedding_mlp = Embedding(name = 'g_emb_mlp', embeddings_regularizer=regularizers.L2(0), input_dim = in_g_dim, output_dim = latent_out_dim)(game_mlp)\n",
        " \n",
        "    tp_embedding_mlp = Embedding(name = 'tp_emb_mlp', embeddings_regularizer=regularizers.L2(0), input_dim = in_g_dim, output_dim = latent_out_dim)(tp_mlp)\n",
        "    bwp_embedding_mlp = Embedding(name = 'bwp_emb_mlp', embeddings_regularizer=regularizers.L2(0), input_dim = in_g_dim, output_dim = latent_out_dim)(bwp_mlp)\n",
        "\n",
        "    #meta-----------------------------------------------------------------------------------------------------------------\n",
        "    # age_embedding_mlp = Embedding(name = 'a_emb_mlp', embeddings_regularizer=regularizers.L2(0), input_dim = in_u_dim, output_dim = latent_out_dim)(age_mlp)\n",
        "    #----------------------------------------------------------------------------------------------------------------------\n",
        "\n",
        "\n",
        "    y = tf.keras.layers.Concatenate()([user_embedding_mlp, game_embedding_mlp, tp_embedding_mlp, bwp_embedding_mlp])\n",
        "\n",
        "\n",
        "\n",
        "   # y = tf.keras.layers.Concatenate()([user_embedding_mlp, game_embedding_mlp,age_embedding_mlp])\n",
        "    y = Flatten()(y)\n",
        "\n",
        "    y = keras.layers.Dense(64, activation='relu', kernel_regularizer=regularizers.L2(0))(y) \n",
        "    y = keras.layers.Dense(32, activation='relu', kernel_regularizer=regularizers.L2(0))(y) \n",
        "    y = keras.layers.Dense(16, activation='relu', kernel_regularizer=regularizers.L2(0))(y) \n",
        "    y = keras.layers.Dense(8, activation='relu', kernel_regularizer=regularizers.L2(0))(y) \n",
        "    y = keras.layers.Reshape([1, 8])(y)\n",
        "    #y = Model(inputs=[user_mlp,game_mlp,age_mlp], outputs=y)\n",
        "\n",
        "\n",
        "    y = Model(inputs=[user_mlp,game_mlp, tp_mlp, bwp_mlp], outputs=y)\n",
        "\n",
        "\n",
        "\n",
        "    combined = tf.keras.layers.Concatenate()([x.output, y.output])\n",
        "    z = Dense(1, kernel_initializer='lecun_uniform')(combined)\n",
        "    z = Activation(\"sigmoid\")(z)\n",
        "  \n",
        "    model = Model(inputs=[[user_gmf,game_gmf, tp_gmf, bwp_gmf], [user_mlp, game_mlp, tp_mlp, bwp_mlp]], outputs=z)\n",
        "#    model = Model(inputs=[[user_gmf,game_gmf,age_gmf], [user_mlp,game_mlp,age_mlp]], outputs=z)\n",
        "    opt = keras.optimizers.Adam(learning_rate=0.001)\n",
        "    model.compile(optimizer=opt, loss='mse', metrics=[tf.keras.metrics.RootMeanSquaredError()])\n",
        "    \n",
        "    return model\n",
        "\n",
        "with tpu_strategy.scope(): # creating the model in the TPUStrategy scope means we will train the model on the TPU\n",
        "  model = ncf()\n",
        "model.summary()\n",
        "#https://colab.research.google.com/notebooks/tpu.ipynb#scrollTo=hJl3vNtJOB-x"
      ],
      "metadata": {
        "colab": {
          "base_uri": "https://localhost:8080/"
        },
        "id": "g-f4PhY4NCPh",
        "outputId": "03a74105-62d3-406a-8768-2d20fec85e7f"
      },
      "execution_count": 25,
      "outputs": [
        {
          "output_type": "stream",
          "name": "stdout",
          "text": [
            "Model: \"model_5\"\n",
            "__________________________________________________________________________________________________\n",
            " Layer (type)                   Output Shape         Param #     Connected to                     \n",
            "==================================================================================================\n",
            " u_in_mlp (InputLayer)          [(None, 1)]          0           []                               \n",
            "                                                                                                  \n",
            " g_in_mlp (InputLayer)          [(None, 1)]          0           []                               \n",
            "                                                                                                  \n",
            " tp_in_mlp (InputLayer)         [(None, 1)]          0           []                               \n",
            "                                                                                                  \n",
            " bwp_in_mlp (InputLayer)        [(None, 1)]          0           []                               \n",
            "                                                                                                  \n",
            " u_emb_mlp (Embedding)          (None, 1, 8)         149928      ['u_in_mlp[0][0]']               \n",
            "                                                                                                  \n",
            " g_emb_mlp (Embedding)          (None, 1, 8)         7296        ['g_in_mlp[0][0]']               \n",
            "                                                                                                  \n",
            " tp_emb_mlp (Embedding)         (None, 1, 8)         7296        ['tp_in_mlp[0][0]']              \n",
            "                                                                                                  \n",
            " bwp_emb_mlp (Embedding)        (None, 1, 8)         7296        ['bwp_in_mlp[0][0]']             \n",
            "                                                                                                  \n",
            " concatenate_2 (Concatenate)    (None, 1, 32)        0           ['u_emb_mlp[0][0]',              \n",
            "                                                                  'g_emb_mlp[0][0]',              \n",
            "                                                                  'tp_emb_mlp[0][0]',             \n",
            "                                                                  'bwp_emb_mlp[0][0]']            \n",
            "                                                                                                  \n",
            " flatten_1 (Flatten)            (None, 32)           0           ['concatenate_2[0][0]']          \n",
            "                                                                                                  \n",
            " dense_5 (Dense)                (None, 64)           2112        ['flatten_1[0][0]']              \n",
            "                                                                                                  \n",
            " dense_6 (Dense)                (None, 32)           2080        ['dense_5[0][0]']                \n",
            "                                                                                                  \n",
            " u_in_gmf (InputLayer)          [(None, 1)]          0           []                               \n",
            "                                                                                                  \n",
            " b_in_gmf (InputLayer)          [(None, 1)]          0           []                               \n",
            "                                                                                                  \n",
            " tp_in_gmf (InputLayer)         [(None, 1)]          0           []                               \n",
            "                                                                                                  \n",
            " bwp_in_gmf (InputLayer)        [(None, 1)]          0           []                               \n",
            "                                                                                                  \n",
            " dense_7 (Dense)                (None, 16)           528         ['dense_6[0][0]']                \n",
            "                                                                                                  \n",
            " u_emb_gmf (Embedding)          (None, 1, 8)         149928      ['u_in_gmf[0][0]']               \n",
            "                                                                                                  \n",
            " g_emb_gmf (Embedding)          (None, 1, 8)         7296        ['b_in_gmf[0][0]']               \n",
            "                                                                                                  \n",
            " tp_emb_gmf (Embedding)         (None, 1, 8)         149928      ['tp_in_gmf[0][0]']              \n",
            "                                                                                                  \n",
            " bwp_emb_gmf (Embedding)        (None, 1, 8)         149928      ['bwp_in_gmf[0][0]']             \n",
            "                                                                                                  \n",
            " dense_8 (Dense)                (None, 8)            136         ['dense_7[0][0]']                \n",
            "                                                                                                  \n",
            " multiply_1 (Multiply)          (None, 1, 8)         0           ['u_emb_gmf[0][0]',              \n",
            "                                                                  'g_emb_gmf[0][0]',              \n",
            "                                                                  'tp_emb_gmf[0][0]',             \n",
            "                                                                  'bwp_emb_gmf[0][0]']            \n",
            "                                                                                                  \n",
            " reshape_1 (Reshape)            (None, 1, 8)         0           ['dense_8[0][0]']                \n",
            "                                                                                                  \n",
            " concatenate_3 (Concatenate)    (None, 1, 16)        0           ['multiply_1[0][0]',             \n",
            "                                                                  'reshape_1[0][0]']              \n",
            "                                                                                                  \n",
            " dense_9 (Dense)                (None, 1, 1)         17          ['concatenate_3[0][0]']          \n",
            "                                                                                                  \n",
            " activation_1 (Activation)      (None, 1, 1)         0           ['dense_9[0][0]']                \n",
            "                                                                                                  \n",
            "==================================================================================================\n",
            "Total params: 633,769\n",
            "Trainable params: 633,769\n",
            "Non-trainable params: 0\n",
            "__________________________________________________________________________________________________\n"
          ]
        }
      ]
    },
    {
      "cell_type": "markdown",
      "source": [
        "## Model training"
      ],
      "metadata": {
        "id": "cZeI33HfUFMx"
      }
    },
    {
      "cell_type": "code",
      "source": [
        "from tensorflow.core.protobuf.tpu.optimization_parameters_pb2 import LearningRate\n",
        "# Model training\n",
        "batch_size = 2048\n",
        "\n",
        "history = model.fit(\n",
        "    x=[X_train_array,X_train_array],\n",
        "    y=[y_train,y_train],\n",
        "    batch_size=batch_size,\n",
        "    epochs=7,\n",
        "    verbose=1,\n",
        "    validation_data=([X_val_array, X_val_array], [y_val, y_val])\n",
        ")\n",
        "\n"
      ],
      "metadata": {
        "colab": {
          "base_uri": "https://localhost:8080/"
        },
        "id": "tMV1AJ_pR41J",
        "outputId": "2d54b9d7-c791-43f8-9dc9-b14b0d8c09ea"
      },
      "execution_count": 26,
      "outputs": [
        {
          "output_type": "stream",
          "name": "stdout",
          "text": [
            "Epoch 1/7\n",
            "15/15 [==============================] - 23s 895ms/step - loss: 0.4538 - root_mean_squared_error: 0.6737 - val_loss: 0.4519 - val_root_mean_squared_error: 0.6722\n",
            "Epoch 2/7\n",
            "15/15 [==============================] - 2s 168ms/step - loss: 0.4501 - root_mean_squared_error: 0.6709 - val_loss: 0.4475 - val_root_mean_squared_error: 0.6689\n",
            "Epoch 3/7\n",
            "15/15 [==============================] - 1s 83ms/step - loss: 0.4436 - root_mean_squared_error: 0.6660 - val_loss: 0.4372 - val_root_mean_squared_error: 0.6612\n",
            "Epoch 4/7\n",
            "15/15 [==============================] - 1s 89ms/step - loss: 0.4265 - root_mean_squared_error: 0.6531 - val_loss: 0.4097 - val_root_mean_squared_error: 0.6401\n",
            "Epoch 5/7\n",
            "15/15 [==============================] - 1s 76ms/step - loss: 0.3871 - root_mean_squared_error: 0.6222 - val_loss: 0.3685 - val_root_mean_squared_error: 0.6071\n",
            "Epoch 6/7\n",
            "15/15 [==============================] - 1s 101ms/step - loss: 0.3611 - root_mean_squared_error: 0.6009 - val_loss: 0.3657 - val_root_mean_squared_error: 0.6047\n",
            "Epoch 7/7\n",
            "15/15 [==============================] - 1s 80ms/step - loss: 0.3520 - root_mean_squared_error: 0.5933 - val_loss: 0.3628 - val_root_mean_squared_error: 0.6024\n"
          ]
        }
      ]
    },
    {
      "cell_type": "code",
      "source": [
        "model.save('NCF_with_meta.h5')"
      ],
      "metadata": {
        "id": "6ZGqZh3hXpuB"
      },
      "execution_count": 27,
      "outputs": []
    },
    {
      "cell_type": "markdown",
      "source": [
        "## Predicting games for user"
      ],
      "metadata": {
        "id": "4JwE5OkXs65e"
      }
    },
    {
      "cell_type": "code",
      "source": [
        "import csv\n",
        "reader = csv.reader(open('/content/user_id_map.csv', 'r'))\n",
        "user_map = {}\n",
        "for row in reader:\n",
        "   k, v = row\n",
        "   user_map[k] = v"
      ],
      "metadata": {
        "id": "qAplys4lo8_U"
      },
      "execution_count": 54,
      "outputs": []
    },
    {
      "cell_type": "code",
      "source": [
        "reader = csv.reader(open('/content/item_id_game_name_map.csv', 'r'))\n",
        "game_map = {}\n",
        "for row in reader:\n",
        "   k, v = row\n",
        "   game_map[k] = v"
      ],
      "metadata": {
        "id": "3GaC8uqSrCfJ"
      },
      "execution_count": 61,
      "outputs": []
    },
    {
      "cell_type": "code",
      "source": [
        "from scipy.sparse import data\n",
        "e = 0\n",
        "final_game_set = set()\n",
        "\n",
        "for index, row in c.iterrows():\n",
        "    try:\n",
        "        # print(str(row[1]))\n",
        "        final_game_set.add(row[1])\n",
        "    except:\n",
        "        e = e + 1\n",
        "        pass"
      ],
      "metadata": {
        "id": "o7d8RIacf9Fn"
      },
      "execution_count": 33,
      "outputs": []
    },
    {
      "cell_type": "code",
      "source": [
        "def get_top_n(n, username, model):\n",
        "  input_X = pd.DataFrame(final_game_set)\n",
        "  input_X[1] = int (user_map[username])\n",
        "  input_X[2] = 0 \n",
        "  input_X[3] = 0\n",
        "  \n",
        "  X_input = input_X[[1, 0, 2, 3]].values\n",
        "  X_input = [X_input[:, 0], X_input[:, 1], X_input[:, 2], X_input[:, 3]]\n",
        "  test_pred = model.predict([X_input, X_input])\n",
        "\n",
        "  l = test_pred.tolist()\n",
        "  tmp = []\n",
        "\n",
        "  for l1 in l:\n",
        "    for l2 in l1:\n",
        "      for l3 in l2:\n",
        "        tmp.append(l3)\n",
        "\n",
        "  input_X['score'] = tmp\n",
        "  game_ids = input_X.sort_values('score', ascending = False)[0: n][0].tolist()\n",
        "  for game in game_ids:\n",
        "    print(game_map[str(game)])\n",
        "\n"
      ],
      "metadata": {
        "id": "j13_bZ0johyE"
      },
      "execution_count": 66,
      "outputs": []
    },
    {
      "cell_type": "markdown",
      "source": [
        "## Testing"
      ],
      "metadata": {
        "id": "WGONWMMetAa1"
      }
    },
    {
      "cell_type": "code",
      "source": [
        "get_top_n(5, 'thefreak9', model)\n"
      ],
      "metadata": {
        "colab": {
          "base_uri": "https://localhost:8080/"
        },
        "id": "M3Vyc-vHgn8b",
        "outputId": "117b5939-2bb9-4d98-c20a-b0de2663a0b4"
      },
      "execution_count": 67,
      "outputs": [
        {
          "output_type": "stream",
          "name": "stdout",
          "text": [
            "29/29 [==============================] - 1s 15ms/step\n",
            "Counter-Strike: Source\n",
            "Portal\n",
            "Left 4 Dead 2\n",
            "Half-Life\n",
            "Portal 2\n"
          ]
        }
      ]
    }
  ]
}