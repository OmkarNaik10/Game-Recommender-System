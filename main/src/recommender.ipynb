{
 "cells": [
  {
   "cell_type": "code",
   "execution_count": 1,
   "metadata": {},
   "outputs": [
    {
     "name": "stderr",
     "output_type": "stream",
     "text": [
      "23/04/30 13:23:50 WARN Utils: Your hostname, codys-MacBook-Pro-2.local resolves to a loopback address: 127.0.0.1; using 10.250.43.25 instead (on interface en0)\n",
      "23/04/30 13:23:50 WARN Utils: Set SPARK_LOCAL_IP if you need to bind to another address\n",
      "Setting default log level to \"WARN\".\n",
      "To adjust logging level use sc.setLogLevel(newLevel). For SparkR, use setLogLevel(newLevel).\n",
      "23/04/30 13:23:51 WARN NativeCodeLoader: Unable to load native-hadoop library for your platform... using builtin-java classes where applicable\n"
     ]
    }
   ],
   "source": [
    "from pyspark.mllib.recommendation import ALS, MatrixFactorizationModel, Rating\n",
    "from pyspark import SparkContext\n",
    "sc =SparkContext()\n",
    "\n",
    "\n",
    "import csv\n",
    "\n"
   ]
  },
  {
   "cell_type": "code",
   "execution_count": 41,
   "metadata": {},
   "outputs": [],
   "source": [
    "import pandas as pd"
   ]
  },
  {
   "attachments": {},
   "cell_type": "markdown",
   "metadata": {},
   "source": [
    "## Loading mappings and game dataframe"
   ]
  },
  {
   "cell_type": "code",
   "execution_count": 14,
   "metadata": {},
   "outputs": [],
   "source": [
    "reader = csv.reader(open('/Users/codyyu/Desktop/CMPE 256/steam/data/item_id_game_name_map.csv', 'r'))\n",
    "game_map = {}\n",
    "for row in reader:\n",
    "   k, v = row\n",
    "   game_map[k] = v"
   ]
  },
  {
   "cell_type": "code",
   "execution_count": 15,
   "metadata": {},
   "outputs": [],
   "source": [
    "reader = csv.reader(open('/Users/codyyu/Desktop/CMPE 256/steam/data/user_id_map.csv', 'r'))\n",
    "user_map = {}\n",
    "for row in reader:\n",
    "   k, v = row\n",
    "   user_map[k] = v"
   ]
  },
  {
   "cell_type": "code",
   "execution_count": 42,
   "metadata": {},
   "outputs": [],
   "source": [
    "game_df = pd.read_csv('/Users/codyyu/Desktop/CMPE 256/steam/data/steam_games.csv', index_col=0)\n"
   ]
  },
  {
   "attachments": {},
   "cell_type": "markdown",
   "metadata": {},
   "source": [
    "## Loading the ALS_MF model."
   ]
  },
  {
   "cell_type": "code",
   "execution_count": 7,
   "metadata": {},
   "outputs": [
    {
     "name": "stderr",
     "output_type": "stream",
     "text": [
      "23/04/30 13:26:35 WARN MatrixFactorizationModel: User factor does not have a partitioner. Prediction on individual records could be slow.\n",
      "23/04/30 13:26:35 WARN MatrixFactorizationModel: User factor is not cached. Prediction could be slow.\n",
      "23/04/30 13:26:35 WARN MatrixFactorizationModel: Product factor does not have a partitioner. Prediction on individual records could be slow.\n",
      "23/04/30 13:26:35 WARN MatrixFactorizationModel: Product factor is not cached. Prediction could be slow.\n",
      "23/04/30 13:26:36 WARN MatrixFactorizationModelWrapper: User factor does not have a partitioner. Prediction on individual records could be slow.\n",
      "23/04/30 13:26:36 WARN MatrixFactorizationModelWrapper: User factor is not cached. Prediction could be slow.\n",
      "23/04/30 13:26:36 WARN MatrixFactorizationModelWrapper: Product factor does not have a partitioner. Prediction on individual records could be slow.\n",
      "23/04/30 13:26:36 WARN MatrixFactorizationModelWrapper: Product factor is not cached. Prediction could be slow.\n"
     ]
    }
   ],
   "source": [
    "ALS_MF_model = MatrixFactorizationModel.load(sc, \"model/ALSCollaborativeFilter\")"
   ]
  },
  {
   "cell_type": "code",
   "execution_count": 7,
   "metadata": {},
   "outputs": [
    {
     "name": "stderr",
     "output_type": "stream",
     "text": [
      "23/04/29 20:41:14 WARN InstanceBuilder: Failed to load implementation from:dev.ludovic.netlib.blas.JNIBLAS\n"
     ]
    },
    {
     "data": {
      "text/plain": [
       "-0.21444009655692564"
      ]
     },
     "execution_count": 7,
     "metadata": {},
     "output_type": "execute_result"
    }
   ],
   "source": [
    "ALS_MF_model.predict(4, 10)"
   ]
  },
  {
   "cell_type": "code",
   "execution_count": 9,
   "metadata": {},
   "outputs": [
    {
     "name": "stderr",
     "output_type": "stream",
     "text": [
      "23/04/30 13:26:50 WARN InstanceBuilder: Failed to load implementation from:dev.ludovic.netlib.blas.JNIBLAS\n"
     ]
    },
    {
     "data": {
      "text/plain": [
       "[Rating(user=1, product=110800, rating=1.2631208871169841),\n",
       " Rating(user=1, product=233150, rating=1.1833107519733348)]"
      ]
     },
     "execution_count": 9,
     "metadata": {},
     "output_type": "execute_result"
    }
   ],
   "source": [
    "ALS_MF_model.recommendProducts(1, 2)"
   ]
  },
  {
   "cell_type": "code",
   "execution_count": 59,
   "metadata": {},
   "outputs": [],
   "source": [
    "def get_top_n_from_als(n, username, als_model):\n",
    "    items = als_model.recommendProducts(int (user_map[username]), n)\n",
    "    for item in items:\n",
    "        print(game_map[str(item[1])], game_df[game_df['id'] == item[1]]['url'].iloc[0])\n",
    "    return "
   ]
  },
  {
   "attachments": {},
   "cell_type": "markdown",
   "metadata": {},
   "source": [
    "##  Make predictions for test user."
   ]
  },
  {
   "cell_type": "code",
   "execution_count": 60,
   "metadata": {},
   "outputs": [
    {
     "data": {
      "text/plain": [
       "'6424'"
      ]
     },
     "execution_count": 60,
     "metadata": {},
     "output_type": "execute_result"
    }
   ],
   "source": [
    "test_user_name = 'thefreak9'\n",
    "user_map[test_user_name]"
   ]
  },
  {
   "cell_type": "code",
   "execution_count": 61,
   "metadata": {},
   "outputs": [
    {
     "name": "stdout",
     "output_type": "stream",
     "text": [
      "Medal of Honor™ http://store.steampowered.com/app/47790/Medal_of_Honor/\n",
      "WildStar http://store.steampowered.com/app/376570/WildStar/\n",
      "The Banner Saga http://store.steampowered.com/app/237990/The_Banner_Saga/\n",
      "Saints Row: Gat out of Hell http://store.steampowered.com/app/301910/Saints_Row_Gat_out_of_Hell/\n",
      "Valkyria Chronicles™ http://store.steampowered.com/app/294860/Valkyria_Chronicles/\n"
     ]
    }
   ],
   "source": [
    "get_top_n_from_als(5, 'thefreak9', ALS_MF_model)"
   ]
  }
 ],
 "metadata": {
  "kernelspec": {
   "display_name": "base",
   "language": "python",
   "name": "python3"
  },
  "language_info": {
   "codemirror_mode": {
    "name": "ipython",
    "version": 3
   },
   "file_extension": ".py",
   "mimetype": "text/x-python",
   "name": "python",
   "nbconvert_exporter": "python",
   "pygments_lexer": "ipython3",
   "version": "3.9.7"
  },
  "orig_nbformat": 4
 },
 "nbformat": 4,
 "nbformat_minor": 2
}
